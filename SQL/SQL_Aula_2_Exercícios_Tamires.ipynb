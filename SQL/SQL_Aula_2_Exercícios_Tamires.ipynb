{
  "nbformat": 4,
  "nbformat_minor": 0,
  "metadata": {
    "colab": {
      "provenance": []
    },
    "kernelspec": {
      "name": "python3",
      "display_name": "Python 3"
    },
    "language_info": {
      "name": "python"
    }
  },
  "cells": [
    {
      "cell_type": "markdown",
      "source": [
        "# Setup"
      ],
      "metadata": {
        "id": "GKBpPOP0_P0c"
      }
    },
    {
      "cell_type": "code",
      "execution_count": null,
      "metadata": {
        "id": "s8MPmZxL_NnW",
        "colab": {
          "base_uri": "https://localhost:8080/"
        },
        "outputId": "2a41b433-427c-4b8d-9fc5-fad5f85eae7b"
      },
      "outputs": [
        {
          "output_type": "stream",
          "name": "stdout",
          "text": [
            "Collecting jupysql\n",
            "  Downloading jupysql-0.9.0-py3-none-any.whl (78 kB)\n",
            "\u001b[2K     \u001b[90m━━━━━━━━━━━━━━━━━━━━━━━━━━━━━━━━━━━━━━━\u001b[0m \u001b[32m78.9/78.9 kB\u001b[0m \u001b[31m704.9 kB/s\u001b[0m eta \u001b[36m0:00:00\u001b[0m\n",
            "\u001b[?25hRequirement already satisfied: prettytable in /usr/local/lib/python3.10/dist-packages (from jupysql) (0.7.2)\n",
            "Requirement already satisfied: ipython in /usr/local/lib/python3.10/dist-packages (from jupysql) (7.34.0)\n",
            "Requirement already satisfied: sqlalchemy in /usr/local/lib/python3.10/dist-packages (from jupysql) (2.0.19)\n",
            "Requirement already satisfied: sqlparse in /usr/local/lib/python3.10/dist-packages (from jupysql) (0.4.4)\n",
            "Requirement already satisfied: ipython-genutils>=0.1.0 in /usr/local/lib/python3.10/dist-packages (from jupysql) (0.2.0)\n",
            "Collecting sqlglot (from jupysql)\n",
            "  Downloading sqlglot-17.11.0-py3-none-any.whl (288 kB)\n",
            "\u001b[2K     \u001b[90m━━━━━━━━━━━━━━━━━━━━━━━━━━━━━━━━━━━━━━━\u001b[0m \u001b[32m288.5/288.5 kB\u001b[0m \u001b[31m7.2 MB/s\u001b[0m eta \u001b[36m0:00:00\u001b[0m\n",
            "\u001b[?25hRequirement already satisfied: jinja2 in /usr/local/lib/python3.10/dist-packages (from jupysql) (3.1.2)\n",
            "Collecting ploomber-core>=0.2.7 (from jupysql)\n",
            "  Downloading ploomber_core-0.2.13-py3-none-any.whl (21 kB)\n",
            "Requirement already satisfied: click in /usr/local/lib/python3.10/dist-packages (from ploomber-core>=0.2.7->jupysql) (8.1.6)\n",
            "Requirement already satisfied: pyyaml in /usr/local/lib/python3.10/dist-packages (from ploomber-core>=0.2.7->jupysql) (6.0.1)\n",
            "Collecting posthog (from ploomber-core>=0.2.7->jupysql)\n",
            "  Downloading posthog-3.0.1-py2.py3-none-any.whl (37 kB)\n",
            "Requirement already satisfied: setuptools>=18.5 in /usr/local/lib/python3.10/dist-packages (from ipython->jupysql) (67.7.2)\n",
            "Collecting jedi>=0.16 (from ipython->jupysql)\n",
            "  Downloading jedi-0.19.0-py2.py3-none-any.whl (1.6 MB)\n",
            "\u001b[2K     \u001b[90m━━━━━━━━━━━━━━━━━━━━━━━━━━━━━━━━━━━━━━━━\u001b[0m \u001b[32m1.6/1.6 MB\u001b[0m \u001b[31m37.5 MB/s\u001b[0m eta \u001b[36m0:00:00\u001b[0m\n",
            "\u001b[?25hRequirement already satisfied: decorator in /usr/local/lib/python3.10/dist-packages (from ipython->jupysql) (4.4.2)\n",
            "Requirement already satisfied: pickleshare in /usr/local/lib/python3.10/dist-packages (from ipython->jupysql) (0.7.5)\n",
            "Requirement already satisfied: traitlets>=4.2 in /usr/local/lib/python3.10/dist-packages (from ipython->jupysql) (5.7.1)\n",
            "Requirement already satisfied: prompt-toolkit!=3.0.0,!=3.0.1,<3.1.0,>=2.0.0 in /usr/local/lib/python3.10/dist-packages (from ipython->jupysql) (3.0.39)\n",
            "Requirement already satisfied: pygments in /usr/local/lib/python3.10/dist-packages (from ipython->jupysql) (2.14.0)\n",
            "Requirement already satisfied: backcall in /usr/local/lib/python3.10/dist-packages (from ipython->jupysql) (0.2.0)\n",
            "Requirement already satisfied: matplotlib-inline in /usr/local/lib/python3.10/dist-packages (from ipython->jupysql) (0.1.6)\n",
            "Requirement already satisfied: pexpect>4.3 in /usr/local/lib/python3.10/dist-packages (from ipython->jupysql) (4.8.0)\n",
            "Requirement already satisfied: MarkupSafe>=2.0 in /usr/local/lib/python3.10/dist-packages (from jinja2->jupysql) (2.1.3)\n",
            "Requirement already satisfied: typing-extensions>=4.2.0 in /usr/local/lib/python3.10/dist-packages (from sqlalchemy->jupysql) (4.7.1)\n",
            "Requirement already satisfied: greenlet!=0.4.17 in /usr/local/lib/python3.10/dist-packages (from sqlalchemy->jupysql) (2.0.2)\n",
            "Requirement already satisfied: parso<0.9.0,>=0.8.3 in /usr/local/lib/python3.10/dist-packages (from jedi>=0.16->ipython->jupysql) (0.8.3)\n",
            "Requirement already satisfied: ptyprocess>=0.5 in /usr/local/lib/python3.10/dist-packages (from pexpect>4.3->ipython->jupysql) (0.7.0)\n",
            "Requirement already satisfied: wcwidth in /usr/local/lib/python3.10/dist-packages (from prompt-toolkit!=3.0.0,!=3.0.1,<3.1.0,>=2.0.0->ipython->jupysql) (0.2.6)\n",
            "Requirement already satisfied: requests<3.0,>=2.7 in /usr/local/lib/python3.10/dist-packages (from posthog->ploomber-core>=0.2.7->jupysql) (2.31.0)\n",
            "Requirement already satisfied: six>=1.5 in /usr/local/lib/python3.10/dist-packages (from posthog->ploomber-core>=0.2.7->jupysql) (1.16.0)\n",
            "Collecting monotonic>=1.5 (from posthog->ploomber-core>=0.2.7->jupysql)\n",
            "  Downloading monotonic-1.6-py2.py3-none-any.whl (8.2 kB)\n",
            "Collecting backoff>=1.10.0 (from posthog->ploomber-core>=0.2.7->jupysql)\n",
            "  Downloading backoff-2.2.1-py3-none-any.whl (15 kB)\n",
            "Requirement already satisfied: python-dateutil>2.1 in /usr/local/lib/python3.10/dist-packages (from posthog->ploomber-core>=0.2.7->jupysql) (2.8.2)\n",
            "Requirement already satisfied: charset-normalizer<4,>=2 in /usr/local/lib/python3.10/dist-packages (from requests<3.0,>=2.7->posthog->ploomber-core>=0.2.7->jupysql) (3.2.0)\n",
            "Requirement already satisfied: idna<4,>=2.5 in /usr/local/lib/python3.10/dist-packages (from requests<3.0,>=2.7->posthog->ploomber-core>=0.2.7->jupysql) (3.4)\n",
            "Requirement already satisfied: urllib3<3,>=1.21.1 in /usr/local/lib/python3.10/dist-packages (from requests<3.0,>=2.7->posthog->ploomber-core>=0.2.7->jupysql) (1.26.16)\n",
            "Requirement already satisfied: certifi>=2017.4.17 in /usr/local/lib/python3.10/dist-packages (from requests<3.0,>=2.7->posthog->ploomber-core>=0.2.7->jupysql) (2023.7.22)\n",
            "Installing collected packages: sqlglot, monotonic, jedi, backoff, posthog, ploomber-core, jupysql\n",
            "Successfully installed backoff-2.2.1 jedi-0.19.0 jupysql-0.9.0 monotonic-1.6 ploomber-core-0.2.13 posthog-3.0.1 sqlglot-17.11.0\n"
          ]
        }
      ],
      "source": [
        "!pip install jupysql"
      ]
    },
    {
      "cell_type": "code",
      "source": [
        "%load_ext sql"
      ],
      "metadata": {
        "id": "pZ35BFjB_Rxd"
      },
      "execution_count": null,
      "outputs": []
    },
    {
      "cell_type": "code",
      "source": [
        "%sql sqlite:///"
      ],
      "metadata": {
        "id": "LXYwQKFh_Sx9"
      },
      "execution_count": null,
      "outputs": []
    },
    {
      "cell_type": "markdown",
      "source": [
        "# Exercícios"
      ],
      "metadata": {
        "id": "S0GVXMG__U5S"
      }
    },
    {
      "cell_type": "markdown",
      "source": [
        "1. Crie uma tabela chamada \"clientes\" com as colunas \"id\" (integer), \"nome\" (text) e \"email\" (text)."
      ],
      "metadata": {
        "id": "pjQKJ5Y5_W1h"
      }
    },
    {
      "cell_type": "code",
      "source": [
        "# Atividade 1: Os ID das tabelas devem ter auto incremento, assim, você deixa a cargo do banco de dados adicionar um ID\n",
        "# exclusivo para cada registro da tabela.\n",
        "%%sql\n",
        "\n",
        "CREATE TABLE clientes (\n",
        "\tid INTEGER PRIMARY KEY,\n",
        "\tnome TEXT,\n",
        "\temail TEXT\n",
        ");"
      ],
      "metadata": {
        "id": "LMhmooz2_UXv",
        "colab": {
          "base_uri": "https://localhost:8080/",
          "height": 52
        },
        "outputId": "c65d0bb8-1b17-4859-b8f4-62a700fb5d86"
      },
      "execution_count": null,
      "outputs": [
        {
          "output_type": "display_data",
          "data": {
            "text/plain": [
              "Running query in 'sqlite:///'"
            ],
            "text/html": [
              "<span style=\"None\">Running query in &#x27;sqlite:///&#x27;</span>"
            ]
          },
          "metadata": {}
        },
        {
          "output_type": "execute_result",
          "data": {
            "text/plain": [
              "++\n",
              "||\n",
              "++\n",
              "++"
            ],
            "text/html": [
              "<table>\n",
              "    <tr>\n",
              "    </tr>\n",
              "</table>\n",
              "<span style='font-style:italic;font-size:11px'><code>ResultSet</code> : to convert to pandas, call <a href='https://jupysql.ploomber.io/en/latest/integrations/pandas.html'><code>.DataFrame()</code></a> or to polars, call <a href='https://jupysql.ploomber.io/en/latest/integrations/polars.html'><code>.PolarsDataFrame()</code></a></span><br>"
            ]
          },
          "metadata": {},
          "execution_count": 4
        }
      ]
    },
    {
      "cell_type": "markdown",
      "source": [
        "2. Crie uma tabela chamada \"produtos\" com as colunas \"id\" (integer), \"nome\" (text), \"preco\" (numeric) e \"quantidade\" (integer)."
      ],
      "metadata": {
        "id": "b2Phsc8y_bb7"
      }
    },
    {
      "cell_type": "code",
      "source": [
        "%%sql\n",
        "\n",
        "CREATE TABLE produtos (\n",
        "\tid INTEGER PRIMARY KEY,\n",
        "\tnome TEXT,\n",
        "\tpreco NUMERIC,\n",
        "  quantidade INTEGER\n",
        ");"
      ],
      "metadata": {
        "id": "9cLSNPrn_aiP",
        "colab": {
          "base_uri": "https://localhost:8080/",
          "height": 52
        },
        "outputId": "3f180c36-4283-48bd-ac14-73c1d50dedf6"
      },
      "execution_count": null,
      "outputs": [
        {
          "output_type": "display_data",
          "data": {
            "text/plain": [
              "Running query in 'sqlite:///'"
            ],
            "text/html": [
              "<span style=\"None\">Running query in &#x27;sqlite:///&#x27;</span>"
            ]
          },
          "metadata": {}
        },
        {
          "output_type": "execute_result",
          "data": {
            "text/plain": [
              "++\n",
              "||\n",
              "++\n",
              "++"
            ],
            "text/html": [
              "<table>\n",
              "    <tr>\n",
              "    </tr>\n",
              "</table>\n",
              "<span style='font-style:italic;font-size:11px'><code>ResultSet</code> : to convert to pandas, call <a href='https://jupysql.ploomber.io/en/latest/integrations/pandas.html'><code>.DataFrame()</code></a> or to polars, call <a href='https://jupysql.ploomber.io/en/latest/integrations/polars.html'><code>.PolarsDataFrame()</code></a></span><br>"
            ]
          },
          "metadata": {},
          "execution_count": 5
        }
      ]
    },
    {
      "cell_type": "markdown",
      "source": [
        "3. Crie uma tabela chamada \"pedidos\" com as colunas \"id\" (integer), \"cliente_id\" (integer) e \"total\" (numeric)."
      ],
      "metadata": {
        "id": "AR0fRyQ5_m3L"
      }
    },
    {
      "cell_type": "code",
      "source": [
        "# Atividade 3: cliente_id é chave estrangeira na tabela pedidos e você precisa referenciar ela na criação da tabela pedidos.\n",
        "# Solução: FOREIGN KEY (cliente_id) REFERENCES clientes (id) ON DELETE CASCADE\n",
        "%%sql\n",
        "\n",
        "CREATE TABLE pedidos (\n",
        "\tid INTEGER PRIMARY KEY,\n",
        "\tcliente_id INTEGER,\n",
        "\ttotal NUMERIC\n",
        ");\n",
        "\n"
      ],
      "metadata": {
        "id": "FTwt4oNy_fgv",
        "colab": {
          "base_uri": "https://localhost:8080/",
          "height": 52
        },
        "outputId": "8af5a3d8-6035-4ea2-c6f5-93e1da344e08"
      },
      "execution_count": null,
      "outputs": [
        {
          "output_type": "display_data",
          "data": {
            "text/plain": [
              "Running query in 'sqlite:///'"
            ],
            "text/html": [
              "<span style=\"None\">Running query in &#x27;sqlite:///&#x27;</span>"
            ]
          },
          "metadata": {}
        },
        {
          "output_type": "execute_result",
          "data": {
            "text/plain": [
              "++\n",
              "||\n",
              "++\n",
              "++"
            ],
            "text/html": [
              "<table>\n",
              "    <tr>\n",
              "    </tr>\n",
              "</table>\n",
              "<span style='font-style:italic;font-size:11px'><code>ResultSet</code> : to convert to pandas, call <a href='https://jupysql.ploomber.io/en/latest/integrations/pandas.html'><code>.DataFrame()</code></a> or to polars, call <a href='https://jupysql.ploomber.io/en/latest/integrations/polars.html'><code>.PolarsDataFrame()</code></a></span><br>"
            ]
          },
          "metadata": {},
          "execution_count": 6
        }
      ]
    },
    {
      "cell_type": "markdown",
      "source": [
        "4. Adicione uma coluna chamada \"endereco\" (text) na tabela \"clientes\""
      ],
      "metadata": {
        "id": "pYy7afHj_vHA"
      }
    },
    {
      "cell_type": "code",
      "source": [
        "# adicionando coluna\n",
        "%%sql\n",
        "\n",
        "\n",
        "alter table clientes\n",
        "add column endereco TEXT;\n"
      ],
      "metadata": {
        "id": "hRfuOTQS_tMB",
        "colab": {
          "base_uri": "https://localhost:8080/",
          "height": 52
        },
        "outputId": "4ad96c5b-527c-432a-8b0b-4b334afd5827"
      },
      "execution_count": null,
      "outputs": [
        {
          "output_type": "display_data",
          "data": {
            "text/plain": [
              "Running query in 'sqlite:///'"
            ],
            "text/html": [
              "<span style=\"None\">Running query in &#x27;sqlite:///&#x27;</span>"
            ]
          },
          "metadata": {}
        },
        {
          "output_type": "execute_result",
          "data": {
            "text/plain": [
              "++\n",
              "||\n",
              "++\n",
              "++"
            ],
            "text/html": [
              "<table>\n",
              "    <tr>\n",
              "    </tr>\n",
              "</table>\n",
              "<span style='font-style:italic;font-size:11px'><code>ResultSet</code> : to convert to pandas, call <a href='https://jupysql.ploomber.io/en/latest/integrations/pandas.html'><code>.DataFrame()</code></a> or to polars, call <a href='https://jupysql.ploomber.io/en/latest/integrations/polars.html'><code>.PolarsDataFrame()</code></a></span><br>"
            ]
          },
          "metadata": {},
          "execution_count": 7
        }
      ]
    },
    {
      "cell_type": "markdown",
      "source": [
        "5. Crie uma tabela chamada \"fornecedores\" com as colunas \"id\" (integer), \"nome\" (text) e \"telefone\" (text)."
      ],
      "metadata": {
        "id": "Px5lj1ru_x0X"
      }
    },
    {
      "cell_type": "code",
      "source": [
        "%%sql\n",
        "\n",
        "CREATE TABLE fornecedores (\n",
        "\tid INTEGER PRIMARY KEY,\n",
        "\tnome TEXT,\n",
        "\ttelefone TEXT\n",
        ");\n",
        "\n"
      ],
      "metadata": {
        "id": "PlGooXxi_wqf",
        "colab": {
          "base_uri": "https://localhost:8080/",
          "height": 52
        },
        "outputId": "787c2624-b072-406d-a763-1e00c28ed1f6"
      },
      "execution_count": null,
      "outputs": [
        {
          "output_type": "display_data",
          "data": {
            "text/plain": [
              "Running query in 'sqlite:///'"
            ],
            "text/html": [
              "<span style=\"None\">Running query in &#x27;sqlite:///&#x27;</span>"
            ]
          },
          "metadata": {}
        },
        {
          "output_type": "execute_result",
          "data": {
            "text/plain": [
              "++\n",
              "||\n",
              "++\n",
              "++"
            ],
            "text/html": [
              "<table>\n",
              "    <tr>\n",
              "    </tr>\n",
              "</table>\n",
              "<span style='font-style:italic;font-size:11px'><code>ResultSet</code> : to convert to pandas, call <a href='https://jupysql.ploomber.io/en/latest/integrations/pandas.html'><code>.DataFrame()</code></a> or to polars, call <a href='https://jupysql.ploomber.io/en/latest/integrations/polars.html'><code>.PolarsDataFrame()</code></a></span><br>"
            ]
          },
          "metadata": {},
          "execution_count": 8
        }
      ]
    },
    {
      "cell_type": "markdown",
      "source": [
        "6. Exclua a tabela \"produtos\"."
      ],
      "metadata": {
        "id": "s0npA6pn_1vC"
      }
    },
    {
      "cell_type": "code",
      "source": [
        "# deletar tabela e com ela todos os dados inseridos nela\n",
        "%%sql\n",
        "\n",
        "drop table produtos\n",
        "\n"
      ],
      "metadata": {
        "id": "s0SPqena_0d7",
        "colab": {
          "base_uri": "https://localhost:8080/",
          "height": 52
        },
        "outputId": "039ac643-b9c2-4a89-e204-ffd997990e90"
      },
      "execution_count": null,
      "outputs": [
        {
          "output_type": "display_data",
          "data": {
            "text/plain": [
              "Running query in 'sqlite:///'"
            ],
            "text/html": [
              "<span style=\"None\">Running query in &#x27;sqlite:///&#x27;</span>"
            ]
          },
          "metadata": {}
        },
        {
          "output_type": "execute_result",
          "data": {
            "text/plain": [
              "++\n",
              "||\n",
              "++\n",
              "++"
            ],
            "text/html": [
              "<table>\n",
              "    <tr>\n",
              "    </tr>\n",
              "</table>\n",
              "<span style='font-style:italic;font-size:11px'><code>ResultSet</code> : to convert to pandas, call <a href='https://jupysql.ploomber.io/en/latest/integrations/pandas.html'><code>.DataFrame()</code></a> or to polars, call <a href='https://jupysql.ploomber.io/en/latest/integrations/polars.html'><code>.PolarsDataFrame()</code></a></span><br>"
            ]
          },
          "metadata": {},
          "execution_count": 9
        }
      ]
    },
    {
      "cell_type": "markdown",
      "source": [
        "7. Insira um novo cliente com nome \"João\" e email \"joao@example.com\"."
      ],
      "metadata": {
        "id": "OS9awYhx_6LX"
      }
    },
    {
      "cell_type": "code",
      "source": [
        "# inserindo novo cliente\n",
        "%%sql\n",
        "\n",
        "insert into clientes (nome, email) values ('João', 'joao@example.com');"
      ],
      "metadata": {
        "id": "8CI8Al2-AC8h",
        "colab": {
          "base_uri": "https://localhost:8080/",
          "height": 69
        },
        "outputId": "2a60676c-daf7-4a25-b01a-bc5208d76ee1"
      },
      "execution_count": null,
      "outputs": [
        {
          "output_type": "display_data",
          "data": {
            "text/plain": [
              "Running query in 'sqlite:///'"
            ],
            "text/html": [
              "<span style=\"None\">Running query in &#x27;sqlite:///&#x27;</span>"
            ]
          },
          "metadata": {}
        },
        {
          "output_type": "display_data",
          "data": {
            "text/plain": [
              "1 rows affected."
            ],
            "text/html": [
              "<span style=\"color: green\">1 rows affected.</span>"
            ]
          },
          "metadata": {}
        },
        {
          "output_type": "execute_result",
          "data": {
            "text/plain": [
              "++\n",
              "||\n",
              "++\n",
              "++"
            ],
            "text/html": [
              "<table>\n",
              "    <tr>\n",
              "    </tr>\n",
              "</table>\n",
              "<span style='font-style:italic;font-size:11px'><code>ResultSet</code> : to convert to pandas, call <a href='https://jupysql.ploomber.io/en/latest/integrations/pandas.html'><code>.DataFrame()</code></a> or to polars, call <a href='https://jupysql.ploomber.io/en/latest/integrations/polars.html'><code>.PolarsDataFrame()</code></a></span><br>"
            ]
          },
          "metadata": {},
          "execution_count": 11
        }
      ]
    },
    {
      "cell_type": "markdown",
      "source": [
        "\n",
        "8. Insira um novo fornecedor com nome \"ABC Distribuidora\" e telefone \"123-456789\"."
      ],
      "metadata": {
        "id": "tOldfTC1AOA4"
      }
    },
    {
      "cell_type": "code",
      "source": [
        "# inserindo novo fornecedor\n",
        "%%sql\n",
        "\n",
        "insert into fornecedores (nome, telefone) values ('ABC Distribuidora', 123-456789);\n"
      ],
      "metadata": {
        "id": "X2-LuI9M_9xE",
        "colab": {
          "base_uri": "https://localhost:8080/",
          "height": 69
        },
        "outputId": "8671dff2-38d7-4c0f-a8e9-f0ce51075c3d"
      },
      "execution_count": null,
      "outputs": [
        {
          "output_type": "display_data",
          "data": {
            "text/plain": [
              "Running query in 'sqlite:///'"
            ],
            "text/html": [
              "<span style=\"None\">Running query in &#x27;sqlite:///&#x27;</span>"
            ]
          },
          "metadata": {}
        },
        {
          "output_type": "display_data",
          "data": {
            "text/plain": [
              "1 rows affected."
            ],
            "text/html": [
              "<span style=\"color: green\">1 rows affected.</span>"
            ]
          },
          "metadata": {}
        },
        {
          "output_type": "execute_result",
          "data": {
            "text/plain": [
              "++\n",
              "||\n",
              "++\n",
              "++"
            ],
            "text/html": [
              "<table>\n",
              "    <tr>\n",
              "    </tr>\n",
              "</table>\n",
              "<span style='font-style:italic;font-size:11px'><code>ResultSet</code> : to convert to pandas, call <a href='https://jupysql.ploomber.io/en/latest/integrations/pandas.html'><code>.DataFrame()</code></a> or to polars, call <a href='https://jupysql.ploomber.io/en/latest/integrations/polars.html'><code>.PolarsDataFrame()</code></a></span><br>"
            ]
          },
          "metadata": {},
          "execution_count": 12
        }
      ]
    },
    {
      "cell_type": "markdown",
      "source": [
        "9. Exclua todos os clientes que possuem email \"joao@example.com\"."
      ],
      "metadata": {
        "id": "9zUNLg9sARy6"
      }
    },
    {
      "cell_type": "code",
      "source": [
        "# excluindo uma única linha da tabela: delete from e WHERE\n",
        "%%sql\n",
        "\n",
        "delete from clientes\n",
        "where email = 'joao@example.com'"
      ],
      "metadata": {
        "id": "al_MDkaBARHf",
        "colab": {
          "base_uri": "https://localhost:8080/",
          "height": 69
        },
        "outputId": "2125d288-754e-4965-c85a-c53c03863ddb"
      },
      "execution_count": null,
      "outputs": [
        {
          "output_type": "display_data",
          "data": {
            "text/plain": [
              "Running query in 'sqlite:///'"
            ],
            "text/html": [
              "<span style=\"None\">Running query in &#x27;sqlite:///&#x27;</span>"
            ]
          },
          "metadata": {}
        },
        {
          "output_type": "display_data",
          "data": {
            "text/plain": [
              "1 rows affected."
            ],
            "text/html": [
              "<span style=\"color: green\">1 rows affected.</span>"
            ]
          },
          "metadata": {}
        },
        {
          "output_type": "execute_result",
          "data": {
            "text/plain": [
              "++\n",
              "||\n",
              "++\n",
              "++"
            ],
            "text/html": [
              "<table>\n",
              "    <tr>\n",
              "    </tr>\n",
              "</table>\n",
              "<span style='font-style:italic;font-size:11px'><code>ResultSet</code> : to convert to pandas, call <a href='https://jupysql.ploomber.io/en/latest/integrations/pandas.html'><code>.DataFrame()</code></a> or to polars, call <a href='https://jupysql.ploomber.io/en/latest/integrations/polars.html'><code>.PolarsDataFrame()</code></a></span><br>"
            ]
          },
          "metadata": {},
          "execution_count": 13
        }
      ]
    },
    {
      "cell_type": "code",
      "source": [
        "# verificando a execução\n",
        "%%sql\n",
        "\n",
        "select * from clientes"
      ],
      "metadata": {
        "colab": {
          "base_uri": "https://localhost:8080/",
          "height": 75
        },
        "id": "vzZBeeWu7j23",
        "outputId": "42428833-3698-4f15-9e1f-91a979324f35"
      },
      "execution_count": null,
      "outputs": [
        {
          "output_type": "display_data",
          "data": {
            "text/plain": [
              "Running query in 'sqlite:///'"
            ],
            "text/html": [
              "<span style=\"None\">Running query in &#x27;sqlite:///&#x27;</span>"
            ]
          },
          "metadata": {}
        },
        {
          "output_type": "execute_result",
          "data": {
            "text/plain": [
              "+----+------+-------+----------+\n",
              "| id | nome | email | endereco |\n",
              "+----+------+-------+----------+\n",
              "+----+------+-------+----------+"
            ],
            "text/html": [
              "<table>\n",
              "    <tr>\n",
              "        <th>id</th>\n",
              "        <th>nome</th>\n",
              "        <th>email</th>\n",
              "        <th>endereco</th>\n",
              "    </tr>\n",
              "</table>\n",
              "<span style='font-style:italic;font-size:11px'><code>ResultSet</code> : to convert to pandas, call <a href='https://jupysql.ploomber.io/en/latest/integrations/pandas.html'><code>.DataFrame()</code></a> or to polars, call <a href='https://jupysql.ploomber.io/en/latest/integrations/polars.html'><code>.PolarsDataFrame()</code></a></span><br>"
            ]
          },
          "metadata": {},
          "execution_count": 14
        }
      ]
    },
    {
      "cell_type": "markdown",
      "source": [
        "10. Insira um novo pedido com cliente_id 1 e total 100.00."
      ],
      "metadata": {
        "id": "EvivJAkJAW3R"
      }
    },
    {
      "cell_type": "code",
      "source": [
        "# inserindo novo pedido\n",
        "%%sql\n",
        "\n",
        "insert into pedidos (cliente_id , total) values (1, 100.00);"
      ],
      "metadata": {
        "id": "-vahONrAAWBn",
        "colab": {
          "base_uri": "https://localhost:8080/",
          "height": 69
        },
        "outputId": "75cb0eb0-bb99-487b-894a-6ddbc1ff81ce"
      },
      "execution_count": null,
      "outputs": [
        {
          "output_type": "display_data",
          "data": {
            "text/plain": [
              "Running query in 'sqlite:///'"
            ],
            "text/html": [
              "<span style=\"None\">Running query in &#x27;sqlite:///&#x27;</span>"
            ]
          },
          "metadata": {}
        },
        {
          "output_type": "display_data",
          "data": {
            "text/plain": [
              "1 rows affected."
            ],
            "text/html": [
              "<span style=\"color: green\">1 rows affected.</span>"
            ]
          },
          "metadata": {}
        },
        {
          "output_type": "execute_result",
          "data": {
            "text/plain": [
              "++\n",
              "||\n",
              "++\n",
              "++"
            ],
            "text/html": [
              "<table>\n",
              "    <tr>\n",
              "    </tr>\n",
              "</table>\n",
              "<span style='font-style:italic;font-size:11px'><code>ResultSet</code> : to convert to pandas, call <a href='https://jupysql.ploomber.io/en/latest/integrations/pandas.html'><code>.DataFrame()</code></a> or to polars, call <a href='https://jupysql.ploomber.io/en/latest/integrations/polars.html'><code>.PolarsDataFrame()</code></a></span><br>"
            ]
          },
          "metadata": {},
          "execution_count": 15
        }
      ]
    },
    {
      "cell_type": "markdown",
      "source": [
        "11.  Exclua todos os fornecedores."
      ],
      "metadata": {
        "id": "etbM6YibAekW"
      }
    },
    {
      "cell_type": "code",
      "source": [
        "# excluindo todos os fornecedores\n",
        "%%sql\n",
        "\n",
        "delete from fornecedores\n"
      ],
      "metadata": {
        "id": "p24domb9Ad6d",
        "colab": {
          "base_uri": "https://localhost:8080/",
          "height": 69
        },
        "outputId": "6af183ed-2db2-4fba-80ca-7279fd787078"
      },
      "execution_count": null,
      "outputs": [
        {
          "output_type": "display_data",
          "data": {
            "text/plain": [
              "Running query in 'sqlite:///'"
            ],
            "text/html": [
              "<span style=\"None\">Running query in &#x27;sqlite:///&#x27;</span>"
            ]
          },
          "metadata": {}
        },
        {
          "output_type": "display_data",
          "data": {
            "text/plain": [
              "1 rows affected."
            ],
            "text/html": [
              "<span style=\"color: green\">1 rows affected.</span>"
            ]
          },
          "metadata": {}
        },
        {
          "output_type": "execute_result",
          "data": {
            "text/plain": [
              "++\n",
              "||\n",
              "++\n",
              "++"
            ],
            "text/html": [
              "<table>\n",
              "    <tr>\n",
              "    </tr>\n",
              "</table>\n",
              "<span style='font-style:italic;font-size:11px'><code>ResultSet</code> : to convert to pandas, call <a href='https://jupysql.ploomber.io/en/latest/integrations/pandas.html'><code>.DataFrame()</code></a> or to polars, call <a href='https://jupysql.ploomber.io/en/latest/integrations/polars.html'><code>.PolarsDataFrame()</code></a></span><br>"
            ]
          },
          "metadata": {},
          "execution_count": 16
        }
      ]
    },
    {
      "cell_type": "code",
      "source": [
        "# verificando a execução\n",
        "%%sql\n",
        "\n",
        "select * from fornecedores"
      ],
      "metadata": {
        "id": "Ic8qYLmaAifa",
        "colab": {
          "base_uri": "https://localhost:8080/",
          "height": 75
        },
        "outputId": "175c20c2-618e-442c-d1c7-af798b3fddca"
      },
      "execution_count": null,
      "outputs": [
        {
          "output_type": "display_data",
          "data": {
            "text/plain": [
              "Running query in 'sqlite:///'"
            ],
            "text/html": [
              "<span style=\"None\">Running query in &#x27;sqlite:///&#x27;</span>"
            ]
          },
          "metadata": {}
        },
        {
          "output_type": "execute_result",
          "data": {
            "text/plain": [
              "+----+------+----------+\n",
              "| id | nome | telefone |\n",
              "+----+------+----------+\n",
              "+----+------+----------+"
            ],
            "text/html": [
              "<table>\n",
              "    <tr>\n",
              "        <th>id</th>\n",
              "        <th>nome</th>\n",
              "        <th>telefone</th>\n",
              "    </tr>\n",
              "</table>\n",
              "<span style='font-style:italic;font-size:11px'><code>ResultSet</code> : to convert to pandas, call <a href='https://jupysql.ploomber.io/en/latest/integrations/pandas.html'><code>.DataFrame()</code></a> or to polars, call <a href='https://jupysql.ploomber.io/en/latest/integrations/polars.html'><code>.PolarsDataFrame()</code></a></span><br>"
            ]
          },
          "metadata": {},
          "execution_count": 17
        }
      ]
    }
  ]
}