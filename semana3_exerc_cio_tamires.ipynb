{
  "nbformat": 4,
  "nbformat_minor": 0,
  "metadata": {
    "colab": {
      "provenance": [],
      "include_colab_link": true
    },
    "kernelspec": {
      "name": "python3",
      "display_name": "Python 3"
    },
    "language_info": {
      "name": "python"
    }
  },
  "cells": [
    {
      "cell_type": "markdown",
      "metadata": {
        "id": "view-in-github",
        "colab_type": "text"
      },
      "source": [
        "<a href=\"https://colab.research.google.com/github/TamiresWT/Ci-ncias-de-Dados/blob/main/semana3_exerc_cio_tamires.ipynb\" target=\"_parent\"><img src=\"https://colab.research.google.com/assets/colab-badge.svg\" alt=\"Open In Colab\"/></a>"
      ]
    },
    {
      "cell_type": "markdown",
      "source": [
        "# Clusterização\n",
        "\n",
        "### Atividade 1: Crie um dataframe a partir do banco de dados `basedosdados.br_inep_ideb.municipio` disponível em [Ideb](https://basedosdados.org/dataset/br-inep-ideb?bdm_table=municipio). Selecione apenas as colunas `ano`, `sigla_uf`, `taxa_aprovacao`, `nota_saeb_matematica`, `nota_saeb_lingua_portuguesa` e `ideb`."
      ],
      "metadata": {
        "id": "eI_n6yqQcTJp"
      }
    },
    {
      "cell_type": "code",
      "source": [
        "# importando biblioteca Pandas\n",
        "import pandas as pd"
      ],
      "metadata": {
        "id": "MTBYqZAAWBEq"
      },
      "execution_count": null,
      "outputs": []
    },
    {
      "cell_type": "code",
      "source": [
        "#Criando biblioteca do Google Drive\n",
        "from google.colab import drive\n",
        "drive.mount('/content/drive')"
      ],
      "metadata": {
        "id": "VktIa2mmWXx4",
        "outputId": "fee51095-1411-4ec0-b8ca-ba362a7effa9",
        "colab": {
          "base_uri": "https://localhost:8080/"
        }
      },
      "execution_count": null,
      "outputs": [
        {
          "output_type": "stream",
          "name": "stdout",
          "text": [
            "Drive already mounted at /content/drive; to attempt to forcibly remount, call drive.mount(\"/content/drive\", force_remount=True).\n"
          ]
        }
      ]
    },
    {
      "cell_type": "code",
      "source": [
        "#criando DataFrame df com os dados do ideb\n",
        "df = pd.read_csv('/content/drive/MyDrive/arquivos/ideb.csv')\n",
        "df.head()"
      ],
      "metadata": {
        "id": "zl37xbKOWfT8",
        "outputId": "2b70d750-8b07-485c-a5d2-626c8ed634f5",
        "colab": {
          "base_uri": "https://localhost:8080/",
          "height": 270
        }
      },
      "execution_count": null,
      "outputs": [
        {
          "output_type": "execute_result",
          "data": {
            "text/plain": [
              "    ano sigla_uf  id_municipio       rede       ensino  anos_escolares  \\\n",
              "0  2005       AC       1200302  municipal  fundamental  iniciais (1-5)   \n",
              "1  2005       AC       1200328   estadual  fundamental  iniciais (1-5)   \n",
              "2  2005       AC       1200328  municipal  fundamental  iniciais (1-5)   \n",
              "3  2005       AC       1200328    publica  fundamental  iniciais (1-5)   \n",
              "4  2005       AC       1200336  municipal  fundamental  iniciais (1-5)   \n",
              "\n",
              "   taxa_aprovacao  indicador_rendimento  nota_saeb_matematica  \\\n",
              "0            53.9              0.561795                 167.8   \n",
              "1            49.3              0.501470                 151.8   \n",
              "2            48.8              0.494267                 163.6   \n",
              "3            48.8              0.497858                 159.0   \n",
              "4            74.7              0.752579                 138.0   \n",
              "\n",
              "   nota_saeb_lingua_portuguesa  nota_saeb_media_padronizada  ideb  projecao  \n",
              "0                       165.60                     4.177761   2.3       NaN  \n",
              "1                       149.60                     3.578558   1.8       NaN  \n",
              "2                       155.80                     3.920963   1.9       NaN  \n",
              "3                       153.39                     3.785995   1.9       NaN  \n",
              "4                       134.19                     3.038804   2.3       NaN  "
            ],
            "text/html": [
              "\n",
              "  <div id=\"df-841009d6-9b98-49d9-bfef-9db802ebdf30\">\n",
              "    <div class=\"colab-df-container\">\n",
              "      <div>\n",
              "<style scoped>\n",
              "    .dataframe tbody tr th:only-of-type {\n",
              "        vertical-align: middle;\n",
              "    }\n",
              "\n",
              "    .dataframe tbody tr th {\n",
              "        vertical-align: top;\n",
              "    }\n",
              "\n",
              "    .dataframe thead th {\n",
              "        text-align: right;\n",
              "    }\n",
              "</style>\n",
              "<table border=\"1\" class=\"dataframe\">\n",
              "  <thead>\n",
              "    <tr style=\"text-align: right;\">\n",
              "      <th></th>\n",
              "      <th>ano</th>\n",
              "      <th>sigla_uf</th>\n",
              "      <th>id_municipio</th>\n",
              "      <th>rede</th>\n",
              "      <th>ensino</th>\n",
              "      <th>anos_escolares</th>\n",
              "      <th>taxa_aprovacao</th>\n",
              "      <th>indicador_rendimento</th>\n",
              "      <th>nota_saeb_matematica</th>\n",
              "      <th>nota_saeb_lingua_portuguesa</th>\n",
              "      <th>nota_saeb_media_padronizada</th>\n",
              "      <th>ideb</th>\n",
              "      <th>projecao</th>\n",
              "    </tr>\n",
              "  </thead>\n",
              "  <tbody>\n",
              "    <tr>\n",
              "      <th>0</th>\n",
              "      <td>2005</td>\n",
              "      <td>AC</td>\n",
              "      <td>1200302</td>\n",
              "      <td>municipal</td>\n",
              "      <td>fundamental</td>\n",
              "      <td>iniciais (1-5)</td>\n",
              "      <td>53.9</td>\n",
              "      <td>0.561795</td>\n",
              "      <td>167.8</td>\n",
              "      <td>165.60</td>\n",
              "      <td>4.177761</td>\n",
              "      <td>2.3</td>\n",
              "      <td>NaN</td>\n",
              "    </tr>\n",
              "    <tr>\n",
              "      <th>1</th>\n",
              "      <td>2005</td>\n",
              "      <td>AC</td>\n",
              "      <td>1200328</td>\n",
              "      <td>estadual</td>\n",
              "      <td>fundamental</td>\n",
              "      <td>iniciais (1-5)</td>\n",
              "      <td>49.3</td>\n",
              "      <td>0.501470</td>\n",
              "      <td>151.8</td>\n",
              "      <td>149.60</td>\n",
              "      <td>3.578558</td>\n",
              "      <td>1.8</td>\n",
              "      <td>NaN</td>\n",
              "    </tr>\n",
              "    <tr>\n",
              "      <th>2</th>\n",
              "      <td>2005</td>\n",
              "      <td>AC</td>\n",
              "      <td>1200328</td>\n",
              "      <td>municipal</td>\n",
              "      <td>fundamental</td>\n",
              "      <td>iniciais (1-5)</td>\n",
              "      <td>48.8</td>\n",
              "      <td>0.494267</td>\n",
              "      <td>163.6</td>\n",
              "      <td>155.80</td>\n",
              "      <td>3.920963</td>\n",
              "      <td>1.9</td>\n",
              "      <td>NaN</td>\n",
              "    </tr>\n",
              "    <tr>\n",
              "      <th>3</th>\n",
              "      <td>2005</td>\n",
              "      <td>AC</td>\n",
              "      <td>1200328</td>\n",
              "      <td>publica</td>\n",
              "      <td>fundamental</td>\n",
              "      <td>iniciais (1-5)</td>\n",
              "      <td>48.8</td>\n",
              "      <td>0.497858</td>\n",
              "      <td>159.0</td>\n",
              "      <td>153.39</td>\n",
              "      <td>3.785995</td>\n",
              "      <td>1.9</td>\n",
              "      <td>NaN</td>\n",
              "    </tr>\n",
              "    <tr>\n",
              "      <th>4</th>\n",
              "      <td>2005</td>\n",
              "      <td>AC</td>\n",
              "      <td>1200336</td>\n",
              "      <td>municipal</td>\n",
              "      <td>fundamental</td>\n",
              "      <td>iniciais (1-5)</td>\n",
              "      <td>74.7</td>\n",
              "      <td>0.752579</td>\n",
              "      <td>138.0</td>\n",
              "      <td>134.19</td>\n",
              "      <td>3.038804</td>\n",
              "      <td>2.3</td>\n",
              "      <td>NaN</td>\n",
              "    </tr>\n",
              "  </tbody>\n",
              "</table>\n",
              "</div>\n",
              "      <button class=\"colab-df-convert\" onclick=\"convertToInteractive('df-841009d6-9b98-49d9-bfef-9db802ebdf30')\"\n",
              "              title=\"Convert this dataframe to an interactive table.\"\n",
              "              style=\"display:none;\">\n",
              "        \n",
              "  <svg xmlns=\"http://www.w3.org/2000/svg\" height=\"24px\"viewBox=\"0 0 24 24\"\n",
              "       width=\"24px\">\n",
              "    <path d=\"M0 0h24v24H0V0z\" fill=\"none\"/>\n",
              "    <path d=\"M18.56 5.44l.94 2.06.94-2.06 2.06-.94-2.06-.94-.94-2.06-.94 2.06-2.06.94zm-11 1L8.5 8.5l.94-2.06 2.06-.94-2.06-.94L8.5 2.5l-.94 2.06-2.06.94zm10 10l.94 2.06.94-2.06 2.06-.94-2.06-.94-.94-2.06-.94 2.06-2.06.94z\"/><path d=\"M17.41 7.96l-1.37-1.37c-.4-.4-.92-.59-1.43-.59-.52 0-1.04.2-1.43.59L10.3 9.45l-7.72 7.72c-.78.78-.78 2.05 0 2.83L4 21.41c.39.39.9.59 1.41.59.51 0 1.02-.2 1.41-.59l7.78-7.78 2.81-2.81c.8-.78.8-2.07 0-2.86zM5.41 20L4 18.59l7.72-7.72 1.47 1.35L5.41 20z\"/>\n",
              "  </svg>\n",
              "      </button>\n",
              "      \n",
              "  <style>\n",
              "    .colab-df-container {\n",
              "      display:flex;\n",
              "      flex-wrap:wrap;\n",
              "      gap: 12px;\n",
              "    }\n",
              "\n",
              "    .colab-df-convert {\n",
              "      background-color: #E8F0FE;\n",
              "      border: none;\n",
              "      border-radius: 50%;\n",
              "      cursor: pointer;\n",
              "      display: none;\n",
              "      fill: #1967D2;\n",
              "      height: 32px;\n",
              "      padding: 0 0 0 0;\n",
              "      width: 32px;\n",
              "    }\n",
              "\n",
              "    .colab-df-convert:hover {\n",
              "      background-color: #E2EBFA;\n",
              "      box-shadow: 0px 1px 2px rgba(60, 64, 67, 0.3), 0px 1px 3px 1px rgba(60, 64, 67, 0.15);\n",
              "      fill: #174EA6;\n",
              "    }\n",
              "\n",
              "    [theme=dark] .colab-df-convert {\n",
              "      background-color: #3B4455;\n",
              "      fill: #D2E3FC;\n",
              "    }\n",
              "\n",
              "    [theme=dark] .colab-df-convert:hover {\n",
              "      background-color: #434B5C;\n",
              "      box-shadow: 0px 1px 3px 1px rgba(0, 0, 0, 0.15);\n",
              "      filter: drop-shadow(0px 1px 2px rgba(0, 0, 0, 0.3));\n",
              "      fill: #FFFFFF;\n",
              "    }\n",
              "  </style>\n",
              "\n",
              "      <script>\n",
              "        const buttonEl =\n",
              "          document.querySelector('#df-841009d6-9b98-49d9-bfef-9db802ebdf30 button.colab-df-convert');\n",
              "        buttonEl.style.display =\n",
              "          google.colab.kernel.accessAllowed ? 'block' : 'none';\n",
              "\n",
              "        async function convertToInteractive(key) {\n",
              "          const element = document.querySelector('#df-841009d6-9b98-49d9-bfef-9db802ebdf30');\n",
              "          const dataTable =\n",
              "            await google.colab.kernel.invokeFunction('convertToInteractive',\n",
              "                                                     [key], {});\n",
              "          if (!dataTable) return;\n",
              "\n",
              "          const docLinkHtml = 'Like what you see? Visit the ' +\n",
              "            '<a target=\"_blank\" href=https://colab.research.google.com/notebooks/data_table.ipynb>data table notebook</a>'\n",
              "            + ' to learn more about interactive tables.';\n",
              "          element.innerHTML = '';\n",
              "          dataTable['output_type'] = 'display_data';\n",
              "          await google.colab.output.renderOutput(dataTable, element);\n",
              "          const docLink = document.createElement('div');\n",
              "          docLink.innerHTML = docLinkHtml;\n",
              "          element.appendChild(docLink);\n",
              "        }\n",
              "      </script>\n",
              "    </div>\n",
              "  </div>\n",
              "  "
            ]
          },
          "metadata": {},
          "execution_count": 137
        }
      ]
    },
    {
      "cell_type": "code",
      "source": [
        "#Filtrando pela ano e selecionando as colunas ano, sigla_uf, taxa_aprovacao, nota_saeb_matematica, nota_saeb_lingua_portuguesae e ideb\n",
        "#para comporem o novo DataFrame\n",
        "df_filtro = df[['ano', 'sigla_uf','taxa_aprovacao','nota_saeb_matematica','nota_saeb_lingua_portuguesa','ideb']]\n",
        "df_filtro.head()"
      ],
      "metadata": {
        "id": "tkD9dWtOXGUM",
        "outputId": "0987dcf2-4ebb-468d-c6d4-98d73ae62bdf",
        "colab": {
          "base_uri": "https://localhost:8080/",
          "height": 206
        }
      },
      "execution_count": null,
      "outputs": [
        {
          "output_type": "execute_result",
          "data": {
            "text/plain": [
              "    ano sigla_uf  taxa_aprovacao  nota_saeb_matematica  \\\n",
              "0  2005       AC            53.9                 167.8   \n",
              "1  2005       AC            49.3                 151.8   \n",
              "2  2005       AC            48.8                 163.6   \n",
              "3  2005       AC            48.8                 159.0   \n",
              "4  2005       AC            74.7                 138.0   \n",
              "\n",
              "   nota_saeb_lingua_portuguesa  ideb  \n",
              "0                       165.60   2.3  \n",
              "1                       149.60   1.8  \n",
              "2                       155.80   1.9  \n",
              "3                       153.39   1.9  \n",
              "4                       134.19   2.3  "
            ],
            "text/html": [
              "\n",
              "  <div id=\"df-3fa16037-e916-4920-baba-5654ae2cb6b8\">\n",
              "    <div class=\"colab-df-container\">\n",
              "      <div>\n",
              "<style scoped>\n",
              "    .dataframe tbody tr th:only-of-type {\n",
              "        vertical-align: middle;\n",
              "    }\n",
              "\n",
              "    .dataframe tbody tr th {\n",
              "        vertical-align: top;\n",
              "    }\n",
              "\n",
              "    .dataframe thead th {\n",
              "        text-align: right;\n",
              "    }\n",
              "</style>\n",
              "<table border=\"1\" class=\"dataframe\">\n",
              "  <thead>\n",
              "    <tr style=\"text-align: right;\">\n",
              "      <th></th>\n",
              "      <th>ano</th>\n",
              "      <th>sigla_uf</th>\n",
              "      <th>taxa_aprovacao</th>\n",
              "      <th>nota_saeb_matematica</th>\n",
              "      <th>nota_saeb_lingua_portuguesa</th>\n",
              "      <th>ideb</th>\n",
              "    </tr>\n",
              "  </thead>\n",
              "  <tbody>\n",
              "    <tr>\n",
              "      <th>0</th>\n",
              "      <td>2005</td>\n",
              "      <td>AC</td>\n",
              "      <td>53.9</td>\n",
              "      <td>167.8</td>\n",
              "      <td>165.60</td>\n",
              "      <td>2.3</td>\n",
              "    </tr>\n",
              "    <tr>\n",
              "      <th>1</th>\n",
              "      <td>2005</td>\n",
              "      <td>AC</td>\n",
              "      <td>49.3</td>\n",
              "      <td>151.8</td>\n",
              "      <td>149.60</td>\n",
              "      <td>1.8</td>\n",
              "    </tr>\n",
              "    <tr>\n",
              "      <th>2</th>\n",
              "      <td>2005</td>\n",
              "      <td>AC</td>\n",
              "      <td>48.8</td>\n",
              "      <td>163.6</td>\n",
              "      <td>155.80</td>\n",
              "      <td>1.9</td>\n",
              "    </tr>\n",
              "    <tr>\n",
              "      <th>3</th>\n",
              "      <td>2005</td>\n",
              "      <td>AC</td>\n",
              "      <td>48.8</td>\n",
              "      <td>159.0</td>\n",
              "      <td>153.39</td>\n",
              "      <td>1.9</td>\n",
              "    </tr>\n",
              "    <tr>\n",
              "      <th>4</th>\n",
              "      <td>2005</td>\n",
              "      <td>AC</td>\n",
              "      <td>74.7</td>\n",
              "      <td>138.0</td>\n",
              "      <td>134.19</td>\n",
              "      <td>2.3</td>\n",
              "    </tr>\n",
              "  </tbody>\n",
              "</table>\n",
              "</div>\n",
              "      <button class=\"colab-df-convert\" onclick=\"convertToInteractive('df-3fa16037-e916-4920-baba-5654ae2cb6b8')\"\n",
              "              title=\"Convert this dataframe to an interactive table.\"\n",
              "              style=\"display:none;\">\n",
              "        \n",
              "  <svg xmlns=\"http://www.w3.org/2000/svg\" height=\"24px\"viewBox=\"0 0 24 24\"\n",
              "       width=\"24px\">\n",
              "    <path d=\"M0 0h24v24H0V0z\" fill=\"none\"/>\n",
              "    <path d=\"M18.56 5.44l.94 2.06.94-2.06 2.06-.94-2.06-.94-.94-2.06-.94 2.06-2.06.94zm-11 1L8.5 8.5l.94-2.06 2.06-.94-2.06-.94L8.5 2.5l-.94 2.06-2.06.94zm10 10l.94 2.06.94-2.06 2.06-.94-2.06-.94-.94-2.06-.94 2.06-2.06.94z\"/><path d=\"M17.41 7.96l-1.37-1.37c-.4-.4-.92-.59-1.43-.59-.52 0-1.04.2-1.43.59L10.3 9.45l-7.72 7.72c-.78.78-.78 2.05 0 2.83L4 21.41c.39.39.9.59 1.41.59.51 0 1.02-.2 1.41-.59l7.78-7.78 2.81-2.81c.8-.78.8-2.07 0-2.86zM5.41 20L4 18.59l7.72-7.72 1.47 1.35L5.41 20z\"/>\n",
              "  </svg>\n",
              "      </button>\n",
              "      \n",
              "  <style>\n",
              "    .colab-df-container {\n",
              "      display:flex;\n",
              "      flex-wrap:wrap;\n",
              "      gap: 12px;\n",
              "    }\n",
              "\n",
              "    .colab-df-convert {\n",
              "      background-color: #E8F0FE;\n",
              "      border: none;\n",
              "      border-radius: 50%;\n",
              "      cursor: pointer;\n",
              "      display: none;\n",
              "      fill: #1967D2;\n",
              "      height: 32px;\n",
              "      padding: 0 0 0 0;\n",
              "      width: 32px;\n",
              "    }\n",
              "\n",
              "    .colab-df-convert:hover {\n",
              "      background-color: #E2EBFA;\n",
              "      box-shadow: 0px 1px 2px rgba(60, 64, 67, 0.3), 0px 1px 3px 1px rgba(60, 64, 67, 0.15);\n",
              "      fill: #174EA6;\n",
              "    }\n",
              "\n",
              "    [theme=dark] .colab-df-convert {\n",
              "      background-color: #3B4455;\n",
              "      fill: #D2E3FC;\n",
              "    }\n",
              "\n",
              "    [theme=dark] .colab-df-convert:hover {\n",
              "      background-color: #434B5C;\n",
              "      box-shadow: 0px 1px 3px 1px rgba(0, 0, 0, 0.15);\n",
              "      filter: drop-shadow(0px 1px 2px rgba(0, 0, 0, 0.3));\n",
              "      fill: #FFFFFF;\n",
              "    }\n",
              "  </style>\n",
              "\n",
              "      <script>\n",
              "        const buttonEl =\n",
              "          document.querySelector('#df-3fa16037-e916-4920-baba-5654ae2cb6b8 button.colab-df-convert');\n",
              "        buttonEl.style.display =\n",
              "          google.colab.kernel.accessAllowed ? 'block' : 'none';\n",
              "\n",
              "        async function convertToInteractive(key) {\n",
              "          const element = document.querySelector('#df-3fa16037-e916-4920-baba-5654ae2cb6b8');\n",
              "          const dataTable =\n",
              "            await google.colab.kernel.invokeFunction('convertToInteractive',\n",
              "                                                     [key], {});\n",
              "          if (!dataTable) return;\n",
              "\n",
              "          const docLinkHtml = 'Like what you see? Visit the ' +\n",
              "            '<a target=\"_blank\" href=https://colab.research.google.com/notebooks/data_table.ipynb>data table notebook</a>'\n",
              "            + ' to learn more about interactive tables.';\n",
              "          element.innerHTML = '';\n",
              "          dataTable['output_type'] = 'display_data';\n",
              "          await google.colab.output.renderOutput(dataTable, element);\n",
              "          const docLink = document.createElement('div');\n",
              "          docLink.innerHTML = docLinkHtml;\n",
              "          element.appendChild(docLink);\n",
              "        }\n",
              "      </script>\n",
              "    </div>\n",
              "  </div>\n",
              "  "
            ]
          },
          "metadata": {},
          "execution_count": 138
        }
      ]
    },
    {
      "cell_type": "markdown",
      "source": [
        "### Atividade 2: Selecione apenas os dados referentes ao ano de 2019 e agrupe os dados por estado, considerando a média."
      ],
      "metadata": {
        "id": "eqPLrlMzdVt9"
      }
    },
    {
      "cell_type": "code",
      "source": [
        "#filtrando o df pelo ano 2019 e agrupando por estados considerando a média\n",
        "df_2019 = df_filtro[df_filtro['ano'] ==2019].groupby(by='sigla_uf').mean()\n",
        "df_2019 = df_2019.reset_index()\n",
        "df_2019.head()"
      ],
      "metadata": {
        "id": "XrbwGjo_WEn3",
        "outputId": "f2350ed9-12a8-4a2c-85f4-aa55fe6b7b09",
        "colab": {
          "base_uri": "https://localhost:8080/",
          "height": 206
        }
      },
      "execution_count": null,
      "outputs": [
        {
          "output_type": "execute_result",
          "data": {
            "text/plain": [
              "  sigla_uf     ano  taxa_aprovacao  nota_saeb_matematica  \\\n",
              "0       AC  2019.0       88.561184            245.253478   \n",
              "1       AL  2019.0       92.081591            237.883189   \n",
              "2       AM  2019.0       86.853550            223.121965   \n",
              "3       AP  2019.0       81.552252            217.216667   \n",
              "4       BA  2019.0       83.032948            233.942537   \n",
              "\n",
              "   nota_saeb_lingua_portuguesa      ideb  \n",
              "0                   237.995942  4.671739  \n",
              "1                   231.412708  4.509295  \n",
              "2                   219.773218  4.032397  \n",
              "3                   215.831111  3.694444  \n",
              "4                   230.205596  4.034125  "
            ],
            "text/html": [
              "\n",
              "  <div id=\"df-fef2bcd5-1c81-4c9f-8566-c12c02f2dda3\">\n",
              "    <div class=\"colab-df-container\">\n",
              "      <div>\n",
              "<style scoped>\n",
              "    .dataframe tbody tr th:only-of-type {\n",
              "        vertical-align: middle;\n",
              "    }\n",
              "\n",
              "    .dataframe tbody tr th {\n",
              "        vertical-align: top;\n",
              "    }\n",
              "\n",
              "    .dataframe thead th {\n",
              "        text-align: right;\n",
              "    }\n",
              "</style>\n",
              "<table border=\"1\" class=\"dataframe\">\n",
              "  <thead>\n",
              "    <tr style=\"text-align: right;\">\n",
              "      <th></th>\n",
              "      <th>sigla_uf</th>\n",
              "      <th>ano</th>\n",
              "      <th>taxa_aprovacao</th>\n",
              "      <th>nota_saeb_matematica</th>\n",
              "      <th>nota_saeb_lingua_portuguesa</th>\n",
              "      <th>ideb</th>\n",
              "    </tr>\n",
              "  </thead>\n",
              "  <tbody>\n",
              "    <tr>\n",
              "      <th>0</th>\n",
              "      <td>AC</td>\n",
              "      <td>2019.0</td>\n",
              "      <td>88.561184</td>\n",
              "      <td>245.253478</td>\n",
              "      <td>237.995942</td>\n",
              "      <td>4.671739</td>\n",
              "    </tr>\n",
              "    <tr>\n",
              "      <th>1</th>\n",
              "      <td>AL</td>\n",
              "      <td>2019.0</td>\n",
              "      <td>92.081591</td>\n",
              "      <td>237.883189</td>\n",
              "      <td>231.412708</td>\n",
              "      <td>4.509295</td>\n",
              "    </tr>\n",
              "    <tr>\n",
              "      <th>2</th>\n",
              "      <td>AM</td>\n",
              "      <td>2019.0</td>\n",
              "      <td>86.853550</td>\n",
              "      <td>223.121965</td>\n",
              "      <td>219.773218</td>\n",
              "      <td>4.032397</td>\n",
              "    </tr>\n",
              "    <tr>\n",
              "      <th>3</th>\n",
              "      <td>AP</td>\n",
              "      <td>2019.0</td>\n",
              "      <td>81.552252</td>\n",
              "      <td>217.216667</td>\n",
              "      <td>215.831111</td>\n",
              "      <td>3.694444</td>\n",
              "    </tr>\n",
              "    <tr>\n",
              "      <th>4</th>\n",
              "      <td>BA</td>\n",
              "      <td>2019.0</td>\n",
              "      <td>83.032948</td>\n",
              "      <td>233.942537</td>\n",
              "      <td>230.205596</td>\n",
              "      <td>4.034125</td>\n",
              "    </tr>\n",
              "  </tbody>\n",
              "</table>\n",
              "</div>\n",
              "      <button class=\"colab-df-convert\" onclick=\"convertToInteractive('df-fef2bcd5-1c81-4c9f-8566-c12c02f2dda3')\"\n",
              "              title=\"Convert this dataframe to an interactive table.\"\n",
              "              style=\"display:none;\">\n",
              "        \n",
              "  <svg xmlns=\"http://www.w3.org/2000/svg\" height=\"24px\"viewBox=\"0 0 24 24\"\n",
              "       width=\"24px\">\n",
              "    <path d=\"M0 0h24v24H0V0z\" fill=\"none\"/>\n",
              "    <path d=\"M18.56 5.44l.94 2.06.94-2.06 2.06-.94-2.06-.94-.94-2.06-.94 2.06-2.06.94zm-11 1L8.5 8.5l.94-2.06 2.06-.94-2.06-.94L8.5 2.5l-.94 2.06-2.06.94zm10 10l.94 2.06.94-2.06 2.06-.94-2.06-.94-.94-2.06-.94 2.06-2.06.94z\"/><path d=\"M17.41 7.96l-1.37-1.37c-.4-.4-.92-.59-1.43-.59-.52 0-1.04.2-1.43.59L10.3 9.45l-7.72 7.72c-.78.78-.78 2.05 0 2.83L4 21.41c.39.39.9.59 1.41.59.51 0 1.02-.2 1.41-.59l7.78-7.78 2.81-2.81c.8-.78.8-2.07 0-2.86zM5.41 20L4 18.59l7.72-7.72 1.47 1.35L5.41 20z\"/>\n",
              "  </svg>\n",
              "      </button>\n",
              "      \n",
              "  <style>\n",
              "    .colab-df-container {\n",
              "      display:flex;\n",
              "      flex-wrap:wrap;\n",
              "      gap: 12px;\n",
              "    }\n",
              "\n",
              "    .colab-df-convert {\n",
              "      background-color: #E8F0FE;\n",
              "      border: none;\n",
              "      border-radius: 50%;\n",
              "      cursor: pointer;\n",
              "      display: none;\n",
              "      fill: #1967D2;\n",
              "      height: 32px;\n",
              "      padding: 0 0 0 0;\n",
              "      width: 32px;\n",
              "    }\n",
              "\n",
              "    .colab-df-convert:hover {\n",
              "      background-color: #E2EBFA;\n",
              "      box-shadow: 0px 1px 2px rgba(60, 64, 67, 0.3), 0px 1px 3px 1px rgba(60, 64, 67, 0.15);\n",
              "      fill: #174EA6;\n",
              "    }\n",
              "\n",
              "    [theme=dark] .colab-df-convert {\n",
              "      background-color: #3B4455;\n",
              "      fill: #D2E3FC;\n",
              "    }\n",
              "\n",
              "    [theme=dark] .colab-df-convert:hover {\n",
              "      background-color: #434B5C;\n",
              "      box-shadow: 0px 1px 3px 1px rgba(0, 0, 0, 0.15);\n",
              "      filter: drop-shadow(0px 1px 2px rgba(0, 0, 0, 0.3));\n",
              "      fill: #FFFFFF;\n",
              "    }\n",
              "  </style>\n",
              "\n",
              "      <script>\n",
              "        const buttonEl =\n",
              "          document.querySelector('#df-fef2bcd5-1c81-4c9f-8566-c12c02f2dda3 button.colab-df-convert');\n",
              "        buttonEl.style.display =\n",
              "          google.colab.kernel.accessAllowed ? 'block' : 'none';\n",
              "\n",
              "        async function convertToInteractive(key) {\n",
              "          const element = document.querySelector('#df-fef2bcd5-1c81-4c9f-8566-c12c02f2dda3');\n",
              "          const dataTable =\n",
              "            await google.colab.kernel.invokeFunction('convertToInteractive',\n",
              "                                                     [key], {});\n",
              "          if (!dataTable) return;\n",
              "\n",
              "          const docLinkHtml = 'Like what you see? Visit the ' +\n",
              "            '<a target=\"_blank\" href=https://colab.research.google.com/notebooks/data_table.ipynb>data table notebook</a>'\n",
              "            + ' to learn more about interactive tables.';\n",
              "          element.innerHTML = '';\n",
              "          dataTable['output_type'] = 'display_data';\n",
              "          await google.colab.output.renderOutput(dataTable, element);\n",
              "          const docLink = document.createElement('div');\n",
              "          docLink.innerHTML = docLinkHtml;\n",
              "          element.appendChild(docLink);\n",
              "        }\n",
              "      </script>\n",
              "    </div>\n",
              "  </div>\n",
              "  "
            ]
          },
          "metadata": {},
          "execution_count": 139
        }
      ]
    },
    {
      "cell_type": "code",
      "source": [
        "#Obtendo um resumo conciso do DataFrame\n",
        "df_2019.info()"
      ],
      "metadata": {
        "id": "MjcAVvdaZhWu",
        "outputId": "84c4ed63-b0a7-4164-e7bc-7c7256b2001c",
        "colab": {
          "base_uri": "https://localhost:8080/"
        }
      },
      "execution_count": null,
      "outputs": [
        {
          "output_type": "stream",
          "name": "stdout",
          "text": [
            "<class 'pandas.core.frame.DataFrame'>\n",
            "RangeIndex: 27 entries, 0 to 26\n",
            "Data columns (total 6 columns):\n",
            " #   Column                       Non-Null Count  Dtype  \n",
            "---  ------                       --------------  -----  \n",
            " 0   sigla_uf                     27 non-null     object \n",
            " 1   ano                          27 non-null     float64\n",
            " 2   taxa_aprovacao               27 non-null     float64\n",
            " 3   nota_saeb_matematica         27 non-null     float64\n",
            " 4   nota_saeb_lingua_portuguesa  27 non-null     float64\n",
            " 5   ideb                         27 non-null     float64\n",
            "dtypes: float64(5), object(1)\n",
            "memory usage: 1.4+ KB\n"
          ]
        }
      ]
    },
    {
      "cell_type": "markdown",
      "source": [
        "### Atividade 3: Padronize os dados."
      ],
      "metadata": {
        "id": "DIZFtzqlOgGL"
      }
    },
    {
      "cell_type": "code",
      "source": [
        "# importando a função de padronização\n",
        "from sklearn.preprocessing import StandardScaler\n",
        "\n",
        "# instanciando a função chamada de scaler\n",
        "scaler = StandardScaler()\n",
        "\n",
        "# criando uma cópia do DataFrame (fazendo um novo df e preservando os dados do df2 caso venha utilizá-los novamente)\n",
        "df_scaled  = df_2019.copy()\n",
        "\n",
        "# removendo dados categóricos, a coluna de estado não é numérica é string (textual)\n",
        "#removendo a coluna ano\n",
        "#eixo 0 é linha; eixo 1 é coluna; inplace=True para efetivar a mudanças dentro do df_scaled\n",
        "df_scaled.drop(['sigla_uf', 'ano'], inplace=True, axis=1)\n",
        "\n",
        "# Criando no df as 5 colunas que já existiam antes e adicionando o arreda numpy (scaler.fit_transform(df_scaled)), ou seja,\n",
        "#pegando o arreda numpy e convertando-o a DataFrame, mantendo o nome das colunas originais, que já tinhamos\n",
        "# aplicando a padronização\n",
        "df_scaled[df_scaled.columns] = scaler.fit_transform(df_scaled)\n",
        "\n",
        "# acrescentando a coluna sigla_uf para saber a qual estado cada dado representa. Recolocando ela no banco de dados original\n",
        "df_scaled['sigla_uf'] = df_2019['sigla_uf']\n",
        "\n",
        "#obtemos assim o mesmo conjunto de dados na escala correta\n",
        "df_scaled.head()"
      ],
      "metadata": {
        "id": "ipeYn2F_WGOo",
        "outputId": "1543046e-b362-4fe5-95e0-96eb8d02c0f3",
        "colab": {
          "base_uri": "https://localhost:8080/",
          "height": 206
        }
      },
      "execution_count": null,
      "outputs": [
        {
          "output_type": "execute_result",
          "data": {
            "text/plain": [
              "   taxa_aprovacao  nota_saeb_matematica  nota_saeb_lingua_portuguesa  \\\n",
              "0       -0.025280              0.080727                    -0.016434   \n",
              "1        0.801179             -0.437122                    -0.531887   \n",
              "2       -0.426168             -1.474271                    -1.443233   \n",
              "3       -1.670713             -1.889188                    -1.751891   \n",
              "4       -1.323101             -0.713999                    -0.626401   \n",
              "\n",
              "       ideb sigla_uf  \n",
              "0  0.092154       AC  \n",
              "1 -0.201424       AL  \n",
              "2 -1.063297       AM  \n",
              "3 -1.674063       AP  \n",
              "4 -1.060175       BA  "
            ],
            "text/html": [
              "\n",
              "  <div id=\"df-c1782095-20bb-41ea-9132-a4a4dabcbd20\">\n",
              "    <div class=\"colab-df-container\">\n",
              "      <div>\n",
              "<style scoped>\n",
              "    .dataframe tbody tr th:only-of-type {\n",
              "        vertical-align: middle;\n",
              "    }\n",
              "\n",
              "    .dataframe tbody tr th {\n",
              "        vertical-align: top;\n",
              "    }\n",
              "\n",
              "    .dataframe thead th {\n",
              "        text-align: right;\n",
              "    }\n",
              "</style>\n",
              "<table border=\"1\" class=\"dataframe\">\n",
              "  <thead>\n",
              "    <tr style=\"text-align: right;\">\n",
              "      <th></th>\n",
              "      <th>taxa_aprovacao</th>\n",
              "      <th>nota_saeb_matematica</th>\n",
              "      <th>nota_saeb_lingua_portuguesa</th>\n",
              "      <th>ideb</th>\n",
              "      <th>sigla_uf</th>\n",
              "    </tr>\n",
              "  </thead>\n",
              "  <tbody>\n",
              "    <tr>\n",
              "      <th>0</th>\n",
              "      <td>-0.025280</td>\n",
              "      <td>0.080727</td>\n",
              "      <td>-0.016434</td>\n",
              "      <td>0.092154</td>\n",
              "      <td>AC</td>\n",
              "    </tr>\n",
              "    <tr>\n",
              "      <th>1</th>\n",
              "      <td>0.801179</td>\n",
              "      <td>-0.437122</td>\n",
              "      <td>-0.531887</td>\n",
              "      <td>-0.201424</td>\n",
              "      <td>AL</td>\n",
              "    </tr>\n",
              "    <tr>\n",
              "      <th>2</th>\n",
              "      <td>-0.426168</td>\n",
              "      <td>-1.474271</td>\n",
              "      <td>-1.443233</td>\n",
              "      <td>-1.063297</td>\n",
              "      <td>AM</td>\n",
              "    </tr>\n",
              "    <tr>\n",
              "      <th>3</th>\n",
              "      <td>-1.670713</td>\n",
              "      <td>-1.889188</td>\n",
              "      <td>-1.751891</td>\n",
              "      <td>-1.674063</td>\n",
              "      <td>AP</td>\n",
              "    </tr>\n",
              "    <tr>\n",
              "      <th>4</th>\n",
              "      <td>-1.323101</td>\n",
              "      <td>-0.713999</td>\n",
              "      <td>-0.626401</td>\n",
              "      <td>-1.060175</td>\n",
              "      <td>BA</td>\n",
              "    </tr>\n",
              "  </tbody>\n",
              "</table>\n",
              "</div>\n",
              "      <button class=\"colab-df-convert\" onclick=\"convertToInteractive('df-c1782095-20bb-41ea-9132-a4a4dabcbd20')\"\n",
              "              title=\"Convert this dataframe to an interactive table.\"\n",
              "              style=\"display:none;\">\n",
              "        \n",
              "  <svg xmlns=\"http://www.w3.org/2000/svg\" height=\"24px\"viewBox=\"0 0 24 24\"\n",
              "       width=\"24px\">\n",
              "    <path d=\"M0 0h24v24H0V0z\" fill=\"none\"/>\n",
              "    <path d=\"M18.56 5.44l.94 2.06.94-2.06 2.06-.94-2.06-.94-.94-2.06-.94 2.06-2.06.94zm-11 1L8.5 8.5l.94-2.06 2.06-.94-2.06-.94L8.5 2.5l-.94 2.06-2.06.94zm10 10l.94 2.06.94-2.06 2.06-.94-2.06-.94-.94-2.06-.94 2.06-2.06.94z\"/><path d=\"M17.41 7.96l-1.37-1.37c-.4-.4-.92-.59-1.43-.59-.52 0-1.04.2-1.43.59L10.3 9.45l-7.72 7.72c-.78.78-.78 2.05 0 2.83L4 21.41c.39.39.9.59 1.41.59.51 0 1.02-.2 1.41-.59l7.78-7.78 2.81-2.81c.8-.78.8-2.07 0-2.86zM5.41 20L4 18.59l7.72-7.72 1.47 1.35L5.41 20z\"/>\n",
              "  </svg>\n",
              "      </button>\n",
              "      \n",
              "  <style>\n",
              "    .colab-df-container {\n",
              "      display:flex;\n",
              "      flex-wrap:wrap;\n",
              "      gap: 12px;\n",
              "    }\n",
              "\n",
              "    .colab-df-convert {\n",
              "      background-color: #E8F0FE;\n",
              "      border: none;\n",
              "      border-radius: 50%;\n",
              "      cursor: pointer;\n",
              "      display: none;\n",
              "      fill: #1967D2;\n",
              "      height: 32px;\n",
              "      padding: 0 0 0 0;\n",
              "      width: 32px;\n",
              "    }\n",
              "\n",
              "    .colab-df-convert:hover {\n",
              "      background-color: #E2EBFA;\n",
              "      box-shadow: 0px 1px 2px rgba(60, 64, 67, 0.3), 0px 1px 3px 1px rgba(60, 64, 67, 0.15);\n",
              "      fill: #174EA6;\n",
              "    }\n",
              "\n",
              "    [theme=dark] .colab-df-convert {\n",
              "      background-color: #3B4455;\n",
              "      fill: #D2E3FC;\n",
              "    }\n",
              "\n",
              "    [theme=dark] .colab-df-convert:hover {\n",
              "      background-color: #434B5C;\n",
              "      box-shadow: 0px 1px 3px 1px rgba(0, 0, 0, 0.15);\n",
              "      filter: drop-shadow(0px 1px 2px rgba(0, 0, 0, 0.3));\n",
              "      fill: #FFFFFF;\n",
              "    }\n",
              "  </style>\n",
              "\n",
              "      <script>\n",
              "        const buttonEl =\n",
              "          document.querySelector('#df-c1782095-20bb-41ea-9132-a4a4dabcbd20 button.colab-df-convert');\n",
              "        buttonEl.style.display =\n",
              "          google.colab.kernel.accessAllowed ? 'block' : 'none';\n",
              "\n",
              "        async function convertToInteractive(key) {\n",
              "          const element = document.querySelector('#df-c1782095-20bb-41ea-9132-a4a4dabcbd20');\n",
              "          const dataTable =\n",
              "            await google.colab.kernel.invokeFunction('convertToInteractive',\n",
              "                                                     [key], {});\n",
              "          if (!dataTable) return;\n",
              "\n",
              "          const docLinkHtml = 'Like what you see? Visit the ' +\n",
              "            '<a target=\"_blank\" href=https://colab.research.google.com/notebooks/data_table.ipynb>data table notebook</a>'\n",
              "            + ' to learn more about interactive tables.';\n",
              "          element.innerHTML = '';\n",
              "          dataTable['output_type'] = 'display_data';\n",
              "          await google.colab.output.renderOutput(dataTable, element);\n",
              "          const docLink = document.createElement('div');\n",
              "          docLink.innerHTML = docLinkHtml;\n",
              "          element.appendChild(docLink);\n",
              "        }\n",
              "      </script>\n",
              "    </div>\n",
              "  </div>\n",
              "  "
            ]
          },
          "metadata": {},
          "execution_count": 141
        }
      ]
    },
    {
      "cell_type": "markdown",
      "source": [
        "### Atividade 4: Use o método do cotovelo para encontrar um valor adequado de k."
      ],
      "metadata": {
        "id": "83C6DDlCO3n9"
      }
    },
    {
      "cell_type": "code",
      "source": [
        "# importando seaborn\n",
        "import seaborn as sns"
      ],
      "metadata": {
        "id": "BOQqbA2teSbL"
      },
      "execution_count": null,
      "outputs": []
    },
    {
      "cell_type": "code",
      "source": [
        "#Calculando correlação de Pearson entre todas as variáveis\n",
        "df_scaled.corr()"
      ],
      "metadata": {
        "id": "_TjXxLyHfOAA",
        "outputId": "17930c89-e6fa-478e-c812-bb3e04ab83af",
        "colab": {
          "base_uri": "https://localhost:8080/",
          "height": 174
        }
      },
      "execution_count": null,
      "outputs": [
        {
          "output_type": "execute_result",
          "data": {
            "text/plain": [
              "                             taxa_aprovacao  nota_saeb_matematica  \\\n",
              "taxa_aprovacao                     1.000000              0.694758   \n",
              "nota_saeb_matematica               0.694758              1.000000   \n",
              "nota_saeb_lingua_portuguesa        0.678749              0.991215   \n",
              "ideb                               0.810383              0.956512   \n",
              "\n",
              "                             nota_saeb_lingua_portuguesa      ideb  \n",
              "taxa_aprovacao                                  0.678749  0.810383  \n",
              "nota_saeb_matematica                            0.991215  0.956512  \n",
              "nota_saeb_lingua_portuguesa                     1.000000  0.938921  \n",
              "ideb                                            0.938921  1.000000  "
            ],
            "text/html": [
              "\n",
              "  <div id=\"df-a76eff17-5cec-4df7-b703-3098573d0063\">\n",
              "    <div class=\"colab-df-container\">\n",
              "      <div>\n",
              "<style scoped>\n",
              "    .dataframe tbody tr th:only-of-type {\n",
              "        vertical-align: middle;\n",
              "    }\n",
              "\n",
              "    .dataframe tbody tr th {\n",
              "        vertical-align: top;\n",
              "    }\n",
              "\n",
              "    .dataframe thead th {\n",
              "        text-align: right;\n",
              "    }\n",
              "</style>\n",
              "<table border=\"1\" class=\"dataframe\">\n",
              "  <thead>\n",
              "    <tr style=\"text-align: right;\">\n",
              "      <th></th>\n",
              "      <th>taxa_aprovacao</th>\n",
              "      <th>nota_saeb_matematica</th>\n",
              "      <th>nota_saeb_lingua_portuguesa</th>\n",
              "      <th>ideb</th>\n",
              "    </tr>\n",
              "  </thead>\n",
              "  <tbody>\n",
              "    <tr>\n",
              "      <th>taxa_aprovacao</th>\n",
              "      <td>1.000000</td>\n",
              "      <td>0.694758</td>\n",
              "      <td>0.678749</td>\n",
              "      <td>0.810383</td>\n",
              "    </tr>\n",
              "    <tr>\n",
              "      <th>nota_saeb_matematica</th>\n",
              "      <td>0.694758</td>\n",
              "      <td>1.000000</td>\n",
              "      <td>0.991215</td>\n",
              "      <td>0.956512</td>\n",
              "    </tr>\n",
              "    <tr>\n",
              "      <th>nota_saeb_lingua_portuguesa</th>\n",
              "      <td>0.678749</td>\n",
              "      <td>0.991215</td>\n",
              "      <td>1.000000</td>\n",
              "      <td>0.938921</td>\n",
              "    </tr>\n",
              "    <tr>\n",
              "      <th>ideb</th>\n",
              "      <td>0.810383</td>\n",
              "      <td>0.956512</td>\n",
              "      <td>0.938921</td>\n",
              "      <td>1.000000</td>\n",
              "    </tr>\n",
              "  </tbody>\n",
              "</table>\n",
              "</div>\n",
              "      <button class=\"colab-df-convert\" onclick=\"convertToInteractive('df-a76eff17-5cec-4df7-b703-3098573d0063')\"\n",
              "              title=\"Convert this dataframe to an interactive table.\"\n",
              "              style=\"display:none;\">\n",
              "        \n",
              "  <svg xmlns=\"http://www.w3.org/2000/svg\" height=\"24px\"viewBox=\"0 0 24 24\"\n",
              "       width=\"24px\">\n",
              "    <path d=\"M0 0h24v24H0V0z\" fill=\"none\"/>\n",
              "    <path d=\"M18.56 5.44l.94 2.06.94-2.06 2.06-.94-2.06-.94-.94-2.06-.94 2.06-2.06.94zm-11 1L8.5 8.5l.94-2.06 2.06-.94-2.06-.94L8.5 2.5l-.94 2.06-2.06.94zm10 10l.94 2.06.94-2.06 2.06-.94-2.06-.94-.94-2.06-.94 2.06-2.06.94z\"/><path d=\"M17.41 7.96l-1.37-1.37c-.4-.4-.92-.59-1.43-.59-.52 0-1.04.2-1.43.59L10.3 9.45l-7.72 7.72c-.78.78-.78 2.05 0 2.83L4 21.41c.39.39.9.59 1.41.59.51 0 1.02-.2 1.41-.59l7.78-7.78 2.81-2.81c.8-.78.8-2.07 0-2.86zM5.41 20L4 18.59l7.72-7.72 1.47 1.35L5.41 20z\"/>\n",
              "  </svg>\n",
              "      </button>\n",
              "      \n",
              "  <style>\n",
              "    .colab-df-container {\n",
              "      display:flex;\n",
              "      flex-wrap:wrap;\n",
              "      gap: 12px;\n",
              "    }\n",
              "\n",
              "    .colab-df-convert {\n",
              "      background-color: #E8F0FE;\n",
              "      border: none;\n",
              "      border-radius: 50%;\n",
              "      cursor: pointer;\n",
              "      display: none;\n",
              "      fill: #1967D2;\n",
              "      height: 32px;\n",
              "      padding: 0 0 0 0;\n",
              "      width: 32px;\n",
              "    }\n",
              "\n",
              "    .colab-df-convert:hover {\n",
              "      background-color: #E2EBFA;\n",
              "      box-shadow: 0px 1px 2px rgba(60, 64, 67, 0.3), 0px 1px 3px 1px rgba(60, 64, 67, 0.15);\n",
              "      fill: #174EA6;\n",
              "    }\n",
              "\n",
              "    [theme=dark] .colab-df-convert {\n",
              "      background-color: #3B4455;\n",
              "      fill: #D2E3FC;\n",
              "    }\n",
              "\n",
              "    [theme=dark] .colab-df-convert:hover {\n",
              "      background-color: #434B5C;\n",
              "      box-shadow: 0px 1px 3px 1px rgba(0, 0, 0, 0.15);\n",
              "      filter: drop-shadow(0px 1px 2px rgba(0, 0, 0, 0.3));\n",
              "      fill: #FFFFFF;\n",
              "    }\n",
              "  </style>\n",
              "\n",
              "      <script>\n",
              "        const buttonEl =\n",
              "          document.querySelector('#df-a76eff17-5cec-4df7-b703-3098573d0063 button.colab-df-convert');\n",
              "        buttonEl.style.display =\n",
              "          google.colab.kernel.accessAllowed ? 'block' : 'none';\n",
              "\n",
              "        async function convertToInteractive(key) {\n",
              "          const element = document.querySelector('#df-a76eff17-5cec-4df7-b703-3098573d0063');\n",
              "          const dataTable =\n",
              "            await google.colab.kernel.invokeFunction('convertToInteractive',\n",
              "                                                     [key], {});\n",
              "          if (!dataTable) return;\n",
              "\n",
              "          const docLinkHtml = 'Like what you see? Visit the ' +\n",
              "            '<a target=\"_blank\" href=https://colab.research.google.com/notebooks/data_table.ipynb>data table notebook</a>'\n",
              "            + ' to learn more about interactive tables.';\n",
              "          element.innerHTML = '';\n",
              "          dataTable['output_type'] = 'display_data';\n",
              "          await google.colab.output.renderOutput(dataTable, element);\n",
              "          const docLink = document.createElement('div');\n",
              "          docLink.innerHTML = docLinkHtml;\n",
              "          element.appendChild(docLink);\n",
              "        }\n",
              "      </script>\n",
              "    </div>\n",
              "  </div>\n",
              "  "
            ]
          },
          "metadata": {},
          "execution_count": 143
        }
      ]
    },
    {
      "cell_type": "code",
      "source": [
        "#correlação de Pearson entre as variáveis escolhidas: taxa de aprovação e ideb\n",
        "df_scaled[['taxa_aprovacao','ideb']].corr()"
      ],
      "metadata": {
        "id": "uMyX33odWKIE",
        "outputId": "1e590705-4771-44e4-9563-a053645a4c05",
        "colab": {
          "base_uri": "https://localhost:8080/",
          "height": 112
        }
      },
      "execution_count": null,
      "outputs": [
        {
          "output_type": "execute_result",
          "data": {
            "text/plain": [
              "                taxa_aprovacao      ideb\n",
              "taxa_aprovacao        1.000000  0.810383\n",
              "ideb                  0.810383  1.000000"
            ],
            "text/html": [
              "\n",
              "  <div id=\"df-9d1b2dcf-b0be-4b24-9e50-3fd4bc823d4f\">\n",
              "    <div class=\"colab-df-container\">\n",
              "      <div>\n",
              "<style scoped>\n",
              "    .dataframe tbody tr th:only-of-type {\n",
              "        vertical-align: middle;\n",
              "    }\n",
              "\n",
              "    .dataframe tbody tr th {\n",
              "        vertical-align: top;\n",
              "    }\n",
              "\n",
              "    .dataframe thead th {\n",
              "        text-align: right;\n",
              "    }\n",
              "</style>\n",
              "<table border=\"1\" class=\"dataframe\">\n",
              "  <thead>\n",
              "    <tr style=\"text-align: right;\">\n",
              "      <th></th>\n",
              "      <th>taxa_aprovacao</th>\n",
              "      <th>ideb</th>\n",
              "    </tr>\n",
              "  </thead>\n",
              "  <tbody>\n",
              "    <tr>\n",
              "      <th>taxa_aprovacao</th>\n",
              "      <td>1.000000</td>\n",
              "      <td>0.810383</td>\n",
              "    </tr>\n",
              "    <tr>\n",
              "      <th>ideb</th>\n",
              "      <td>0.810383</td>\n",
              "      <td>1.000000</td>\n",
              "    </tr>\n",
              "  </tbody>\n",
              "</table>\n",
              "</div>\n",
              "      <button class=\"colab-df-convert\" onclick=\"convertToInteractive('df-9d1b2dcf-b0be-4b24-9e50-3fd4bc823d4f')\"\n",
              "              title=\"Convert this dataframe to an interactive table.\"\n",
              "              style=\"display:none;\">\n",
              "        \n",
              "  <svg xmlns=\"http://www.w3.org/2000/svg\" height=\"24px\"viewBox=\"0 0 24 24\"\n",
              "       width=\"24px\">\n",
              "    <path d=\"M0 0h24v24H0V0z\" fill=\"none\"/>\n",
              "    <path d=\"M18.56 5.44l.94 2.06.94-2.06 2.06-.94-2.06-.94-.94-2.06-.94 2.06-2.06.94zm-11 1L8.5 8.5l.94-2.06 2.06-.94-2.06-.94L8.5 2.5l-.94 2.06-2.06.94zm10 10l.94 2.06.94-2.06 2.06-.94-2.06-.94-.94-2.06-.94 2.06-2.06.94z\"/><path d=\"M17.41 7.96l-1.37-1.37c-.4-.4-.92-.59-1.43-.59-.52 0-1.04.2-1.43.59L10.3 9.45l-7.72 7.72c-.78.78-.78 2.05 0 2.83L4 21.41c.39.39.9.59 1.41.59.51 0 1.02-.2 1.41-.59l7.78-7.78 2.81-2.81c.8-.78.8-2.07 0-2.86zM5.41 20L4 18.59l7.72-7.72 1.47 1.35L5.41 20z\"/>\n",
              "  </svg>\n",
              "      </button>\n",
              "      \n",
              "  <style>\n",
              "    .colab-df-container {\n",
              "      display:flex;\n",
              "      flex-wrap:wrap;\n",
              "      gap: 12px;\n",
              "    }\n",
              "\n",
              "    .colab-df-convert {\n",
              "      background-color: #E8F0FE;\n",
              "      border: none;\n",
              "      border-radius: 50%;\n",
              "      cursor: pointer;\n",
              "      display: none;\n",
              "      fill: #1967D2;\n",
              "      height: 32px;\n",
              "      padding: 0 0 0 0;\n",
              "      width: 32px;\n",
              "    }\n",
              "\n",
              "    .colab-df-convert:hover {\n",
              "      background-color: #E2EBFA;\n",
              "      box-shadow: 0px 1px 2px rgba(60, 64, 67, 0.3), 0px 1px 3px 1px rgba(60, 64, 67, 0.15);\n",
              "      fill: #174EA6;\n",
              "    }\n",
              "\n",
              "    [theme=dark] .colab-df-convert {\n",
              "      background-color: #3B4455;\n",
              "      fill: #D2E3FC;\n",
              "    }\n",
              "\n",
              "    [theme=dark] .colab-df-convert:hover {\n",
              "      background-color: #434B5C;\n",
              "      box-shadow: 0px 1px 3px 1px rgba(0, 0, 0, 0.15);\n",
              "      filter: drop-shadow(0px 1px 2px rgba(0, 0, 0, 0.3));\n",
              "      fill: #FFFFFF;\n",
              "    }\n",
              "  </style>\n",
              "\n",
              "      <script>\n",
              "        const buttonEl =\n",
              "          document.querySelector('#df-9d1b2dcf-b0be-4b24-9e50-3fd4bc823d4f button.colab-df-convert');\n",
              "        buttonEl.style.display =\n",
              "          google.colab.kernel.accessAllowed ? 'block' : 'none';\n",
              "\n",
              "        async function convertToInteractive(key) {\n",
              "          const element = document.querySelector('#df-9d1b2dcf-b0be-4b24-9e50-3fd4bc823d4f');\n",
              "          const dataTable =\n",
              "            await google.colab.kernel.invokeFunction('convertToInteractive',\n",
              "                                                     [key], {});\n",
              "          if (!dataTable) return;\n",
              "\n",
              "          const docLinkHtml = 'Like what you see? Visit the ' +\n",
              "            '<a target=\"_blank\" href=https://colab.research.google.com/notebooks/data_table.ipynb>data table notebook</a>'\n",
              "            + ' to learn more about interactive tables.';\n",
              "          element.innerHTML = '';\n",
              "          dataTable['output_type'] = 'display_data';\n",
              "          await google.colab.output.renderOutput(dataTable, element);\n",
              "          const docLink = document.createElement('div');\n",
              "          docLink.innerHTML = docLinkHtml;\n",
              "          element.appendChild(docLink);\n",
              "        }\n",
              "      </script>\n",
              "    </div>\n",
              "  </div>\n",
              "  "
            ]
          },
          "metadata": {},
          "execution_count": 144
        }
      ]
    },
    {
      "cell_type": "code",
      "source": [
        "# importando o KMeans - função de clustorização kMeans\n",
        "from sklearn.cluster import KMeans"
      ],
      "metadata": {
        "id": "9w5aOTdvPCHx"
      },
      "execution_count": null,
      "outputs": []
    },
    {
      "cell_type": "code",
      "source": [
        "# importando a biblioteca matplotlib\n",
        "import matplotlib.pyplot as plt"
      ],
      "metadata": {
        "id": "oJXZZKhtg51x"
      },
      "execution_count": null,
      "outputs": []
    },
    {
      "cell_type": "code",
      "source": [
        "#criando gráfico de cotovelo configurando o tamanho da figura de acordo com o desenho\n",
        "sns.set(style='white', font_scale=1.1, rc={'figure.figsize':(14,5)})\n",
        "\n",
        "inercia = []\n",
        "k_min = 2\n",
        "k_max = 10\n",
        "\n",
        "for i in range(k_min,k_max+1):\n",
        "    kmeans = KMeans(n_clusters=i, random_state=42)\n",
        "    kmeans.fit(df_scaled[['taxa_aprovacao','ideb']])\n",
        "    inercia.append(kmeans.inertia_)\n",
        "\n",
        "#plotar o lineplot que precisa de x e y, x será o range que vai do kmin para o kmax+1 e o y será os valores da lista inércia; marker= '0' será\n",
        "#marcada uma bolinha em cima da linha para cada valor inteiro\n",
        "sns.lineplot(x=range(k_min,k_max+1), y=inercia, marker='o')\n",
        "#colocar título no gráfico\n",
        "plt.title('Soma dos Quadrados Intra-Cluster')\n",
        "#label do eixo x - número de clusters\n",
        "plt.xlabel('Número de Clusters')\n",
        "#coloca as gradinhas no fundo do gráfico\n",
        "plt.grid(True)"
      ],
      "metadata": {
        "id": "IRd_-e-sfsLc",
        "outputId": "5cef746a-8216-4e92-fa4f-7cc3ecfc4ee3",
        "colab": {
          "base_uri": "https://localhost:8080/",
          "height": 358
        }
      },
      "execution_count": null,
      "outputs": [
        {
          "output_type": "display_data",
          "data": {
            "text/plain": [
              "<Figure size 1008x360 with 1 Axes>"
            ],
            "image/png": "[encoded data removed]"
          },
          "metadata": {}
        }
      ]
    },
    {
      "cell_type": "code",
      "source": [
        "# calculando a quantidade ótima de clusters\n",
        "def numero_otimo_clusters(k_min, k_max):\n",
        "    from sklearn.cluster import KMeans\n",
        "    import math\n",
        "    inercia = []\n",
        "\n",
        "    for i in range(k_min,k_max+1):\n",
        "        kmeans = KMeans(n_clusters=i, random_state=42)\n",
        "        kmeans.fit(df_scaled[['taxa_aprovacao','ideb']])\n",
        "        inercia.append(kmeans.inertia_)\n",
        "\n",
        "    x0, y0 = k_min, inercia[0]\n",
        "    x1, y1 = k_max, inercia[len(inercia)-1]\n",
        "\n",
        "    distancias = []\n",
        "    for i in range(len(inercia)):\n",
        "        x = i+k_min\n",
        "        y = inercia[i]\n",
        "        numerador = abs( (y1-y0)*x - (x1-x0)*y + x1*y0 - y1*x0 )\n",
        "        denominador = math.sqrt( (y1 - y0)**2 + (x1 - x0)**2 )\n",
        "        distancias.append(numerador/denominador)\n",
        "    return distancias.index(max(distancias)) + 2\n",
        "\n",
        "k_otimo = numero_otimo_clusters(2,10)\n",
        "\n",
        "print('Número otimizado de clusters: ' + str(k_otimo))"
      ],
      "metadata": {
        "id": "2F2wTyqQiQDU",
        "outputId": "c1d73bcb-5650-4af1-db80-6599a496e91f",
        "colab": {
          "base_uri": "https://localhost:8080/"
        }
      },
      "execution_count": null,
      "outputs": [
        {
          "output_type": "stream",
          "name": "stdout",
          "text": [
            "Número otimizado de clusters: 4\n"
          ]
        }
      ]
    },
    {
      "cell_type": "markdown",
      "source": [
        "### Atividade 5: Use o método da silhueta para encontrar um valor adequado de k"
      ],
      "metadata": {
        "id": "OCXL1qDNPAwg"
      }
    },
    {
      "cell_type": "code",
      "source": [
        "#Utilizando o método silhueta\n",
        "from sklearn.metrics import silhouette_score\n",
        "\n",
        "silhueta = []\n",
        "k_min = 2\n",
        "k_max = 10\n",
        "n = [i for i in range(k_min, k_max+1)]\n",
        "\n",
        "for i in range(k_min,k_max+1):\n",
        "\n",
        "    kmeans = KMeans(n_clusters=i, random_state=42)\n",
        "    kmeans.fit(df_scaled[['taxa_aprovacao','ideb']])\n",
        "    silhueta.append(silhouette_score(df_scaled[['taxa_aprovacao','ideb']],\n",
        "                                     kmeans.labels_,\n",
        "                                     metric='euclidean'))\n",
        "#Criar um gráfico de barras - barplot com range que vai de 2 até o 10 -> por isso acima criado o n 'n = [i for i in range(k_min, k_max+1)]'\n",
        "#em que o x será o valor de n e o y o valor da silhueta e definição da cor das barras de vermelho\n",
        "sns.barplot(x=n, y=silhueta, color='red')\n",
        "#colocar título no gráfico\n",
        "plt.title('Coeficiente de Silhueta')\n",
        "#label do eixo x - número de clusters\n",
        "plt.xlabel('Número de Clusters')\n",
        "#coloca as gradinhas no fundo do gráfico\n",
        "plt.grid(True)"
      ],
      "metadata": {
        "id": "FHq5nB27WLdW",
        "outputId": "0fb209cb-8687-4191-ee24-5c320d360149",
        "colab": {
          "base_uri": "https://localhost:8080/",
          "height": 358
        }
      },
      "execution_count": null,
      "outputs": [
        {
          "output_type": "display_data",
          "data": {
            "text/plain": [
              "<Figure size 1008x360 with 1 Axes>"
            ],
            "image/png": "[encoded data removed]"
          },
          "metadata": {}
        }
      ]
    },
    {
      "cell_type": "code",
      "source": [
        "#plotando o gráfico da silhueta e do cotovelo sobrepostos.\n",
        "#dizemos que o primeiro eixo (ax) será o primeiro gráfico com 'fig, ax = plt.subplots()'\n",
        "#e o segundo eixo (ax2) será ax2 = ax.twinx()\n",
        "fig, ax = plt.subplots()\n",
        "sns.lineplot(x=range(k_min,k_max+1), y=inercia, marker='o')\n",
        "plt.legend(labels=[\"cotovelo\"], bbox_to_anchor=(0.8, 1), loc='upper right')\n",
        "ax2 = ax.twinx()\n",
        "sns.lineplot(x=range(k_min,k_max+1), y=silhueta, marker='o', color='red')\n",
        "plt.legend(labels=[\"silhueta\"], bbox_to_anchor=(0.8, 0.9), loc='upper right');"
      ],
      "metadata": {
        "id": "MjSeX7iYjYda",
        "outputId": "47cc6ecd-91f4-4fc6-cc84-dfc9f6ea9683",
        "colab": {
          "base_uri": "https://localhost:8080/",
          "height": 325
        }
      },
      "execution_count": null,
      "outputs": [
        {
          "output_type": "display_data",
          "data": {
            "text/plain": [
              "<Figure size 1008x360 with 2 Axes>"
            ],
            "image/png": "[encoded data removed]"
          },
          "metadata": {}
        }
      ]
    },
    {
      "cell_type": "markdown",
      "source": [
        "### Atividade 6: Faça a clusterização com o valor escolhido para k."
      ],
      "metadata": {
        "id": "2p-vTKMfOoUZ"
      }
    },
    {
      "cell_type": "code",
      "source": [
        "# instanciando o algoritmo\n",
        "kmeans = KMeans(n_clusters=4, random_state=42)\n",
        "\n",
        "# aplicando o algoritmo aos dados '.fit' aplicando ao conjunto de dados na escala correta. Passar somente as colunas de interesse.\n",
        "kmeans.fit(df_scaled[['taxa_aprovacao','ideb']])\n",
        "\n",
        "#A mensagem retornada quer dizer que o objeto KMeans foi criado com os parâmetro solicitados e aplicado ao conjunto de dados."
      ],
      "metadata": {
        "id": "vyDEtBX7q1Wr",
        "outputId": "5faa4f5e-bfc6-4817-e36e-a6260faf6fe9",
        "colab": {
          "base_uri": "https://localhost:8080/"
        }
      },
      "execution_count": null,
      "outputs": [
        {
          "output_type": "execute_result",
          "data": {
            "text/plain": [
              "KMeans(n_clusters=4, random_state=42)"
            ]
          },
          "metadata": {},
          "execution_count": 151
        }
      ]
    },
    {
      "cell_type": "markdown",
      "source": [
        "### Atividade 7: Faça um gráfico de dispersão destacando cada grupo."
      ],
      "metadata": {
        "id": "otEYFO5KOshc"
      }
    },
    {
      "cell_type": "code",
      "source": [
        "# vendo os grupos (lista de 0, 1, 2 e 3 - com 4 grupos)\n",
        "kmeans.labels_"
      ],
      "metadata": {
        "id": "7EYWAkTErRXf",
        "outputId": "c0075d16-536e-454e-9655-1ab6ba89d562",
        "colab": {
          "base_uri": "https://localhost:8080/"
        }
      },
      "execution_count": null,
      "outputs": [
        {
          "output_type": "execute_result",
          "data": {
            "text/plain": [
              "array([0, 0, 2, 1, 1, 3, 0, 3, 3, 2, 0, 0, 0, 1, 2, 0, 2, 3, 0, 1, 0, 2,\n",
              "       0, 0, 1, 3, 0], dtype=int32)"
            ]
          },
          "metadata": {},
          "execution_count": 152
        }
      ]
    },
    {
      "cell_type": "code",
      "source": [
        "# adicionando os grupos encontrados ao DataFrame original\n",
        "#add a coluna grupos que é um array (kmeans.labels_), que precisa ser convertido em lista\n",
        "# converte em lista com o uso do '.tolist()'\n",
        "df_2019 ['grupos'] = kmeans.labels_.tolist()\n",
        "df_2019.head()"
      ],
      "metadata": {
        "id": "srxxHAFKrRSs",
        "outputId": "209b8e64-59c4-4255-dce1-4d8d780c9aa0",
        "colab": {
          "base_uri": "https://localhost:8080/",
          "height": 206
        }
      },
      "execution_count": null,
      "outputs": [
        {
          "output_type": "execute_result",
          "data": {
            "text/plain": [
              "  sigla_uf     ano  taxa_aprovacao  nota_saeb_matematica  \\\n",
              "0       AC  2019.0       88.561184            245.253478   \n",
              "1       AL  2019.0       92.081591            237.883189   \n",
              "2       AM  2019.0       86.853550            223.121965   \n",
              "3       AP  2019.0       81.552252            217.216667   \n",
              "4       BA  2019.0       83.032948            233.942537   \n",
              "\n",
              "   nota_saeb_lingua_portuguesa      ideb  grupos  \n",
              "0                   237.995942  4.671739       0  \n",
              "1                   231.412708  4.509295       0  \n",
              "2                   219.773218  4.032397       2  \n",
              "3                   215.831111  3.694444       1  \n",
              "4                   230.205596  4.034125       1  "
            ],
            "text/html": [
              "\n",
              "  <div id=\"df-48085592-a8a7-4cf2-aef5-37b4d30035eb\">\n",
              "    <div class=\"colab-df-container\">\n",
              "      <div>\n",
              "<style scoped>\n",
              "    .dataframe tbody tr th:only-of-type {\n",
              "        vertical-align: middle;\n",
              "    }\n",
              "\n",
              "    .dataframe tbody tr th {\n",
              "        vertical-align: top;\n",
              "    }\n",
              "\n",
              "    .dataframe thead th {\n",
              "        text-align: right;\n",
              "    }\n",
              "</style>\n",
              "<table border=\"1\" class=\"dataframe\">\n",
              "  <thead>\n",
              "    <tr style=\"text-align: right;\">\n",
              "      <th></th>\n",
              "      <th>sigla_uf</th>\n",
              "      <th>ano</th>\n",
              "      <th>taxa_aprovacao</th>\n",
              "      <th>nota_saeb_matematica</th>\n",
              "      <th>nota_saeb_lingua_portuguesa</th>\n",
              "      <th>ideb</th>\n",
              "      <th>grupos</th>\n",
              "    </tr>\n",
              "  </thead>\n",
              "  <tbody>\n",
              "    <tr>\n",
              "      <th>0</th>\n",
              "      <td>AC</td>\n",
              "      <td>2019.0</td>\n",
              "      <td>88.561184</td>\n",
              "      <td>245.253478</td>\n",
              "      <td>237.995942</td>\n",
              "      <td>4.671739</td>\n",
              "      <td>0</td>\n",
              "    </tr>\n",
              "    <tr>\n",
              "      <th>1</th>\n",
              "      <td>AL</td>\n",
              "      <td>2019.0</td>\n",
              "      <td>92.081591</td>\n",
              "      <td>237.883189</td>\n",
              "      <td>231.412708</td>\n",
              "      <td>4.509295</td>\n",
              "      <td>0</td>\n",
              "    </tr>\n",
              "    <tr>\n",
              "      <th>2</th>\n",
              "      <td>AM</td>\n",
              "      <td>2019.0</td>\n",
              "      <td>86.853550</td>\n",
              "      <td>223.121965</td>\n",
              "      <td>219.773218</td>\n",
              "      <td>4.032397</td>\n",
              "      <td>2</td>\n",
              "    </tr>\n",
              "    <tr>\n",
              "      <th>3</th>\n",
              "      <td>AP</td>\n",
              "      <td>2019.0</td>\n",
              "      <td>81.552252</td>\n",
              "      <td>217.216667</td>\n",
              "      <td>215.831111</td>\n",
              "      <td>3.694444</td>\n",
              "      <td>1</td>\n",
              "    </tr>\n",
              "    <tr>\n",
              "      <th>4</th>\n",
              "      <td>BA</td>\n",
              "      <td>2019.0</td>\n",
              "      <td>83.032948</td>\n",
              "      <td>233.942537</td>\n",
              "      <td>230.205596</td>\n",
              "      <td>4.034125</td>\n",
              "      <td>1</td>\n",
              "    </tr>\n",
              "  </tbody>\n",
              "</table>\n",
              "</div>\n",
              "      <button class=\"colab-df-convert\" onclick=\"convertToInteractive('df-48085592-a8a7-4cf2-aef5-37b4d30035eb')\"\n",
              "              title=\"Convert this dataframe to an interactive table.\"\n",
              "              style=\"display:none;\">\n",
              "        \n",
              "  <svg xmlns=\"http://www.w3.org/2000/svg\" height=\"24px\"viewBox=\"0 0 24 24\"\n",
              "       width=\"24px\">\n",
              "    <path d=\"M0 0h24v24H0V0z\" fill=\"none\"/>\n",
              "    <path d=\"M18.56 5.44l.94 2.06.94-2.06 2.06-.94-2.06-.94-.94-2.06-.94 2.06-2.06.94zm-11 1L8.5 8.5l.94-2.06 2.06-.94-2.06-.94L8.5 2.5l-.94 2.06-2.06.94zm10 10l.94 2.06.94-2.06 2.06-.94-2.06-.94-.94-2.06-.94 2.06-2.06.94z\"/><path d=\"M17.41 7.96l-1.37-1.37c-.4-.4-.92-.59-1.43-.59-.52 0-1.04.2-1.43.59L10.3 9.45l-7.72 7.72c-.78.78-.78 2.05 0 2.83L4 21.41c.39.39.9.59 1.41.59.51 0 1.02-.2 1.41-.59l7.78-7.78 2.81-2.81c.8-.78.8-2.07 0-2.86zM5.41 20L4 18.59l7.72-7.72 1.47 1.35L5.41 20z\"/>\n",
              "  </svg>\n",
              "      </button>\n",
              "      \n",
              "  <style>\n",
              "    .colab-df-container {\n",
              "      display:flex;\n",
              "      flex-wrap:wrap;\n",
              "      gap: 12px;\n",
              "    }\n",
              "\n",
              "    .colab-df-convert {\n",
              "      background-color: #E8F0FE;\n",
              "      border: none;\n",
              "      border-radius: 50%;\n",
              "      cursor: pointer;\n",
              "      display: none;\n",
              "      fill: #1967D2;\n",
              "      height: 32px;\n",
              "      padding: 0 0 0 0;\n",
              "      width: 32px;\n",
              "    }\n",
              "\n",
              "    .colab-df-convert:hover {\n",
              "      background-color: #E2EBFA;\n",
              "      box-shadow: 0px 1px 2px rgba(60, 64, 67, 0.3), 0px 1px 3px 1px rgba(60, 64, 67, 0.15);\n",
              "      fill: #174EA6;\n",
              "    }\n",
              "\n",
              "    [theme=dark] .colab-df-convert {\n",
              "      background-color: #3B4455;\n",
              "      fill: #D2E3FC;\n",
              "    }\n",
              "\n",
              "    [theme=dark] .colab-df-convert:hover {\n",
              "      background-color: #434B5C;\n",
              "      box-shadow: 0px 1px 3px 1px rgba(0, 0, 0, 0.15);\n",
              "      filter: drop-shadow(0px 1px 2px rgba(0, 0, 0, 0.3));\n",
              "      fill: #FFFFFF;\n",
              "    }\n",
              "  </style>\n",
              "\n",
              "      <script>\n",
              "        const buttonEl =\n",
              "          document.querySelector('#df-48085592-a8a7-4cf2-aef5-37b4d30035eb button.colab-df-convert');\n",
              "        buttonEl.style.display =\n",
              "          google.colab.kernel.accessAllowed ? 'block' : 'none';\n",
              "\n",
              "        async function convertToInteractive(key) {\n",
              "          const element = document.querySelector('#df-48085592-a8a7-4cf2-aef5-37b4d30035eb');\n",
              "          const dataTable =\n",
              "            await google.colab.kernel.invokeFunction('convertToInteractive',\n",
              "                                                     [key], {});\n",
              "          if (!dataTable) return;\n",
              "\n",
              "          const docLinkHtml = 'Like what you see? Visit the ' +\n",
              "            '<a target=\"_blank\" href=https://colab.research.google.com/notebooks/data_table.ipynb>data table notebook</a>'\n",
              "            + ' to learn more about interactive tables.';\n",
              "          element.innerHTML = '';\n",
              "          dataTable['output_type'] = 'display_data';\n",
              "          await google.colab.output.renderOutput(dataTable, element);\n",
              "          const docLink = document.createElement('div');\n",
              "          docLink.innerHTML = docLinkHtml;\n",
              "          element.appendChild(docLink);\n",
              "        }\n",
              "      </script>\n",
              "    </div>\n",
              "  </div>\n",
              "  "
            ]
          },
          "metadata": {},
          "execution_count": 153
        }
      ]
    },
    {
      "cell_type": "code",
      "source": [
        "# criando um gráfico de dispersão levando em considração os grupos\n",
        "sns.scatterplot(data=df_2019, x='taxa_aprovacao', y='ideb', hue='grupos', palette='tab10');"
      ],
      "metadata": {
        "id": "Ff3D83F7r5kC",
        "outputId": "8a81ba0e-2a6b-4cad-b5ea-fc8a1582306b",
        "colab": {
          "base_uri": "https://localhost:8080/",
          "height": 342
        }
      },
      "execution_count": null,
      "outputs": [
        {
          "output_type": "display_data",
          "data": {
            "text/plain": [
              "<Figure size 1008x360 with 1 Axes>"
            ],
            "image/png": "[encoded data removed]"
          },
          "metadata": {}
        }
      ]
    },
    {
      "cell_type": "markdown",
      "source": [
        "### Atividade 8: Quais são os estados de cada grupo?"
      ],
      "metadata": {
        "id": "VcXRkwdVOxwN"
      }
    },
    {
      "cell_type": "code",
      "source": [
        "# criando o gráfico de dispersão\n",
        "#primeiro copia linha de código utilizada no gráfico anterior\n",
        "sns.scatterplot(data=df_2019, x='taxa_aprovacao', y='ideb', hue='grupos', palette='tab10');\n",
        "\n",
        "#segundo\n",
        "# criando listas que serviram de apoio para anotar a sigla de cada estado no gráfico\n",
        "#eixo x\n",
        "aprovacao = df_2019['taxa_aprovacao']\n",
        "#eixo y\n",
        "ideb = df_2019['ideb']\n",
        "#que será escrito. - pegar a coluna estado e olhar na ordem que eles aparecem e escrever as siglas\n",
        "#organizar uma lista\n",
        "estados = ['AC','AL','AP','AM','BA','CE','DF','ES','GO','MA','MT','MS','MG',\n",
        "           'PR','PB','PA','PE','PI','RN','RS','RJ','RO','RR','SC','SE','SP','TO']\n",
        "\n",
        "# importando a biblioteca matplotlib\n",
        "import matplotlib.pyplot as plt\n",
        "\n",
        "# anotando os 'nomes' de cada estado\n",
        "#Uma sigla para cada ponto precisa escrever um laço de repetição para escrever tantas vezes quanto estados tiver.\n",
        "#laço de repetição for i - enumerate cria uma enumeração, ex. acre 0, proximo 2...\n",
        "#função annotate irá anotar o que queremos passar (estados)\n",
        "#par ordenado i (que percorre os estados) eixo x desemprego e eixo y pobres\n",
        "for i, estado in enumerate(estados):\n",
        "    plt.annotate(estado, (aprovacao[i], ideb[i]) );"
      ],
      "metadata": {
        "id": "30ybTnxRWQ8n",
        "outputId": "4b9fac7c-c2ee-4962-ee34-4960da4cb911",
        "colab": {
          "base_uri": "https://localhost:8080/",
          "height": 342
        }
      },
      "execution_count": null,
      "outputs": [
        {
          "output_type": "display_data",
          "data": {
            "text/plain": [
              "<Figure size 1008x360 with 1 Axes>"
            ],
            "image/png": "[encoded data removed]"
          },
          "metadata": {}
        }
      ]
    },
    {
      "cell_type": "markdown",
      "source": [
        "### Atividade 9: Faça um boxplot para comparar os valores das variáveis por grupo."
      ],
      "metadata": {
        "id": "ZdgBTz3Zcuc4"
      }
    },
    {
      "cell_type": "code",
      "source": [
        "#boxplot com a média do IDEB para cada cluster\n",
        "sns.boxplot(x=df_2019['grupos'], y=df_2019['ideb']);"
      ],
      "metadata": {
        "colab": {
          "base_uri": "https://localhost:8080/",
          "height": 342
        },
        "id": "-0bwxrNkQ-rk",
        "outputId": "b0eb6372-c4c0-4dc7-c1e2-d5f53ea1fdab"
      },
      "execution_count": null,
      "outputs": [
        {
          "output_type": "display_data",
          "data": {
            "text/plain": [
              "<Figure size 1008x360 with 1 Axes>"
            ],
            "image/png": "[encoded data removed]"
          },
          "metadata": {}
        }
      ]
    },
    {
      "cell_type": "code",
      "source": [
        "#Alterando a dimensão do boxplot para deixá-lo mais visível para análise\n",
        "plt.figure(figsize=(8,12))\n",
        "sns.boxplot(x=df_2019['grupos'], y=df_2019['ideb']);"
      ],
      "metadata": {
        "colab": {
          "base_uri": "https://localhost:8080/",
          "height": 723
        },
        "id": "_8yqlqG4Srmy",
        "outputId": "fc645007-3437-4c4c-8eed-7ffd659d9fe8"
      },
      "execution_count": null,
      "outputs": [
        {
          "output_type": "display_data",
          "data": {
            "text/plain": [
              "<Figure size 576x864 with 1 Axes>"
            ],
            "image/png": "[encoded data removed]"
          },
          "metadata": {}
        }
      ]
    },
    {
      "cell_type": "code",
      "source": [
        "#boxplot com a média da taxa de aprovação para cada cluster\n",
        "sns.boxplot(x=df_2019['grupos'], y=df_2019['taxa_aprovacao']);"
      ],
      "metadata": {
        "colab": {
          "base_uri": "https://localhost:8080/",
          "height": 342
        },
        "id": "36YB_nkcSJGf",
        "outputId": "6ef0415f-1413-423a-80ee-dcc27d2251ba"
      },
      "execution_count": null,
      "outputs": [
        {
          "output_type": "display_data",
          "data": {
            "text/plain": [
              "<Figure size 1008x360 with 1 Axes>"
            ],
            "image/png": "[encoded data removed]"
          },
          "metadata": {}
        }
      ]
    },
    {
      "cell_type": "code",
      "source": [
        "#Alterando a dimensão do boxplot para deixá-lo mais visível para análise\n",
        "plt.figure(figsize=(8,12))\n",
        "sns.boxplot(x=df_2019['grupos'], y=df_2019['taxa_aprovacao']);"
      ],
      "metadata": {
        "colab": {
          "base_uri": "https://localhost:8080/",
          "height": 723
        },
        "id": "sQYnYdM-TFgp",
        "outputId": "e70970f1-6d45-4e90-c808-33c3ba4cbb7e"
      },
      "execution_count": null,
      "outputs": [
        {
          "output_type": "display_data",
          "data": {
            "text/plain": [
              "<Figure size 576x864 with 1 Axes>"
            ],
            "image/png": "[encoded data removed]"
          },
          "metadata": {}
        }
      ]
    },
    {
      "cell_type": "markdown",
      "source": [
        "### Atividade 10: Podemos afirmar, estatisticamente, que os grupos são distintos? Isto é, os dados foram adequadamente clusterizados?"
      ],
      "metadata": {
        "id": "WMzMCRWXf0yQ"
      }
    },
    {
      "cell_type": "code",
      "source": [
        "#Criando DataFrame para o cluster 0\n",
        "df_2019_g0 = df_2019.loc[(df_2019['grupos'] == 0), ['ideb', 'taxa_aprovacao', 'sigla_uf', 'grupos']]\n",
        "df_2019_g0.head()"
      ],
      "metadata": {
        "colab": {
          "base_uri": "https://localhost:8080/",
          "height": 206
        },
        "id": "MyIur9zPy01P",
        "outputId": "cb193669-28ae-423a-c70e-b7e5cbd5029f"
      },
      "execution_count": null,
      "outputs": [
        {
          "output_type": "execute_result",
          "data": {
            "text/plain": [
              "        ideb  taxa_aprovacao sigla_uf  grupos\n",
              "0   4.671739       88.561184       AC       0\n",
              "1   4.509295       92.081591       AL       0\n",
              "6   4.900000       89.700000       DF       0\n",
              "10  5.096277       90.924843       MG       0\n",
              "11  4.821600       87.288296       MS       0"
            ],
            "text/html": [
              "\n",
              "  <div id=\"df-4f576c17-ef49-4a8d-86c5-1bedd9fc2794\">\n",
              "    <div class=\"colab-df-container\">\n",
              "      <div>\n",
              "<style scoped>\n",
              "    .dataframe tbody tr th:only-of-type {\n",
              "        vertical-align: middle;\n",
              "    }\n",
              "\n",
              "    .dataframe tbody tr th {\n",
              "        vertical-align: top;\n",
              "    }\n",
              "\n",
              "    .dataframe thead th {\n",
              "        text-align: right;\n",
              "    }\n",
              "</style>\n",
              "<table border=\"1\" class=\"dataframe\">\n",
              "  <thead>\n",
              "    <tr style=\"text-align: right;\">\n",
              "      <th></th>\n",
              "      <th>ideb</th>\n",
              "      <th>taxa_aprovacao</th>\n",
              "      <th>sigla_uf</th>\n",
              "      <th>grupos</th>\n",
              "    </tr>\n",
              "  </thead>\n",
              "  <tbody>\n",
              "    <tr>\n",
              "      <th>0</th>\n",
              "      <td>4.671739</td>\n",
              "      <td>88.561184</td>\n",
              "      <td>AC</td>\n",
              "      <td>0</td>\n",
              "    </tr>\n",
              "    <tr>\n",
              "      <th>1</th>\n",
              "      <td>4.509295</td>\n",
              "      <td>92.081591</td>\n",
              "      <td>AL</td>\n",
              "      <td>0</td>\n",
              "    </tr>\n",
              "    <tr>\n",
              "      <th>6</th>\n",
              "      <td>4.900000</td>\n",
              "      <td>89.700000</td>\n",
              "      <td>DF</td>\n",
              "      <td>0</td>\n",
              "    </tr>\n",
              "    <tr>\n",
              "      <th>10</th>\n",
              "      <td>5.096277</td>\n",
              "      <td>90.924843</td>\n",
              "      <td>MG</td>\n",
              "      <td>0</td>\n",
              "    </tr>\n",
              "    <tr>\n",
              "      <th>11</th>\n",
              "      <td>4.821600</td>\n",
              "      <td>87.288296</td>\n",
              "      <td>MS</td>\n",
              "      <td>0</td>\n",
              "    </tr>\n",
              "  </tbody>\n",
              "</table>\n",
              "</div>\n",
              "      <button class=\"colab-df-convert\" onclick=\"convertToInteractive('df-4f576c17-ef49-4a8d-86c5-1bedd9fc2794')\"\n",
              "              title=\"Convert this dataframe to an interactive table.\"\n",
              "              style=\"display:none;\">\n",
              "        \n",
              "  <svg xmlns=\"http://www.w3.org/2000/svg\" height=\"24px\"viewBox=\"0 0 24 24\"\n",
              "       width=\"24px\">\n",
              "    <path d=\"M0 0h24v24H0V0z\" fill=\"none\"/>\n",
              "    <path d=\"M18.56 5.44l.94 2.06.94-2.06 2.06-.94-2.06-.94-.94-2.06-.94 2.06-2.06.94zm-11 1L8.5 8.5l.94-2.06 2.06-.94-2.06-.94L8.5 2.5l-.94 2.06-2.06.94zm10 10l.94 2.06.94-2.06 2.06-.94-2.06-.94-.94-2.06-.94 2.06-2.06.94z\"/><path d=\"M17.41 7.96l-1.37-1.37c-.4-.4-.92-.59-1.43-.59-.52 0-1.04.2-1.43.59L10.3 9.45l-7.72 7.72c-.78.78-.78 2.05 0 2.83L4 21.41c.39.39.9.59 1.41.59.51 0 1.02-.2 1.41-.59l7.78-7.78 2.81-2.81c.8-.78.8-2.07 0-2.86zM5.41 20L4 18.59l7.72-7.72 1.47 1.35L5.41 20z\"/>\n",
              "  </svg>\n",
              "      </button>\n",
              "      \n",
              "  <style>\n",
              "    .colab-df-container {\n",
              "      display:flex;\n",
              "      flex-wrap:wrap;\n",
              "      gap: 12px;\n",
              "    }\n",
              "\n",
              "    .colab-df-convert {\n",
              "      background-color: #E8F0FE;\n",
              "      border: none;\n",
              "      border-radius: 50%;\n",
              "      cursor: pointer;\n",
              "      display: none;\n",
              "      fill: #1967D2;\n",
              "      height: 32px;\n",
              "      padding: 0 0 0 0;\n",
              "      width: 32px;\n",
              "    }\n",
              "\n",
              "    .colab-df-convert:hover {\n",
              "      background-color: #E2EBFA;\n",
              "      box-shadow: 0px 1px 2px rgba(60, 64, 67, 0.3), 0px 1px 3px 1px rgba(60, 64, 67, 0.15);\n",
              "      fill: #174EA6;\n",
              "    }\n",
              "\n",
              "    [theme=dark] .colab-df-convert {\n",
              "      background-color: #3B4455;\n",
              "      fill: #D2E3FC;\n",
              "    }\n",
              "\n",
              "    [theme=dark] .colab-df-convert:hover {\n",
              "      background-color: #434B5C;\n",
              "      box-shadow: 0px 1px 3px 1px rgba(0, 0, 0, 0.15);\n",
              "      filter: drop-shadow(0px 1px 2px rgba(0, 0, 0, 0.3));\n",
              "      fill: #FFFFFF;\n",
              "    }\n",
              "  </style>\n",
              "\n",
              "      <script>\n",
              "        const buttonEl =\n",
              "          document.querySelector('#df-4f576c17-ef49-4a8d-86c5-1bedd9fc2794 button.colab-df-convert');\n",
              "        buttonEl.style.display =\n",
              "          google.colab.kernel.accessAllowed ? 'block' : 'none';\n",
              "\n",
              "        async function convertToInteractive(key) {\n",
              "          const element = document.querySelector('#df-4f576c17-ef49-4a8d-86c5-1bedd9fc2794');\n",
              "          const dataTable =\n",
              "            await google.colab.kernel.invokeFunction('convertToInteractive',\n",
              "                                                     [key], {});\n",
              "          if (!dataTable) return;\n",
              "\n",
              "          const docLinkHtml = 'Like what you see? Visit the ' +\n",
              "            '<a target=\"_blank\" href=https://colab.research.google.com/notebooks/data_table.ipynb>data table notebook</a>'\n",
              "            + ' to learn more about interactive tables.';\n",
              "          element.innerHTML = '';\n",
              "          dataTable['output_type'] = 'display_data';\n",
              "          await google.colab.output.renderOutput(dataTable, element);\n",
              "          const docLink = document.createElement('div');\n",
              "          docLink.innerHTML = docLinkHtml;\n",
              "          element.appendChild(docLink);\n",
              "        }\n",
              "      </script>\n",
              "    </div>\n",
              "  </div>\n",
              "  "
            ]
          },
          "metadata": {},
          "execution_count": 171
        }
      ]
    },
    {
      "cell_type": "code",
      "source": [
        "#Obtendo um resumo conciso do DataFrame para o cluster 0\n",
        "df_2019_g0.info()"
      ],
      "metadata": {
        "colab": {
          "base_uri": "https://localhost:8080/"
        },
        "id": "ziEczYbly8V9",
        "outputId": "44e55c0c-f543-4a9c-a51c-5933a97337a6"
      },
      "execution_count": null,
      "outputs": [
        {
          "output_type": "stream",
          "name": "stdout",
          "text": [
            "<class 'pandas.core.frame.DataFrame'>\n",
            "Int64Index: 12 entries, 0 to 26\n",
            "Data columns (total 4 columns):\n",
            " #   Column          Non-Null Count  Dtype  \n",
            "---  ------          --------------  -----  \n",
            " 0   ideb            12 non-null     float64\n",
            " 1   taxa_aprovacao  12 non-null     float64\n",
            " 2   sigla_uf        12 non-null     object \n",
            " 3   grupos          12 non-null     int64  \n",
            "dtypes: float64(2), int64(1), object(1)\n",
            "memory usage: 480.0+ bytes\n"
          ]
        }
      ]
    },
    {
      "cell_type": "code",
      "source": [
        "#Criando DataFrame para o cluster 1\n",
        "df_2019_g1 = df_2019.loc[(df_2019['grupos'] == 1), ['ideb', 'taxa_aprovacao', 'sigla_uf', 'grupos']]\n",
        "df_2019_g1.head()"
      ],
      "metadata": {
        "colab": {
          "base_uri": "https://localhost:8080/",
          "height": 206
        },
        "id": "VoVSa-aIy_QV",
        "outputId": "d3416149-58c5-4dcd-84fc-e06e22b78e99"
      },
      "execution_count": null,
      "outputs": [
        {
          "output_type": "execute_result",
          "data": {
            "text/plain": [
              "        ideb  taxa_aprovacao sigla_uf  grupos\n",
              "3   3.694444       81.552252       AP       1\n",
              "4   4.034125       83.032948       BA       1\n",
              "13  3.800239       81.866093       PA       1\n",
              "19  4.051177       81.787971       RN       1\n",
              "24  3.874759       80.687148       SE       1"
            ],
            "text/html": [
              "\n",
              "  <div id=\"df-0cbf012e-3b40-4150-a77c-aa28627843a5\">\n",
              "    <div class=\"colab-df-container\">\n",
              "      <div>\n",
              "<style scoped>\n",
              "    .dataframe tbody tr th:only-of-type {\n",
              "        vertical-align: middle;\n",
              "    }\n",
              "\n",
              "    .dataframe tbody tr th {\n",
              "        vertical-align: top;\n",
              "    }\n",
              "\n",
              "    .dataframe thead th {\n",
              "        text-align: right;\n",
              "    }\n",
              "</style>\n",
              "<table border=\"1\" class=\"dataframe\">\n",
              "  <thead>\n",
              "    <tr style=\"text-align: right;\">\n",
              "      <th></th>\n",
              "      <th>ideb</th>\n",
              "      <th>taxa_aprovacao</th>\n",
              "      <th>sigla_uf</th>\n",
              "      <th>grupos</th>\n",
              "    </tr>\n",
              "  </thead>\n",
              "  <tbody>\n",
              "    <tr>\n",
              "      <th>3</th>\n",
              "      <td>3.694444</td>\n",
              "      <td>81.552252</td>\n",
              "      <td>AP</td>\n",
              "      <td>1</td>\n",
              "    </tr>\n",
              "    <tr>\n",
              "      <th>4</th>\n",
              "      <td>4.034125</td>\n",
              "      <td>83.032948</td>\n",
              "      <td>BA</td>\n",
              "      <td>1</td>\n",
              "    </tr>\n",
              "    <tr>\n",
              "      <th>13</th>\n",
              "      <td>3.800239</td>\n",
              "      <td>81.866093</td>\n",
              "      <td>PA</td>\n",
              "      <td>1</td>\n",
              "    </tr>\n",
              "    <tr>\n",
              "      <th>19</th>\n",
              "      <td>4.051177</td>\n",
              "      <td>81.787971</td>\n",
              "      <td>RN</td>\n",
              "      <td>1</td>\n",
              "    </tr>\n",
              "    <tr>\n",
              "      <th>24</th>\n",
              "      <td>3.874759</td>\n",
              "      <td>80.687148</td>\n",
              "      <td>SE</td>\n",
              "      <td>1</td>\n",
              "    </tr>\n",
              "  </tbody>\n",
              "</table>\n",
              "</div>\n",
              "      <button class=\"colab-df-convert\" onclick=\"convertToInteractive('df-0cbf012e-3b40-4150-a77c-aa28627843a5')\"\n",
              "              title=\"Convert this dataframe to an interactive table.\"\n",
              "              style=\"display:none;\">\n",
              "        \n",
              "  <svg xmlns=\"http://www.w3.org/2000/svg\" height=\"24px\"viewBox=\"0 0 24 24\"\n",
              "       width=\"24px\">\n",
              "    <path d=\"M0 0h24v24H0V0z\" fill=\"none\"/>\n",
              "    <path d=\"M18.56 5.44l.94 2.06.94-2.06 2.06-.94-2.06-.94-.94-2.06-.94 2.06-2.06.94zm-11 1L8.5 8.5l.94-2.06 2.06-.94-2.06-.94L8.5 2.5l-.94 2.06-2.06.94zm10 10l.94 2.06.94-2.06 2.06-.94-2.06-.94-.94-2.06-.94 2.06-2.06.94z\"/><path d=\"M17.41 7.96l-1.37-1.37c-.4-.4-.92-.59-1.43-.59-.52 0-1.04.2-1.43.59L10.3 9.45l-7.72 7.72c-.78.78-.78 2.05 0 2.83L4 21.41c.39.39.9.59 1.41.59.51 0 1.02-.2 1.41-.59l7.78-7.78 2.81-2.81c.8-.78.8-2.07 0-2.86zM5.41 20L4 18.59l7.72-7.72 1.47 1.35L5.41 20z\"/>\n",
              "  </svg>\n",
              "      </button>\n",
              "      \n",
              "  <style>\n",
              "    .colab-df-container {\n",
              "      display:flex;\n",
              "      flex-wrap:wrap;\n",
              "      gap: 12px;\n",
              "    }\n",
              "\n",
              "    .colab-df-convert {\n",
              "      background-color: #E8F0FE;\n",
              "      border: none;\n",
              "      border-radius: 50%;\n",
              "      cursor: pointer;\n",
              "      display: none;\n",
              "      fill: #1967D2;\n",
              "      height: 32px;\n",
              "      padding: 0 0 0 0;\n",
              "      width: 32px;\n",
              "    }\n",
              "\n",
              "    .colab-df-convert:hover {\n",
              "      background-color: #E2EBFA;\n",
              "      box-shadow: 0px 1px 2px rgba(60, 64, 67, 0.3), 0px 1px 3px 1px rgba(60, 64, 67, 0.15);\n",
              "      fill: #174EA6;\n",
              "    }\n",
              "\n",
              "    [theme=dark] .colab-df-convert {\n",
              "      background-color: #3B4455;\n",
              "      fill: #D2E3FC;\n",
              "    }\n",
              "\n",
              "    [theme=dark] .colab-df-convert:hover {\n",
              "      background-color: #434B5C;\n",
              "      box-shadow: 0px 1px 3px 1px rgba(0, 0, 0, 0.15);\n",
              "      filter: drop-shadow(0px 1px 2px rgba(0, 0, 0, 0.3));\n",
              "      fill: #FFFFFF;\n",
              "    }\n",
              "  </style>\n",
              "\n",
              "      <script>\n",
              "        const buttonEl =\n",
              "          document.querySelector('#df-0cbf012e-3b40-4150-a77c-aa28627843a5 button.colab-df-convert');\n",
              "        buttonEl.style.display =\n",
              "          google.colab.kernel.accessAllowed ? 'block' : 'none';\n",
              "\n",
              "        async function convertToInteractive(key) {\n",
              "          const element = document.querySelector('#df-0cbf012e-3b40-4150-a77c-aa28627843a5');\n",
              "          const dataTable =\n",
              "            await google.colab.kernel.invokeFunction('convertToInteractive',\n",
              "                                                     [key], {});\n",
              "          if (!dataTable) return;\n",
              "\n",
              "          const docLinkHtml = 'Like what you see? Visit the ' +\n",
              "            '<a target=\"_blank\" href=https://colab.research.google.com/notebooks/data_table.ipynb>data table notebook</a>'\n",
              "            + ' to learn more about interactive tables.';\n",
              "          element.innerHTML = '';\n",
              "          dataTable['output_type'] = 'display_data';\n",
              "          await google.colab.output.renderOutput(dataTable, element);\n",
              "          const docLink = document.createElement('div');\n",
              "          docLink.innerHTML = docLinkHtml;\n",
              "          element.appendChild(docLink);\n",
              "        }\n",
              "      </script>\n",
              "    </div>\n",
              "  </div>\n",
              "  "
            ]
          },
          "metadata": {},
          "execution_count": 173
        }
      ]
    },
    {
      "cell_type": "code",
      "source": [
        "#Obtendo um resumo conciso do DataFrame para o cluster 1\n",
        "df_2019_g1.info()"
      ],
      "metadata": {
        "colab": {
          "base_uri": "https://localhost:8080/"
        },
        "id": "UE3PcNcEzFIw",
        "outputId": "7118e103-a455-4f5a-c0f0-8865d9e1a6a3"
      },
      "execution_count": null,
      "outputs": [
        {
          "output_type": "stream",
          "name": "stdout",
          "text": [
            "<class 'pandas.core.frame.DataFrame'>\n",
            "Int64Index: 5 entries, 3 to 24\n",
            "Data columns (total 4 columns):\n",
            " #   Column          Non-Null Count  Dtype  \n",
            "---  ------          --------------  -----  \n",
            " 0   ideb            5 non-null      float64\n",
            " 1   taxa_aprovacao  5 non-null      float64\n",
            " 2   sigla_uf        5 non-null      object \n",
            " 3   grupos          5 non-null      int64  \n",
            "dtypes: float64(2), int64(1), object(1)\n",
            "memory usage: 200.0+ bytes\n"
          ]
        }
      ]
    },
    {
      "cell_type": "code",
      "source": [
        "#Criando DataFrame para o cluster 2\n",
        "df_2019_g2 = df_2019.loc[(df_2019['grupos'] == 2), ['ideb', 'taxa_aprovacao', 'sigla_uf', 'grupos']]\n",
        "df_2019_g2.head()"
      ],
      "metadata": {
        "colab": {
          "base_uri": "https://localhost:8080/",
          "height": 206
        },
        "id": "3OtNl_BzzKds",
        "outputId": "7f14ff13-ad9d-4c71-da6c-87e18dd367d9"
      },
      "execution_count": null,
      "outputs": [
        {
          "output_type": "execute_result",
          "data": {
            "text/plain": [
              "        ideb  taxa_aprovacao sigla_uf  grupos\n",
              "2   4.032397       86.853550       AM       2\n",
              "9   4.067158       90.548944       MA       2\n",
              "14  4.211407       84.985982       PB       2\n",
              "16  4.361533       88.283689       PI       2\n",
              "21  3.847222       87.035484       RR       2"
            ],
            "text/html": [
              "\n",
              "  <div id=\"df-70b18844-48df-44f4-83e9-d1c6b4aa4b7d\">\n",
              "    <div class=\"colab-df-container\">\n",
              "      <div>\n",
              "<style scoped>\n",
              "    .dataframe tbody tr th:only-of-type {\n",
              "        vertical-align: middle;\n",
              "    }\n",
              "\n",
              "    .dataframe tbody tr th {\n",
              "        vertical-align: top;\n",
              "    }\n",
              "\n",
              "    .dataframe thead th {\n",
              "        text-align: right;\n",
              "    }\n",
              "</style>\n",
              "<table border=\"1\" class=\"dataframe\">\n",
              "  <thead>\n",
              "    <tr style=\"text-align: right;\">\n",
              "      <th></th>\n",
              "      <th>ideb</th>\n",
              "      <th>taxa_aprovacao</th>\n",
              "      <th>sigla_uf</th>\n",
              "      <th>grupos</th>\n",
              "    </tr>\n",
              "  </thead>\n",
              "  <tbody>\n",
              "    <tr>\n",
              "      <th>2</th>\n",
              "      <td>4.032397</td>\n",
              "      <td>86.853550</td>\n",
              "      <td>AM</td>\n",
              "      <td>2</td>\n",
              "    </tr>\n",
              "    <tr>\n",
              "      <th>9</th>\n",
              "      <td>4.067158</td>\n",
              "      <td>90.548944</td>\n",
              "      <td>MA</td>\n",
              "      <td>2</td>\n",
              "    </tr>\n",
              "    <tr>\n",
              "      <th>14</th>\n",
              "      <td>4.211407</td>\n",
              "      <td>84.985982</td>\n",
              "      <td>PB</td>\n",
              "      <td>2</td>\n",
              "    </tr>\n",
              "    <tr>\n",
              "      <th>16</th>\n",
              "      <td>4.361533</td>\n",
              "      <td>88.283689</td>\n",
              "      <td>PI</td>\n",
              "      <td>2</td>\n",
              "    </tr>\n",
              "    <tr>\n",
              "      <th>21</th>\n",
              "      <td>3.847222</td>\n",
              "      <td>87.035484</td>\n",
              "      <td>RR</td>\n",
              "      <td>2</td>\n",
              "    </tr>\n",
              "  </tbody>\n",
              "</table>\n",
              "</div>\n",
              "      <button class=\"colab-df-convert\" onclick=\"convertToInteractive('df-70b18844-48df-44f4-83e9-d1c6b4aa4b7d')\"\n",
              "              title=\"Convert this dataframe to an interactive table.\"\n",
              "              style=\"display:none;\">\n",
              "        \n",
              "  <svg xmlns=\"http://www.w3.org/2000/svg\" height=\"24px\"viewBox=\"0 0 24 24\"\n",
              "       width=\"24px\">\n",
              "    <path d=\"M0 0h24v24H0V0z\" fill=\"none\"/>\n",
              "    <path d=\"M18.56 5.44l.94 2.06.94-2.06 2.06-.94-2.06-.94-.94-2.06-.94 2.06-2.06.94zm-11 1L8.5 8.5l.94-2.06 2.06-.94-2.06-.94L8.5 2.5l-.94 2.06-2.06.94zm10 10l.94 2.06.94-2.06 2.06-.94-2.06-.94-.94-2.06-.94 2.06-2.06.94z\"/><path d=\"M17.41 7.96l-1.37-1.37c-.4-.4-.92-.59-1.43-.59-.52 0-1.04.2-1.43.59L10.3 9.45l-7.72 7.72c-.78.78-.78 2.05 0 2.83L4 21.41c.39.39.9.59 1.41.59.51 0 1.02-.2 1.41-.59l7.78-7.78 2.81-2.81c.8-.78.8-2.07 0-2.86zM5.41 20L4 18.59l7.72-7.72 1.47 1.35L5.41 20z\"/>\n",
              "  </svg>\n",
              "      </button>\n",
              "      \n",
              "  <style>\n",
              "    .colab-df-container {\n",
              "      display:flex;\n",
              "      flex-wrap:wrap;\n",
              "      gap: 12px;\n",
              "    }\n",
              "\n",
              "    .colab-df-convert {\n",
              "      background-color: #E8F0FE;\n",
              "      border: none;\n",
              "      border-radius: 50%;\n",
              "      cursor: pointer;\n",
              "      display: none;\n",
              "      fill: #1967D2;\n",
              "      height: 32px;\n",
              "      padding: 0 0 0 0;\n",
              "      width: 32px;\n",
              "    }\n",
              "\n",
              "    .colab-df-convert:hover {\n",
              "      background-color: #E2EBFA;\n",
              "      box-shadow: 0px 1px 2px rgba(60, 64, 67, 0.3), 0px 1px 3px 1px rgba(60, 64, 67, 0.15);\n",
              "      fill: #174EA6;\n",
              "    }\n",
              "\n",
              "    [theme=dark] .colab-df-convert {\n",
              "      background-color: #3B4455;\n",
              "      fill: #D2E3FC;\n",
              "    }\n",
              "\n",
              "    [theme=dark] .colab-df-convert:hover {\n",
              "      background-color: #434B5C;\n",
              "      box-shadow: 0px 1px 3px 1px rgba(0, 0, 0, 0.15);\n",
              "      filter: drop-shadow(0px 1px 2px rgba(0, 0, 0, 0.3));\n",
              "      fill: #FFFFFF;\n",
              "    }\n",
              "  </style>\n",
              "\n",
              "      <script>\n",
              "        const buttonEl =\n",
              "          document.querySelector('#df-70b18844-48df-44f4-83e9-d1c6b4aa4b7d button.colab-df-convert');\n",
              "        buttonEl.style.display =\n",
              "          google.colab.kernel.accessAllowed ? 'block' : 'none';\n",
              "\n",
              "        async function convertToInteractive(key) {\n",
              "          const element = document.querySelector('#df-70b18844-48df-44f4-83e9-d1c6b4aa4b7d');\n",
              "          const dataTable =\n",
              "            await google.colab.kernel.invokeFunction('convertToInteractive',\n",
              "                                                     [key], {});\n",
              "          if (!dataTable) return;\n",
              "\n",
              "          const docLinkHtml = 'Like what you see? Visit the ' +\n",
              "            '<a target=\"_blank\" href=https://colab.research.google.com/notebooks/data_table.ipynb>data table notebook</a>'\n",
              "            + ' to learn more about interactive tables.';\n",
              "          element.innerHTML = '';\n",
              "          dataTable['output_type'] = 'display_data';\n",
              "          await google.colab.output.renderOutput(dataTable, element);\n",
              "          const docLink = document.createElement('div');\n",
              "          docLink.innerHTML = docLinkHtml;\n",
              "          element.appendChild(docLink);\n",
              "        }\n",
              "      </script>\n",
              "    </div>\n",
              "  </div>\n",
              "  "
            ]
          },
          "metadata": {},
          "execution_count": 175
        }
      ]
    },
    {
      "cell_type": "code",
      "source": [
        "#Obtendo um resumo conciso do DataFrame para o cluster 2\n",
        "df_2019_g2.info()"
      ],
      "metadata": {
        "colab": {
          "base_uri": "https://localhost:8080/"
        },
        "id": "fOVdsjKvzgvQ",
        "outputId": "9dc284d9-40b7-4680-9a33-dc366d14c7f3"
      },
      "execution_count": null,
      "outputs": [
        {
          "output_type": "stream",
          "name": "stdout",
          "text": [
            "<class 'pandas.core.frame.DataFrame'>\n",
            "Int64Index: 5 entries, 2 to 21\n",
            "Data columns (total 4 columns):\n",
            " #   Column          Non-Null Count  Dtype  \n",
            "---  ------          --------------  -----  \n",
            " 0   ideb            5 non-null      float64\n",
            " 1   taxa_aprovacao  5 non-null      float64\n",
            " 2   sigla_uf        5 non-null      object \n",
            " 3   grupos          5 non-null      int64  \n",
            "dtypes: float64(2), int64(1), object(1)\n",
            "memory usage: 200.0+ bytes\n"
          ]
        }
      ]
    },
    {
      "cell_type": "code",
      "source": [
        "#Criando DataFrame para o cluster 3\n",
        "df_2019_g3 = df_2019.loc[(df_2019['grupos'] == 3), ['ideb', 'taxa_aprovacao', 'sigla_uf', 'grupos']]\n",
        "df_2019_g3.head()"
      ],
      "metadata": {
        "colab": {
          "base_uri": "https://localhost:8080/",
          "height": 206
        },
        "id": "a30rtD0ozPTa",
        "outputId": "0a7b86cd-0654-4e3a-824b-6a4950704a58"
      },
      "execution_count": null,
      "outputs": [
        {
          "output_type": "execute_result",
          "data": {
            "text/plain": [
              "        ideb  taxa_aprovacao sigla_uf  grupos\n",
              "5   5.318929       94.930585       CE       3\n",
              "7   5.305036       91.419721       ES       3\n",
              "8   5.357471       95.783982       GO       3\n",
              "17  5.322486       93.157586       PR       3\n",
              "25  5.522421       96.260068       SP       3"
            ],
            "text/html": [
              "\n",
              "  <div id=\"df-c86b6a8f-3abc-4dfa-8579-0b6e64e48933\">\n",
              "    <div class=\"colab-df-container\">\n",
              "      <div>\n",
              "<style scoped>\n",
              "    .dataframe tbody tr th:only-of-type {\n",
              "        vertical-align: middle;\n",
              "    }\n",
              "\n",
              "    .dataframe tbody tr th {\n",
              "        vertical-align: top;\n",
              "    }\n",
              "\n",
              "    .dataframe thead th {\n",
              "        text-align: right;\n",
              "    }\n",
              "</style>\n",
              "<table border=\"1\" class=\"dataframe\">\n",
              "  <thead>\n",
              "    <tr style=\"text-align: right;\">\n",
              "      <th></th>\n",
              "      <th>ideb</th>\n",
              "      <th>taxa_aprovacao</th>\n",
              "      <th>sigla_uf</th>\n",
              "      <th>grupos</th>\n",
              "    </tr>\n",
              "  </thead>\n",
              "  <tbody>\n",
              "    <tr>\n",
              "      <th>5</th>\n",
              "      <td>5.318929</td>\n",
              "      <td>94.930585</td>\n",
              "      <td>CE</td>\n",
              "      <td>3</td>\n",
              "    </tr>\n",
              "    <tr>\n",
              "      <th>7</th>\n",
              "      <td>5.305036</td>\n",
              "      <td>91.419721</td>\n",
              "      <td>ES</td>\n",
              "      <td>3</td>\n",
              "    </tr>\n",
              "    <tr>\n",
              "      <th>8</th>\n",
              "      <td>5.357471</td>\n",
              "      <td>95.783982</td>\n",
              "      <td>GO</td>\n",
              "      <td>3</td>\n",
              "    </tr>\n",
              "    <tr>\n",
              "      <th>17</th>\n",
              "      <td>5.322486</td>\n",
              "      <td>93.157586</td>\n",
              "      <td>PR</td>\n",
              "      <td>3</td>\n",
              "    </tr>\n",
              "    <tr>\n",
              "      <th>25</th>\n",
              "      <td>5.522421</td>\n",
              "      <td>96.260068</td>\n",
              "      <td>SP</td>\n",
              "      <td>3</td>\n",
              "    </tr>\n",
              "  </tbody>\n",
              "</table>\n",
              "</div>\n",
              "      <button class=\"colab-df-convert\" onclick=\"convertToInteractive('df-c86b6a8f-3abc-4dfa-8579-0b6e64e48933')\"\n",
              "              title=\"Convert this dataframe to an interactive table.\"\n",
              "              style=\"display:none;\">\n",
              "        \n",
              "  <svg xmlns=\"http://www.w3.org/2000/svg\" height=\"24px\"viewBox=\"0 0 24 24\"\n",
              "       width=\"24px\">\n",
              "    <path d=\"M0 0h24v24H0V0z\" fill=\"none\"/>\n",
              "    <path d=\"M18.56 5.44l.94 2.06.94-2.06 2.06-.94-2.06-.94-.94-2.06-.94 2.06-2.06.94zm-11 1L8.5 8.5l.94-2.06 2.06-.94-2.06-.94L8.5 2.5l-.94 2.06-2.06.94zm10 10l.94 2.06.94-2.06 2.06-.94-2.06-.94-.94-2.06-.94 2.06-2.06.94z\"/><path d=\"M17.41 7.96l-1.37-1.37c-.4-.4-.92-.59-1.43-.59-.52 0-1.04.2-1.43.59L10.3 9.45l-7.72 7.72c-.78.78-.78 2.05 0 2.83L4 21.41c.39.39.9.59 1.41.59.51 0 1.02-.2 1.41-.59l7.78-7.78 2.81-2.81c.8-.78.8-2.07 0-2.86zM5.41 20L4 18.59l7.72-7.72 1.47 1.35L5.41 20z\"/>\n",
              "  </svg>\n",
              "      </button>\n",
              "      \n",
              "  <style>\n",
              "    .colab-df-container {\n",
              "      display:flex;\n",
              "      flex-wrap:wrap;\n",
              "      gap: 12px;\n",
              "    }\n",
              "\n",
              "    .colab-df-convert {\n",
              "      background-color: #E8F0FE;\n",
              "      border: none;\n",
              "      border-radius: 50%;\n",
              "      cursor: pointer;\n",
              "      display: none;\n",
              "      fill: #1967D2;\n",
              "      height: 32px;\n",
              "      padding: 0 0 0 0;\n",
              "      width: 32px;\n",
              "    }\n",
              "\n",
              "    .colab-df-convert:hover {\n",
              "      background-color: #E2EBFA;\n",
              "      box-shadow: 0px 1px 2px rgba(60, 64, 67, 0.3), 0px 1px 3px 1px rgba(60, 64, 67, 0.15);\n",
              "      fill: #174EA6;\n",
              "    }\n",
              "\n",
              "    [theme=dark] .colab-df-convert {\n",
              "      background-color: #3B4455;\n",
              "      fill: #D2E3FC;\n",
              "    }\n",
              "\n",
              "    [theme=dark] .colab-df-convert:hover {\n",
              "      background-color: #434B5C;\n",
              "      box-shadow: 0px 1px 3px 1px rgba(0, 0, 0, 0.15);\n",
              "      filter: drop-shadow(0px 1px 2px rgba(0, 0, 0, 0.3));\n",
              "      fill: #FFFFFF;\n",
              "    }\n",
              "  </style>\n",
              "\n",
              "      <script>\n",
              "        const buttonEl =\n",
              "          document.querySelector('#df-c86b6a8f-3abc-4dfa-8579-0b6e64e48933 button.colab-df-convert');\n",
              "        buttonEl.style.display =\n",
              "          google.colab.kernel.accessAllowed ? 'block' : 'none';\n",
              "\n",
              "        async function convertToInteractive(key) {\n",
              "          const element = document.querySelector('#df-c86b6a8f-3abc-4dfa-8579-0b6e64e48933');\n",
              "          const dataTable =\n",
              "            await google.colab.kernel.invokeFunction('convertToInteractive',\n",
              "                                                     [key], {});\n",
              "          if (!dataTable) return;\n",
              "\n",
              "          const docLinkHtml = 'Like what you see? Visit the ' +\n",
              "            '<a target=\"_blank\" href=https://colab.research.google.com/notebooks/data_table.ipynb>data table notebook</a>'\n",
              "            + ' to learn more about interactive tables.';\n",
              "          element.innerHTML = '';\n",
              "          dataTable['output_type'] = 'display_data';\n",
              "          await google.colab.output.renderOutput(dataTable, element);\n",
              "          const docLink = document.createElement('div');\n",
              "          docLink.innerHTML = docLinkHtml;\n",
              "          element.appendChild(docLink);\n",
              "        }\n",
              "      </script>\n",
              "    </div>\n",
              "  </div>\n",
              "  "
            ]
          },
          "metadata": {},
          "execution_count": 177
        }
      ]
    },
    {
      "cell_type": "code",
      "source": [
        "#Obtendo um resumo conciso do DataFrame para o cluster 3\n",
        "df_2019_g3.info()"
      ],
      "metadata": {
        "colab": {
          "base_uri": "https://localhost:8080/"
        },
        "id": "E3iiNpMKzjXo",
        "outputId": "ff547613-6509-4fa2-8d41-635459892ff4"
      },
      "execution_count": null,
      "outputs": [
        {
          "output_type": "stream",
          "name": "stdout",
          "text": [
            "<class 'pandas.core.frame.DataFrame'>\n",
            "Int64Index: 5 entries, 5 to 25\n",
            "Data columns (total 4 columns):\n",
            " #   Column          Non-Null Count  Dtype  \n",
            "---  ------          --------------  -----  \n",
            " 0   ideb            5 non-null      float64\n",
            " 1   taxa_aprovacao  5 non-null      float64\n",
            " 2   sigla_uf        5 non-null      object \n",
            " 3   grupos          5 non-null      int64  \n",
            "dtypes: float64(2), int64(1), object(1)\n",
            "memory usage: 200.0+ bytes\n"
          ]
        }
      ]
    },
    {
      "cell_type": "code",
      "source": [
        "#Validando estatísticamente com ANOVA (análise de variância) para comparar a distribuição de três ou mais grupos em amostras independentes\n",
        "from scipy.stats import f_oneway"
      ],
      "metadata": {
        "id": "ysWsj3br0BZN"
      },
      "execution_count": null,
      "outputs": []
    },
    {
      "cell_type": "code",
      "source": [
        "#Aplicando ANOVA na variável ideb\n",
        "f_oneway(df_2019_g0['ideb'],\n",
        "         df_2019_g1['ideb'],\n",
        "         df_2019_g2['ideb'],\n",
        "         df_2019_g3['ideb'])"
      ],
      "metadata": {
        "colab": {
          "base_uri": "https://localhost:8080/"
        },
        "id": "bKpG-uJP0LQ6",
        "outputId": "d80779cd-0a6b-4f08-f5e3-d6e5fcaf6c25"
      },
      "execution_count": null,
      "outputs": [
        {
          "output_type": "execute_result",
          "data": {
            "text/plain": [
              "F_onewayResult(statistic=57.57684464569191, pvalue=7.542508219427153e-11)"
            ]
          },
          "metadata": {},
          "execution_count": 184
        }
      ]
    },
    {
      "cell_type": "markdown",
      "source": [
        "H0: Os grupos clustorizados são iguais para a variável IDEB H1: Os grupos clustorizados são diferentes para a variável IDEB Com o resultado do p-valor de pvalue=7.542508219427153e-11 e significância de 5%, obtemos como resultado que podemos reijar H0 e aceitar H1, ou seja,os grupos clustorizados são diferentes para a variável IDEB."
      ],
      "metadata": {
        "id": "ANjWNavC0S6i"
      }
    },
    {
      "cell_type": "code",
      "source": [],
      "metadata": {
        "id": "H47nriBiDqh8"
      },
      "execution_count": null,
      "outputs": []
    },
    {
      "cell_type": "code",
      "source": [
        "#Aplicando ANOVA na variável taxa_aprovacao\n",
        "f_oneway(df_2019_g0['taxa_aprovacao'],\n",
        "         df_2019_g1['taxa_aprovacao'],\n",
        "         df_2019_g2['taxa_aprovacao'],\n",
        "         df_2019_g3['taxa_aprovacao'])"
      ],
      "metadata": {
        "colab": {
          "base_uri": "https://localhost:8080/"
        },
        "id": "RKvKICOz0UeY",
        "outputId": "ab9ebf11-90a1-4e79-f4f5-97731560c7da"
      },
      "execution_count": null,
      "outputs": [
        {
          "output_type": "execute_result",
          "data": {
            "text/plain": [
              "F_onewayResult(statistic=41.88559299972311, pvalue=1.7496929460410136e-09)"
            ]
          },
          "metadata": {},
          "execution_count": 185
        }
      ]
    },
    {
      "cell_type": "markdown",
      "source": [
        "H0: Os grupos clustorizados são iguais para a variável taxa de aprovação H1: Os grupos clustorizados são diferentes para a variável taxa de aprovação Com o resultado do p-valor de pvalue=1.7496929460410136e-09 e significância de 5%, obtemos como resultado que podemos reijar H0 e aceitar H1, ou seja,os grupos clustorizados são diferentes para a variável taxa de aprovação."
      ],
      "metadata": {
        "id": "ZQbMNpeo0lx1"
      }
    },
    {
      "cell_type": "code",
      "source": [
        "#Importando da biblioteca statsmodels, dentro do pacote multicomp, a função teste de Tukey (teste de comparações múltiplas)\n",
        "from statsmodels.stats.multicomp import pairwise_tukeyhsd"
      ],
      "metadata": {
        "id": "WSo4wv-k0ugZ"
      },
      "execution_count": null,
      "outputs": []
    },
    {
      "cell_type": "code",
      "source": [
        "#Juntando os DataFrames dos 4 clusters\n",
        "df_2019_gs = pd.concat([df_2019_g0,df_2019_g1,df_2019_g2, df_2019_g3])"
      ],
      "metadata": {
        "id": "ZnQrcwyB1bk3"
      },
      "execution_count": null,
      "outputs": []
    },
    {
      "cell_type": "code",
      "source": [
        "#Aplicando o teste na variável taxa de aprovação\n",
        "print(pairwise_tukeyhsd(endog = df_2019_gs['taxa_aprovacao'],\n",
        "                  groups = df_2019_gs['grupos'],\n",
        "                  alpha = 0.05))"
      ],
      "metadata": {
        "colab": {
          "base_uri": "https://localhost:8080/"
        },
        "id": "h0_FME7K2MpE",
        "outputId": "51c74cc9-7cd0-43c5-d8eb-7197e0e7a97f"
      },
      "execution_count": null,
      "outputs": [
        {
          "output_type": "stream",
          "name": "stdout",
          "text": [
            "Multiple Comparison of Means - Tukey HSD, FWER=0.05 \n",
            "====================================================\n",
            "group1 group2 meandiff p-adj   lower   upper  reject\n",
            "----------------------------------------------------\n",
            "     0      1  -7.8708  0.001 -10.545 -5.1967   True\n",
            "     0      2  -2.1146 0.1565 -4.7887  0.5595  False\n",
            "     0      3   4.6543  0.001  1.9801  7.3284   True\n",
            "     1      2   5.7562  0.001  2.5789  8.9336   True\n",
            "     1      3  12.5251  0.001  9.3478 15.7024   True\n",
            "     2      3   6.7689  0.001  3.5915  9.9462   True\n",
            "----------------------------------------------------\n"
          ]
        }
      ]
    },
    {
      "cell_type": "markdown",
      "source": [
        "Para a variável taxa de aprovação, o teste de comparações múltiplas de Tukey nos retorna que os clusters tem valores de médias diferentes, por meio de reject=True, com excessão dos grupos 0 e 2 que não podemos afirmar que há diferença (reject=False)."
      ],
      "metadata": {
        "id": "-EhRwGrL2qhm"
      }
    },
    {
      "cell_type": "code",
      "source": [
        "#Aplicando o teste na variável IDEB\n",
        "print(pairwise_tukeyhsd(endog = df_2019_gs['ideb'],\n",
        "                  groups = df_2019_gs['grupos'],\n",
        "                  alpha = 0.05))"
      ],
      "metadata": {
        "colab": {
          "base_uri": "https://localhost:8080/"
        },
        "id": "Hne8wcYq05iQ",
        "outputId": "1f949b6a-fc17-4906-dd61-e9bbf48c2c43"
      },
      "execution_count": null,
      "outputs": [
        {
          "output_type": "stream",
          "name": "stdout",
          "text": [
            "Multiple Comparison of Means - Tukey HSD, FWER=0.05 \n",
            "====================================================\n",
            "group1 group2 meandiff p-adj   lower   upper  reject\n",
            "----------------------------------------------------\n",
            "     0      1   -0.939  0.001 -1.2417 -0.6363   True\n",
            "     0      2   -0.726  0.001 -1.0287 -0.4233   True\n",
            "     0      3   0.5353  0.001  0.2326   0.838   True\n",
            "     1      2    0.213 0.3786 -0.1467  0.5727  False\n",
            "     1      3   1.4743  0.001  1.1146   1.834   True\n",
            "     2      3   1.2613  0.001  0.9016   1.621   True\n",
            "----------------------------------------------------\n"
          ]
        }
      ]
    },
    {
      "cell_type": "markdown",
      "source": [
        "Para a variável IDEB, o teste de comparações múltiplas de Tukey nos retorna que os clusters tem valores de médias diferentes, por meio de reject=True, com excessão dos grupos 1 e 2 que não podemos afirmar que há diferença (reject=False)."
      ],
      "metadata": {
        "id": "I6flB7-ZVqBI"
      }
    },
    {
      "cell_type": "markdown",
      "source": [
        "### Atividade 11: Faça a clusterização com outro valor para k."
      ],
      "metadata": {
        "id": "3jL3LC5pbXev"
      }
    },
    {
      "cell_type": "code",
      "source": [
        "# clusterização com k=3\n",
        "kmeans = KMeans(n_clusters=3, random_state=42)"
      ],
      "metadata": {
        "id": "uILkB2dwWYA6"
      },
      "execution_count": null,
      "outputs": []
    },
    {
      "cell_type": "code",
      "source": [
        "# aplicando o algoritmo aos dados '.fit' aplicando ao conjunto de dados na escala correta. Passar somente as colunas de interesse.\n",
        "kmeans.fit(df_scaled[['ideb','taxa_aprovacao']])"
      ],
      "metadata": {
        "colab": {
          "base_uri": "https://localhost:8080/"
        },
        "id": "RK86_sluvWmR",
        "outputId": "a7609b49-a9b9-4be3-90fc-44c2d0e099f5"
      },
      "execution_count": null,
      "outputs": [
        {
          "output_type": "execute_result",
          "data": {
            "text/plain": [
              "KMeans(n_clusters=3, random_state=42)"
            ]
          },
          "metadata": {},
          "execution_count": 180
        }
      ]
    },
    {
      "cell_type": "code",
      "source": [
        "# criando a coluna 'grupo'\n",
        "df_2019['grupos'] = kmeans.labels_.tolist()"
      ],
      "metadata": {
        "id": "eyUMyPVjwFb_"
      },
      "execution_count": null,
      "outputs": []
    },
    {
      "cell_type": "code",
      "source": [
        "# criando o gráfico de dispersão\n",
        "sns.scatterplot(data=df_2019, x='taxa_aprovacao', y='ideb',\n",
        "                hue='grupos', palette='tab10');\n",
        "\n",
        "# criando listas que servirão de apoio para anotar a sigla de cada estado no gráfico\n",
        "aprovacao = df_2019['taxa_aprovacao']\n",
        "ideb = df_2019['ideb']\n",
        "estados = ['AC','AL','AP','AM','BA','CE','DF','ES','GO','MA','MT','MS','MG',\n",
        "           'PR','PB','PA','PE','PI','RN','RS','RJ','RO','RR','SC','SE','SP','TO']\n",
        "\n",
        "# anotando os 'nomes' de cada estado\n",
        "for i, estado in enumerate(estados):\n",
        "    plt.annotate(estado, (aprovacao[i], ideb[i]) );"
      ],
      "metadata": {
        "colab": {
          "base_uri": "https://localhost:8080/",
          "height": 342
        },
        "id": "AUOssyI8wcjz",
        "outputId": "485b8e8d-a875-4b9d-8817-1cac95900cb9"
      },
      "execution_count": null,
      "outputs": [
        {
          "output_type": "display_data",
          "data": {
            "text/plain": [
              "<Figure size 1008x360 with 1 Axes>"
            ],
            "image/png": "[encoded data removed]"
          },
          "metadata": {}
        }
      ]
    },
    {
      "cell_type": "markdown",
      "source": [
        "### Atividade 12: Qual dos dois valores testados para k seria mais adequado?\n",
        "\n",
        "Resposta: k=3, pois de acordo com o teste de Tukey todos os clusters tem valores de médias diferentes, por meio de reject=True, para ambas as variáveis."
      ],
      "metadata": {
        "id": "jAzu927IeS_S"
      }
    },
    {
      "cell_type": "code",
      "source": [
        "##Criando DataFrame para os clusters 1, 2 e 3\n",
        "df_2019_grupo0 = df_2019.loc[(df_2019['grupos'] == 0)]\n",
        "df_2019_grupo1 = df_2019.loc[(df_2019['grupos'] == 1)]\n",
        "df_2019_grupo2 = df_2019.loc[(df_2019['grupos'] == 2)]"
      ],
      "metadata": {
        "id": "5c2l961W43mG"
      },
      "execution_count": null,
      "outputs": []
    },
    {
      "cell_type": "code",
      "source": [
        "#Juntando os DataFrames dos 3 clusters\n",
        "df_2019_grupos = pd.concat([df_2019_grupo0,df_2019_grupo1,df_2019_grupo2,])"
      ],
      "metadata": {
        "id": "977qychA5atu"
      },
      "execution_count": null,
      "outputs": []
    },
    {
      "cell_type": "code",
      "source": [
        "#Aplicando o teste de Tukey na variável taxa de aprovação\n",
        "print(pairwise_tukeyhsd(endog = df_2019_grupos['taxa_aprovacao'],\n",
        "                  groups = df_2019_grupos['grupos'],\n",
        "                  alpha = 0.05))"
      ],
      "metadata": {
        "colab": {
          "base_uri": "https://localhost:8080/"
        },
        "id": "jMkmHPPA5xgq",
        "outputId": "d5c80fb9-6ed7-4a30-b6f8-a72396f68a81"
      },
      "execution_count": null,
      "outputs": [
        {
          "output_type": "stream",
          "name": "stdout",
          "text": [
            " Multiple Comparison of Means - Tukey HSD, FWER=0.05 \n",
            "=====================================================\n",
            "group1 group2 meandiff p-adj   lower    upper  reject\n",
            "-----------------------------------------------------\n",
            "     0      1  -9.6883  0.001 -12.6281 -6.7485   True\n",
            "     0      2  -3.6541 0.0068  -6.3555 -0.9526   True\n",
            "     1      2   6.0343  0.001   3.4416  8.6269   True\n",
            "-----------------------------------------------------\n"
          ]
        }
      ]
    },
    {
      "cell_type": "code",
      "source": [
        "#Aplicando o teste de Tukey na variável IDEB\n",
        "print(pairwise_tukeyhsd(endog = df_2019_grupos['ideb'],\n",
        "                  groups = df_2019_grupos['grupos'],\n",
        "                  alpha = 0.05))"
      ],
      "metadata": {
        "colab": {
          "base_uri": "https://localhost:8080/"
        },
        "id": "43v20OUa57NK",
        "outputId": "669a6346-7b5d-4350-8774-74b9a492d1e7"
      },
      "execution_count": null,
      "outputs": [
        {
          "output_type": "stream",
          "name": "stdout",
          "text": [
            "Multiple Comparison of Means - Tukey HSD, FWER=0.05\n",
            "===================================================\n",
            "group1 group2 meandiff p-adj  lower   upper  reject\n",
            "---------------------------------------------------\n",
            "     0      1   -1.366 0.001 -1.6605 -1.0715   True\n",
            "     0      2  -0.6384 0.001  -0.909 -0.3678   True\n",
            "     1      2   0.7276 0.001  0.4679  0.9873   True\n",
            "---------------------------------------------------\n"
          ]
        }
      ]
    },
    {
      "cell_type": "markdown",
      "source": [
        "### Atividade 13: (Para refletir) Como poderíamos fazer a clusterização e visualizar os grupos se tivessemos que usar mais de duas variáveis?\n",
        "\n",
        "Dica: Pesquise sobre Redução de Dimensionalidade, é um assunto bem divertido!"
      ],
      "metadata": {
        "id": "r_po021CjNOz"
      }
    },
    {
      "cell_type": "markdown",
      "source": [
        "  Através da pesquisa verifiquei que seria interessante antes da clusterização e visualização de grupos, utilizar a redução da dimensionalidade (features ou colunas), que é o processo de reduzir o número de variáveis aleatórias e não essenciais de um dataset. Para fazer isso, é preciso identificar quais são as variáveis principais (Principal Components), nesse caso, o conjunto de variáveis que não são linearmente correlacionadas.\n",
        "  Também ocorre que variáveis correlacionadas acabam sendo redundantes para um modelo de machine learning, como por exemplo, número de vezes por semana ou por mês que um lutador treina. Neste caso, não precisamos utilizar as duas variáveis para treinar o nosso modelo. A premissa é que as variáveis redundantes podem ser removidas sem a perda de informação/valor para o modelo.\n",
        "  Esse procedimento é essencial para não ocorrer o conceito de maldição da dimensionalidade (The Curse of Dimensionality), que se refere a todos os problemas que surgem quando trabalhamos com dados de dimensões elevadas (quantidade de colunas e não de linhas). Quando o número de features aumenta, o número de amostras precisa aumentar também para que o número de combinações entre features e classes seja satisfatório. Isso faz com que o modelo fique cada vez mais complexo. Além disso, quanto maior o número de features, maior a chance de ocorrer overfitting.\n",
        "  Dessa forma, a redução de dimensionalidade é capaz de simplificar modelos, reduzir o tempo de treino e reduzir o overfitting.\n",
        "O overfitting ocorre quando um modelo treino entende perfeitamente os dados utilizados no treino. Funcionando bem até para os ruídos ou dados comprometidos do sistema, isso faz com que tenha um resultado excelente para os dados de treino, mas tenha um resultado ruim com dados novos.\n",
        "Redução de Dimensionalidade é muito útil para aprendizado não supervisionado. Nesse tipo de aprendizado, inferências são extraídas das features sem saber quais os seus rótulos ou classes. É utilizado para explorar padrões ocultos ou agrupamentos de dados nos dados.\n",
        "  Na biblioteca Scikit-Learn existem três técnicas para redução de dimensionalidade: principal component analysis (PCA), LinearDiscriminantAnalysis (LDA), e Isomap. PCA e LDA são métodos lineares. Isomap é um método não-linear.\n",
        "\n",
        "  [fonte](https://ealexbarros.medium.com/o-que-%C3%A9-a-redu%C3%A7%C3%A3o-de-dimensionalidade-em-machine-learning-cc2a89e3cdec)"
      ],
      "metadata": {
        "id": "DLhKgj7F8Khe"
      }
    }
  ]
}