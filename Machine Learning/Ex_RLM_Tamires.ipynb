{
  "nbformat": 4,
  "nbformat_minor": 0,
  "metadata": {
    "colab": {
      "provenance": []
    },
    "kernelspec": {
      "name": "python3",
      "display_name": "Python 3"
    },
    "language_info": {
      "name": "python"
    }
  },
  "cells": [
    {
      "cell_type": "markdown",
      "source": [
        "# Regressão Logística Multinomial\n",
        "\n",
        "Para esta atividade usaremos um conjunto de dados sobre métricas do coração de pacientes, com o objetivo de determinar se o paciente é normal, suspeito ou com doença patológica. O conjunto de dado pode ser encontrado no [GitHub](https://raw.githubusercontent.com/bkrai/R-files-from-YouTube/main/Cardiotocographic.csv) de alguns usuários.\n",
        "\n",
        "Abaixo encontra-se o dicionário de dados:\n",
        "\n",
        "* LB: baseline value (SisPorto)\n",
        "* AC: accelerations (SisPorto)\n",
        "* FM: foetal movement (SisPorto)\n",
        "* UC: uterine contractions (SisPorto)\n",
        "* DL: light decelerations\n",
        "* DS: severe decelerations\n",
        "* DP: prolongued decelerations\n",
        "* ASTV: percentage of time with abnormal short term variability (SisPorto)\n",
        "* mSTV: mean value of short term variability (SisPorto)\n",
        "* ALTV: percentage of time with abnormal long term variability (SisPorto)\n",
        "* mLTV: mean value of long term variability (SisPorto)\n",
        "* Width: histogram width\n",
        "* Min: low freq. of the histogram\n",
        "* Max: high freq. of the histogram\n",
        "* Nmax: number of histogram peaks\n",
        "* Nzeros: number of histogram zeros\n",
        "* Mode: histogram mode\n",
        "* Mean: histogram mean\n",
        "* Median: histogram median\n",
        "* Variance: histogram variance\n",
        "* Tendency: histogram tendency: -1=left assymetric; 0=symmetric; 1=right assymetric\n",
        "* NSP: Normal=0; Suspect=1; Pathologic=2\n",
        "\n",
        "\n",
        "O objetivo é entender/prever a variável `NSP` em função das demais.\n",
        "\n",
        "Obs: Não se preocupe se não entender o significado de cada variável, estamos lidando com um problema técnico e provavelmente você não terá um especialista na área e nem tempo suficiente para entender sobre a área de negócio para este exercício. Foque na construção do modelo de regressão logística."
      ],
      "metadata": {
        "id": "bPYgc7UHk8Wt"
      }
    },
    {
      "cell_type": "markdown",
      "source": [
        "## Atividade 1: Importe o conjunto de dados, verifique se há dados faltantes e a correlação entre as variáveis."
      ],
      "metadata": {
        "id": "YVgM5i4toExb"
      }
    },
    {
      "cell_type": "code",
      "source": [
        "# importando biblioteca pandas\n",
        "import pandas as pd"
      ],
      "metadata": {
        "id": "y4uD071Xj9_V"
      },
      "execution_count": null,
      "outputs": []
    },
    {
      "cell_type": "code",
      "source": [
        "# Criando biblioteca no Google Drive\n",
        "from google.colab import drive\n",
        "drive.mount('/content/drive')"
      ],
      "metadata": {
        "id": "OGGvBh-Wj96l",
        "colab": {
          "base_uri": "https://localhost:8080/"
        },
        "outputId": "ef76d1f2-b929-4fe8-943b-ed0b9e32f82c"
      },
      "execution_count": null,
      "outputs": [
        {
          "output_type": "stream",
          "name": "stdout",
          "text": [
            "Drive already mounted at /content/drive; to attempt to forcibly remount, call drive.mount(\"/content/drive\", force_remount=True).\n"
          ]
        }
      ]
    },
    {
      "cell_type": "code",
      "source": [
        "#criando DataFrame df com os dados do dataset\n",
        "df = pd.read_excel('/content/drive/MyDrive/arquivos/cardio.xlsx')\n",
        "df.head()"
      ],
      "metadata": {
        "id": "LQUYPMN0bQlk",
        "colab": {
          "base_uri": "https://localhost:8080/",
          "height": 235
        },
        "outputId": "ab6690ff-9103-4368-eb98-a8edb64563aa"
      },
      "execution_count": null,
      "outputs": [
        {
          "output_type": "execute_result",
          "data": {
            "text/plain": [
              "    LB        AC   FM        UC        DL   DS   DP  ASTV  MSTV  ALTV  ...  \\\n",
              "0  120  0.000000  0.0  0.000000  0.000000  0.0  0.0    73   0.5    43  ...   \n",
              "1  132  0.006380  0.0  0.006380  0.003190  0.0  0.0    17   2.1     0  ...   \n",
              "2  133  0.003322  0.0  0.008306  0.003322  0.0  0.0    16   2.1     0  ...   \n",
              "3  134  0.002561  0.0  0.007682  0.002561  0.0  0.0    16   2.4     0  ...   \n",
              "4  132  0.006515  0.0  0.008143  0.000000  0.0  0.0    16   2.4     0  ...   \n",
              "\n",
              "   Min  Max  Nmax  Nzeros  Mode  Mean  Median  Variance  Tendency  NSP  \n",
              "0   62  126     2       0   120   137     121        73         1    1  \n",
              "1   68  198     6       1   141   136     140        12         0    0  \n",
              "2   68  198     5       1   141   135     138        13         0    0  \n",
              "3   53  170    11       0   137   134     137        13         1    0  \n",
              "4   53  170     9       0   137   136     138        11         1    0  \n",
              "\n",
              "[5 rows x 22 columns]"
            ],
            "text/html": [
              "\n",
              "  <div id=\"df-4efd540a-93bd-4d3a-85b9-d1379090f20d\">\n",
              "    <div class=\"colab-df-container\">\n",
              "      <div>\n",
              "<style scoped>\n",
              "    .dataframe tbody tr th:only-of-type {\n",
              "        vertical-align: middle;\n",
              "    }\n",
              "\n",
              "    .dataframe tbody tr th {\n",
              "        vertical-align: top;\n",
              "    }\n",
              "\n",
              "    .dataframe thead th {\n",
              "        text-align: right;\n",
              "    }\n",
              "</style>\n",
              "<table border=\"1\" class=\"dataframe\">\n",
              "  <thead>\n",
              "    <tr style=\"text-align: right;\">\n",
              "      <th></th>\n",
              "      <th>LB</th>\n",
              "      <th>AC</th>\n",
              "      <th>FM</th>\n",
              "      <th>UC</th>\n",
              "      <th>DL</th>\n",
              "      <th>DS</th>\n",
              "      <th>DP</th>\n",
              "      <th>ASTV</th>\n",
              "      <th>MSTV</th>\n",
              "      <th>ALTV</th>\n",
              "      <th>...</th>\n",
              "      <th>Min</th>\n",
              "      <th>Max</th>\n",
              "      <th>Nmax</th>\n",
              "      <th>Nzeros</th>\n",
              "      <th>Mode</th>\n",
              "      <th>Mean</th>\n",
              "      <th>Median</th>\n",
              "      <th>Variance</th>\n",
              "      <th>Tendency</th>\n",
              "      <th>NSP</th>\n",
              "    </tr>\n",
              "  </thead>\n",
              "  <tbody>\n",
              "    <tr>\n",
              "      <th>0</th>\n",
              "      <td>120</td>\n",
              "      <td>0.000000</td>\n",
              "      <td>0.0</td>\n",
              "      <td>0.000000</td>\n",
              "      <td>0.000000</td>\n",
              "      <td>0.0</td>\n",
              "      <td>0.0</td>\n",
              "      <td>73</td>\n",
              "      <td>0.5</td>\n",
              "      <td>43</td>\n",
              "      <td>...</td>\n",
              "      <td>62</td>\n",
              "      <td>126</td>\n",
              "      <td>2</td>\n",
              "      <td>0</td>\n",
              "      <td>120</td>\n",
              "      <td>137</td>\n",
              "      <td>121</td>\n",
              "      <td>73</td>\n",
              "      <td>1</td>\n",
              "      <td>1</td>\n",
              "    </tr>\n",
              "    <tr>\n",
              "      <th>1</th>\n",
              "      <td>132</td>\n",
              "      <td>0.006380</td>\n",
              "      <td>0.0</td>\n",
              "      <td>0.006380</td>\n",
              "      <td>0.003190</td>\n",
              "      <td>0.0</td>\n",
              "      <td>0.0</td>\n",
              "      <td>17</td>\n",
              "      <td>2.1</td>\n",
              "      <td>0</td>\n",
              "      <td>...</td>\n",
              "      <td>68</td>\n",
              "      <td>198</td>\n",
              "      <td>6</td>\n",
              "      <td>1</td>\n",
              "      <td>141</td>\n",
              "      <td>136</td>\n",
              "      <td>140</td>\n",
              "      <td>12</td>\n",
              "      <td>0</td>\n",
              "      <td>0</td>\n",
              "    </tr>\n",
              "    <tr>\n",
              "      <th>2</th>\n",
              "      <td>133</td>\n",
              "      <td>0.003322</td>\n",
              "      <td>0.0</td>\n",
              "      <td>0.008306</td>\n",
              "      <td>0.003322</td>\n",
              "      <td>0.0</td>\n",
              "      <td>0.0</td>\n",
              "      <td>16</td>\n",
              "      <td>2.1</td>\n",
              "      <td>0</td>\n",
              "      <td>...</td>\n",
              "      <td>68</td>\n",
              "      <td>198</td>\n",
              "      <td>5</td>\n",
              "      <td>1</td>\n",
              "      <td>141</td>\n",
              "      <td>135</td>\n",
              "      <td>138</td>\n",
              "      <td>13</td>\n",
              "      <td>0</td>\n",
              "      <td>0</td>\n",
              "    </tr>\n",
              "    <tr>\n",
              "      <th>3</th>\n",
              "      <td>134</td>\n",
              "      <td>0.002561</td>\n",
              "      <td>0.0</td>\n",
              "      <td>0.007682</td>\n",
              "      <td>0.002561</td>\n",
              "      <td>0.0</td>\n",
              "      <td>0.0</td>\n",
              "      <td>16</td>\n",
              "      <td>2.4</td>\n",
              "      <td>0</td>\n",
              "      <td>...</td>\n",
              "      <td>53</td>\n",
              "      <td>170</td>\n",
              "      <td>11</td>\n",
              "      <td>0</td>\n",
              "      <td>137</td>\n",
              "      <td>134</td>\n",
              "      <td>137</td>\n",
              "      <td>13</td>\n",
              "      <td>1</td>\n",
              "      <td>0</td>\n",
              "    </tr>\n",
              "    <tr>\n",
              "      <th>4</th>\n",
              "      <td>132</td>\n",
              "      <td>0.006515</td>\n",
              "      <td>0.0</td>\n",
              "      <td>0.008143</td>\n",
              "      <td>0.000000</td>\n",
              "      <td>0.0</td>\n",
              "      <td>0.0</td>\n",
              "      <td>16</td>\n",
              "      <td>2.4</td>\n",
              "      <td>0</td>\n",
              "      <td>...</td>\n",
              "      <td>53</td>\n",
              "      <td>170</td>\n",
              "      <td>9</td>\n",
              "      <td>0</td>\n",
              "      <td>137</td>\n",
              "      <td>136</td>\n",
              "      <td>138</td>\n",
              "      <td>11</td>\n",
              "      <td>1</td>\n",
              "      <td>0</td>\n",
              "    </tr>\n",
              "  </tbody>\n",
              "</table>\n",
              "<p>5 rows × 22 columns</p>\n",
              "</div>\n",
              "      <button class=\"colab-df-convert\" onclick=\"convertToInteractive('df-4efd540a-93bd-4d3a-85b9-d1379090f20d')\"\n",
              "              title=\"Convert this dataframe to an interactive table.\"\n",
              "              style=\"display:none;\">\n",
              "        \n",
              "  <svg xmlns=\"http://www.w3.org/2000/svg\" height=\"24px\"viewBox=\"0 0 24 24\"\n",
              "       width=\"24px\">\n",
              "    <path d=\"M0 0h24v24H0V0z\" fill=\"none\"/>\n",
              "    <path d=\"M18.56 5.44l.94 2.06.94-2.06 2.06-.94-2.06-.94-.94-2.06-.94 2.06-2.06.94zm-11 1L8.5 8.5l.94-2.06 2.06-.94-2.06-.94L8.5 2.5l-.94 2.06-2.06.94zm10 10l.94 2.06.94-2.06 2.06-.94-2.06-.94-.94-2.06-.94 2.06-2.06.94z\"/><path d=\"M17.41 7.96l-1.37-1.37c-.4-.4-.92-.59-1.43-.59-.52 0-1.04.2-1.43.59L10.3 9.45l-7.72 7.72c-.78.78-.78 2.05 0 2.83L4 21.41c.39.39.9.59 1.41.59.51 0 1.02-.2 1.41-.59l7.78-7.78 2.81-2.81c.8-.78.8-2.07 0-2.86zM5.41 20L4 18.59l7.72-7.72 1.47 1.35L5.41 20z\"/>\n",
              "  </svg>\n",
              "      </button>\n",
              "      \n",
              "  <style>\n",
              "    .colab-df-container {\n",
              "      display:flex;\n",
              "      flex-wrap:wrap;\n",
              "      gap: 12px;\n",
              "    }\n",
              "\n",
              "    .colab-df-convert {\n",
              "      background-color: #E8F0FE;\n",
              "      border: none;\n",
              "      border-radius: 50%;\n",
              "      cursor: pointer;\n",
              "      display: none;\n",
              "      fill: #1967D2;\n",
              "      height: 32px;\n",
              "      padding: 0 0 0 0;\n",
              "      width: 32px;\n",
              "    }\n",
              "\n",
              "    .colab-df-convert:hover {\n",
              "      background-color: #E2EBFA;\n",
              "      box-shadow: 0px 1px 2px rgba(60, 64, 67, 0.3), 0px 1px 3px 1px rgba(60, 64, 67, 0.15);\n",
              "      fill: #174EA6;\n",
              "    }\n",
              "\n",
              "    [theme=dark] .colab-df-convert {\n",
              "      background-color: #3B4455;\n",
              "      fill: #D2E3FC;\n",
              "    }\n",
              "\n",
              "    [theme=dark] .colab-df-convert:hover {\n",
              "      background-color: #434B5C;\n",
              "      box-shadow: 0px 1px 3px 1px rgba(0, 0, 0, 0.15);\n",
              "      filter: drop-shadow(0px 1px 2px rgba(0, 0, 0, 0.3));\n",
              "      fill: #FFFFFF;\n",
              "    }\n",
              "  </style>\n",
              "\n",
              "      <script>\n",
              "        const buttonEl =\n",
              "          document.querySelector('#df-4efd540a-93bd-4d3a-85b9-d1379090f20d button.colab-df-convert');\n",
              "        buttonEl.style.display =\n",
              "          google.colab.kernel.accessAllowed ? 'block' : 'none';\n",
              "\n",
              "        async function convertToInteractive(key) {\n",
              "          const element = document.querySelector('#df-4efd540a-93bd-4d3a-85b9-d1379090f20d');\n",
              "          const dataTable =\n",
              "            await google.colab.kernel.invokeFunction('convertToInteractive',\n",
              "                                                     [key], {});\n",
              "          if (!dataTable) return;\n",
              "\n",
              "          const docLinkHtml = 'Like what you see? Visit the ' +\n",
              "            '<a target=\"_blank\" href=https://colab.research.google.com/notebooks/data_table.ipynb>data table notebook</a>'\n",
              "            + ' to learn more about interactive tables.';\n",
              "          element.innerHTML = '';\n",
              "          dataTable['output_type'] = 'display_data';\n",
              "          await google.colab.output.renderOutput(dataTable, element);\n",
              "          const docLink = document.createElement('div');\n",
              "          docLink.innerHTML = docLinkHtml;\n",
              "          element.appendChild(docLink);\n",
              "        }\n",
              "      </script>\n",
              "    </div>\n",
              "  </div>\n",
              "  "
            ]
          },
          "metadata": {},
          "execution_count": 17
        }
      ]
    },
    {
      "cell_type": "code",
      "source": [
        "# verificando valores ausentes para cada coluna\n",
        "df.isnull().sum()"
      ],
      "metadata": {
        "colab": {
          "base_uri": "https://localhost:8080/"
        },
        "id": "mK9GSpZpsKxE",
        "outputId": "dad94f4c-2830-492f-b198-349e9379d4f9"
      },
      "execution_count": null,
      "outputs": [
        {
          "output_type": "execute_result",
          "data": {
            "text/plain": [
              "LB          0\n",
              "AC          0\n",
              "FM          0\n",
              "UC          0\n",
              "DL          0\n",
              "DS          0\n",
              "DP          0\n",
              "ASTV        0\n",
              "MSTV        0\n",
              "ALTV        0\n",
              "MLTV        0\n",
              "Width       0\n",
              "Min         0\n",
              "Max         0\n",
              "Nmax        0\n",
              "Nzeros      0\n",
              "Mode        0\n",
              "Mean        0\n",
              "Median      0\n",
              "Variance    0\n",
              "Tendency    0\n",
              "NSP         0\n",
              "dtype: int64"
            ]
          },
          "metadata": {},
          "execution_count": 18
        }
      ]
    },
    {
      "cell_type": "markdown",
      "source": [
        "Não há valores ausentes no Dataframe."
      ],
      "metadata": {
        "id": "SkomDoyM1czy"
      }
    },
    {
      "cell_type": "code",
      "source": [
        "print(f\"O dataframe importado tem {df.shape[0]} registros e {df.shape[1]} colunas\")"
      ],
      "metadata": {
        "colab": {
          "base_uri": "https://localhost:8080/"
        },
        "id": "AFBRb7DMsQ7Q",
        "outputId": "f8ebf358-0cb3-4ba0-d8c2-06dcf39733b9"
      },
      "execution_count": null,
      "outputs": [
        {
          "output_type": "stream",
          "name": "stdout",
          "text": [
            "O dataframe importado tem 2126 registros e 22 colunas\n"
          ]
        }
      ]
    },
    {
      "cell_type": "markdown",
      "source": [
        "## Atividade 2: Verifique se a variável está balanceada."
      ],
      "metadata": {
        "id": "KTmGalb8ox5h"
      }
    },
    {
      "cell_type": "code",
      "source": [
        "# realizando um histograma\n",
        "import seaborn as sns\n",
        "sns.histplot(df['NSP']);"
      ],
      "metadata": {
        "id": "SrJ6EcNN1TnE",
        "colab": {
          "base_uri": "https://localhost:8080/",
          "height": 449
        },
        "outputId": "8e4acf39-e0bc-4909-8abc-e245b8f4fe7f"
      },
      "execution_count": null,
      "outputs": [
        {
          "output_type": "display_data",
          "data": {
            "text/plain": [
              "<Figure size 640x480 with 1 Axes>"
            ],
            "image/png": "[encoded data removed]"
          },
          "metadata": {}
        }
      ]
    },
    {
      "cell_type": "code",
      "source": [
        "# importando e aplicando a técnica NearMiss de balanciamento\n",
        "from imblearn.under_sampling import NearMiss\n",
        "X = df.drop('NSP', axis=1)\n",
        "y = df['NSP']\n",
        "nm = NearMiss(version=1)\n",
        "X_resampled, y_resampled = nm.fit_resample(X, y)"
      ],
      "metadata": {
        "id": "9CWWODEH1GVY"
      },
      "execution_count": null,
      "outputs": []
    },
    {
      "cell_type": "code",
      "source": [
        "# Criando o novo Dataframe balanceado e verificando suas informações\n",
        "df_balanced = pd.concat([pd.DataFrame(X_resampled), pd.DataFrame(y_resampled)], axis=1)\n",
        "df_balanced.info()"
      ],
      "metadata": {
        "colab": {
          "base_uri": "https://localhost:8080/"
        },
        "id": "PJUKLO5P1Nvt",
        "outputId": "5df44a96-1dde-4808-f312-b8063ab4fd85"
      },
      "execution_count": null,
      "outputs": [
        {
          "output_type": "stream",
          "name": "stdout",
          "text": [
            "<class 'pandas.core.frame.DataFrame'>\n",
            "RangeIndex: 528 entries, 0 to 527\n",
            "Data columns (total 22 columns):\n",
            " #   Column    Non-Null Count  Dtype  \n",
            "---  ------    --------------  -----  \n",
            " 0   LB        528 non-null    int64  \n",
            " 1   AC        528 non-null    float64\n",
            " 2   FM        528 non-null    float64\n",
            " 3   UC        528 non-null    float64\n",
            " 4   DL        528 non-null    float64\n",
            " 5   DS        528 non-null    float64\n",
            " 6   DP        528 non-null    float64\n",
            " 7   ASTV      528 non-null    int64  \n",
            " 8   MSTV      528 non-null    float64\n",
            " 9   ALTV      528 non-null    int64  \n",
            " 10  MLTV      528 non-null    float64\n",
            " 11  Width     528 non-null    int64  \n",
            " 12  Min       528 non-null    int64  \n",
            " 13  Max       528 non-null    int64  \n",
            " 14  Nmax      528 non-null    int64  \n",
            " 15  Nzeros    528 non-null    int64  \n",
            " 16  Mode      528 non-null    int64  \n",
            " 17  Mean      528 non-null    int64  \n",
            " 18  Median    528 non-null    int64  \n",
            " 19  Variance  528 non-null    int64  \n",
            " 20  Tendency  528 non-null    int64  \n",
            " 21  NSP       528 non-null    int64  \n",
            "dtypes: float64(8), int64(14)\n",
            "memory usage: 90.9 KB\n"
          ]
        }
      ]
    },
    {
      "cell_type": "code",
      "source": [
        "# visualizando graficamente se os dados estão balanceados\n",
        "sns.countplot(x=df_balanced['NSP']);"
      ],
      "metadata": {
        "colab": {
          "base_uri": "https://localhost:8080/",
          "height": 449
        },
        "id": "zwnk4Oxg1VU7",
        "outputId": "3b9b33f5-bae8-4fc1-e9cf-a70ebd532538"
      },
      "execution_count": null,
      "outputs": [
        {
          "output_type": "display_data",
          "data": {
            "text/plain": [
              "<Figure size 640x480 with 1 Axes>"
            ],
            "image/png": "[encoded data removed]"
          },
          "metadata": {}
        }
      ]
    },
    {
      "cell_type": "markdown",
      "source": [
        "A variável `NSP` está balanciada através da técnica NearMiss."
      ],
      "metadata": {
        "id": "gBi-o7Ng2az6"
      }
    },
    {
      "cell_type": "markdown",
      "source": [
        "## Atividade 3: Use as variáveis que achar relevante e separe as variáveis em $X$ e $y$, a seguir crie um modelo de regressão logística."
      ],
      "metadata": {
        "id": "B8vkJbh1o8F5"
      }
    },
    {
      "cell_type": "code",
      "source": [
        "# importando a biblioteca Numpy\n",
        "import numpy as np"
      ],
      "metadata": {
        "id": "eJm7BySzGshS"
      },
      "execution_count": null,
      "outputs": []
    },
    {
      "cell_type": "code",
      "source": [
        "# importando a biblioteca Statsmodels\n",
        "import statsmodels.api as sm"
      ],
      "metadata": {
        "id": "0gnfAucH3Fte"
      },
      "execution_count": null,
      "outputs": []
    },
    {
      "cell_type": "code",
      "source": [
        "# Aplicando stepwise para definição das variáveis mais relevantes para o modelo\n",
        "\n",
        "# Separe as variáveis independentes e dependentes\n",
        "X = df_balanced.drop('NSP', axis=1)\n",
        "y = df_balanced['NSP']\n",
        "\n",
        "# Adicione uma coluna de uns para representar o intercepto\n",
        "X = sm.add_constant(X)\n",
        "\n",
        "# Lista para armazenar as variáveis selecionadas\n",
        "selected_vars = []\n",
        "\n",
        "# Defina o critério de seleção de variáveis (p-valor máximo)\n",
        "alpha = 0.17\n",
        "# Loop para realizar a seleção de variáveis stepwise\n",
        "for i in range(X.shape[1]):\n",
        "    # Lista para armazenar os p-valores das variáveis\n",
        "    pvals = []\n",
        "\n",
        "    # Loop pelas variáveis não selecionadas\n",
        "    for var in X.columns.difference(selected_vars):\n",
        "        # Crie um modelo MNLogit com as variáveis selecionadas e a variável atual\n",
        "        model = sm.MNLogit(y, X[selected_vars + [var]])\n",
        "\n",
        "        # Ajuste o modelo aos dados\n",
        "        result = model.fit(disp=0)\n",
        "# Armazene o p-valor máximo da variável atual\n",
        "        pvals.append(np.max(result.pvalues.values))\n",
        "# Encontre a variável com o menor p-valor máximo\n",
        "    best_var = X.columns.difference(selected_vars)[np.argmin(pvals)]\n",
        "\n",
        "    # Adicione a melhor variável à lista de variáveis selecionadas\n",
        "    selected_vars.append(best_var)\n",
        "\n",
        "    # Verifique se o p-valor máximo da melhor variável é menor que alpha\n",
        "    if np.min(pvals) > alpha:\n",
        "        # Remova a última variável adicionada (não é significativa)\n",
        "        selected_vars = selected_vars[:-1]\n",
        "        break\n",
        "# Imprima as variáveis selecionadas\n",
        "print('Variáveis selecionadas:', selected_vars)\n",
        "\n",
        "# Crie o modelo MNLogit final com as variáveis selecionadas\n",
        "model = sm.MNLogit(y, X[selected_vars])\n",
        "\n",
        "# Ajuste o modelo aos dados\n",
        "result = model.fit()\n",
        "\n",
        "# Imprima um resumo dos resultados\n",
        "print(result.summary())"
      ],
      "metadata": {
        "colab": {
          "base_uri": "https://localhost:8080/"
        },
        "id": "iXK2viVDFTSR",
        "outputId": "f59d32e6-6418-40b6-e697-e009b13e574c"
      },
      "execution_count": null,
      "outputs": [
        {
          "output_type": "stream",
          "name": "stderr",
          "text": [
            "/usr/local/lib/python3.10/dist-packages/statsmodels/base/model.py:604: ConvergenceWarning: Maximum Likelihood optimization failed to converge. Check mle_retvals\n",
            "  warnings.warn(\"Maximum Likelihood optimization failed to \"\n",
            "/usr/local/lib/python3.10/dist-packages/statsmodels/base/model.py:604: ConvergenceWarning: Maximum Likelihood optimization failed to converge. Check mle_retvals\n",
            "  warnings.warn(\"Maximum Likelihood optimization failed to \"\n",
            "/usr/local/lib/python3.10/dist-packages/statsmodels/base/model.py:604: ConvergenceWarning: Maximum Likelihood optimization failed to converge. Check mle_retvals\n",
            "  warnings.warn(\"Maximum Likelihood optimization failed to \"\n",
            "/usr/local/lib/python3.10/dist-packages/statsmodels/base/model.py:604: ConvergenceWarning: Maximum Likelihood optimization failed to converge. Check mle_retvals\n",
            "  warnings.warn(\"Maximum Likelihood optimization failed to \"\n",
            "/usr/local/lib/python3.10/dist-packages/statsmodels/base/model.py:604: ConvergenceWarning: Maximum Likelihood optimization failed to converge. Check mle_retvals\n",
            "  warnings.warn(\"Maximum Likelihood optimization failed to \"\n",
            "/usr/local/lib/python3.10/dist-packages/statsmodels/base/model.py:604: ConvergenceWarning: Maximum Likelihood optimization failed to converge. Check mle_retvals\n",
            "  warnings.warn(\"Maximum Likelihood optimization failed to \"\n",
            "/usr/local/lib/python3.10/dist-packages/statsmodels/base/model.py:604: ConvergenceWarning: Maximum Likelihood optimization failed to converge. Check mle_retvals\n",
            "  warnings.warn(\"Maximum Likelihood optimization failed to \"\n"
          ]
        },
        {
          "output_type": "stream",
          "name": "stdout",
          "text": [
            "Variáveis selecionadas: ['Variance', 'MLTV', 'AC', 'FM', 'UC', 'ALTV']\n",
            "Optimization terminated successfully.\n",
            "         Current function value: 0.671450\n",
            "         Iterations 10\n",
            "                          MNLogit Regression Results                          \n",
            "==============================================================================\n",
            "Dep. Variable:                    NSP   No. Observations:                  528\n",
            "Model:                        MNLogit   Df Residuals:                      516\n",
            "Method:                           MLE   Df Model:                           10\n",
            "Date:                Mon, 01 May 2023   Pseudo R-squ.:                  0.3888\n",
            "Time:                        01:11:37   Log-Likelihood:                -354.53\n",
            "converged:                       True   LL-Null:                       -580.07\n",
            "Covariance Type:            nonrobust   LLR p-value:                 1.227e-90\n",
            "==============================================================================\n",
            "     NSP=1       coef    std err          z      P>|z|      [0.025      0.975]\n",
            "------------------------------------------------------------------------------\n",
            "Variance      -0.0315      0.020     -1.574      0.116      -0.071       0.008\n",
            "MLTV           0.1117      0.029      3.797      0.000       0.054       0.169\n",
            "AC          -479.3867    137.955     -3.475      0.001    -749.773    -209.000\n",
            "FM            55.3576     31.122      1.779      0.075      -5.641     116.356\n",
            "UC          -304.4437     42.952     -7.088      0.000    -388.628    -220.260\n",
            "ALTV           0.0199      0.005      3.871      0.000       0.010       0.030\n",
            "------------------------------------------------------------------------------\n",
            "     NSP=2       coef    std err          z      P>|z|      [0.025      0.975]\n",
            "------------------------------------------------------------------------------\n",
            "Variance       0.0901      0.010      8.704      0.000       0.070       0.110\n",
            "MLTV          -0.2290      0.042     -5.419      0.000      -0.312      -0.146\n",
            "AC          -719.0477    176.076     -4.084      0.000   -1064.150    -373.946\n",
            "FM            63.2727     31.285      2.022      0.043       1.955     124.591\n",
            "UC          -360.2937     48.058     -7.497      0.000    -454.486    -266.102\n",
            "ALTV           0.0413      0.006      7.036      0.000       0.030       0.053\n",
            "==============================================================================\n"
          ]
        }
      ]
    },
    {
      "cell_type": "markdown",
      "source": [
        "As variáveis mais relevantes para o modelo são: `Variance`, `AC`, `FM`, `UC`e `ALTV`."
      ],
      "metadata": {
        "id": "XAyAx5id4f1P"
      }
    },
    {
      "cell_type": "markdown",
      "source": [
        "## Atividade 4: Faça previsões e avalie o modelo."
      ],
      "metadata": {
        "id": "9VHtr2fppc4h"
      }
    },
    {
      "cell_type": "code",
      "source": [
        "# criando Dataset 'df_select' somente com as variáveis relevantes para o modelo\n",
        "df_select = df_balanced[['Variance', 'MLTV', 'AC', 'FM', 'UC', 'ALTV']]"
      ],
      "metadata": {
        "id": "mXx2rorCJ9St"
      },
      "execution_count": null,
      "outputs": []
    },
    {
      "cell_type": "code",
      "source": [
        "# criando y predito para o modelo de previsão\n",
        "y_pred = result.predict(df_select).idxmax(axis=1)"
      ],
      "metadata": {
        "id": "xP7Wk784KjCw"
      },
      "execution_count": null,
      "outputs": []
    },
    {
      "cell_type": "code",
      "source": [
        "# montando a matriz de confusão da biblioteca sklearn\n",
        "from sklearn.metrics import confusion_matrix\n",
        "\n",
        "matriz_confusao = confusion_matrix(y, y_pred)\n",
        "matriz_confusao"
      ],
      "metadata": {
        "id": "x3QqabTtPY1O",
        "colab": {
          "base_uri": "https://localhost:8080/"
        },
        "outputId": "c8e177a0-2f0e-467a-d5e1-0d3852b6e009"
      },
      "execution_count": null,
      "outputs": [
        {
          "output_type": "execute_result",
          "data": {
            "text/plain": [
              "array([[124,  41,  11],\n",
              "       [ 34, 138,   4],\n",
              "       [ 24,  28, 124]])"
            ]
          },
          "metadata": {},
          "execution_count": 29
        }
      ]
    },
    {
      "cell_type": "code",
      "source": [
        "# criando mapa de calor da matriz de confusão com dados em porcentagem\n",
        "import matplotlib.pyplot as plt\n",
        "\n",
        "sns.heatmap(matriz_confusao/np.sum(matriz_confusao),\n",
        "            annot=True, fmt='.2%', cmap='Blues')\n",
        "plt.title('Matriz de Confusão', y=1.1)\n",
        "plt.ylabel('Valores Observados')\n",
        "plt.xlabel('Valores Preditos');"
      ],
      "metadata": {
        "id": "n8QwhzkTPiDs",
        "colab": {
          "base_uri": "https://localhost:8080/",
          "height": 509
        },
        "outputId": "fd88d722-f079-4f42-b248-9ee825b9a69e"
      },
      "execution_count": null,
      "outputs": [
        {
          "output_type": "display_data",
          "data": {
            "text/plain": [
              "<Figure size 640x480 with 2 Axes>"
            ],
            "image/png": "[encoded data removed]"
          },
          "metadata": {}
        }
      ]
    },
    {
      "cell_type": "markdown",
      "source": [
        "De acordo com a Matriz de Confusão, o modelo é bom para fazer previsões, pois apresenta os maiores percentuais de acertos na diogonal principal."
      ],
      "metadata": {
        "id": "FED2hfZ-5pp-"
      }
    },
    {
      "cell_type": "code",
      "source": [
        "# calculando Acurácia, Valores Positivos Preditos, Valores Negativos Preditos, Recall, Especificidade, f1-score através da biblioteca sklearn\n",
        "# support retorna a quantidade de observações de uma métrica\n",
        "from sklearn.metrics import classification_report\n",
        "\n",
        "print(classification_report(y, y_pred))"
      ],
      "metadata": {
        "id": "hv7AEF01Pt0y",
        "colab": {
          "base_uri": "https://localhost:8080/"
        },
        "outputId": "29255694-0ef5-4bb0-abd2-f62c7c2c88a3"
      },
      "execution_count": null,
      "outputs": [
        {
          "output_type": "stream",
          "name": "stdout",
          "text": [
            "              precision    recall  f1-score   support\n",
            "\n",
            "           0       0.68      0.70      0.69       176\n",
            "           1       0.67      0.78      0.72       176\n",
            "           2       0.89      0.70      0.79       176\n",
            "\n",
            "    accuracy                           0.73       528\n",
            "   macro avg       0.75      0.73      0.73       528\n",
            "weighted avg       0.75      0.73      0.73       528\n",
            "\n"
          ]
        }
      ]
    },
    {
      "cell_type": "markdown",
      "source": [
        "*   Podemos ver que a `acurácia` é de 73%, indicando que o modelo acerta 73% das previsões.\n",
        "*   A `precisão`, que analisa dentre todas as instância classificadas como positivas, qual é o percentual de acerto, é de 68% para `NSP` normal, 67% para `NSP` suspeito e 89% para `NSP` patológico.\n",
        "*   O `recall`, que analisa dentre todas as instâncias que são de fato positivas, qual é o percentual de acerto, é de 70% para `NSP` normal e patológico e 78% para `NSP` suspeito.\n",
        "*  O `f1-score` conjuga as duas métricas anteriores como uma média harmônica entre ambas. Ela deve sempre ser priorizada para comparar modelos de classificação em relação à acurácia. No nosso modelo, a métrica F1 é de 69% para `NSP` normal, 72% para `NSP` suspeito e 79% para `NSP` patológico."
      ],
      "metadata": {
        "id": "ourA0iFh6k6X"
      }
    },
    {
      "cell_type": "code",
      "source": [
        "# criando curvas ROC para cada classe através da biblioteca sklearn (passo 1)\n",
        "from sklearn.preprocessing import label_binarize\n",
        "from sklearn.metrics import roc_curve, roc_auc_score, auc"
      ],
      "metadata": {
        "id": "UpCr12avAR5f"
      },
      "execution_count": null,
      "outputs": []
    },
    {
      "cell_type": "code",
      "source": [
        "# criando curvas ROC para cada classe através da biblioteca sklearn (passo 2)\n",
        "y_cat = label_binarize(y_resampled, classes=[0, 1, 2])\n",
        "\n",
        "fpr = dict()\n",
        "tpr = dict()\n",
        "roc_auc = dict()\n",
        "n_classes = 3\n",
        "colors = ['blue','black','green','yellow']\n",
        "\n",
        "for i in range(n_classes):\n",
        "    fpr[i], tpr[i], _ = roc_curve(y_cat[:, i], result.predict(df_select).iloc[:,i])\n",
        "    roc_auc[i] = auc(fpr[i], tpr[i])\n",
        "\n",
        "for i, color in zip(range(n_classes), colors):\n",
        "    plt.plot(fpr[i], tpr[i], color=color, lw=2,\n",
        "             label=f'Curva ROC para a classe {i} (area = {round(roc_auc[i], 2)})')\n",
        "\n",
        "plt.plot([0, 1], [0, 1], 'r--')\n",
        "plt.xlabel('Taxa de Falso Positivo')\n",
        "plt.ylabel('Taxa de Verdadeiro Positivo')\n",
        "plt.title('Curva ROC para muitas classes')\n",
        "plt.legend(loc=\"lower right\");"
      ],
      "metadata": {
        "id": "9uen0B9OQr6H",
        "colab": {
          "base_uri": "https://localhost:8080/",
          "height": 472
        },
        "outputId": "77bc05cd-afc7-4453-f249-984a49965617"
      },
      "execution_count": null,
      "outputs": [
        {
          "output_type": "display_data",
          "data": {
            "text/plain": [
              "<Figure size 640x480 with 1 Axes>"
            ],
            "image/png": "[encoded data removed]"
          },
          "metadata": {}
        }
      ]
    },
    {
      "cell_type": "markdown",
      "source": [
        "Quanto mais próximo de 1 a área sob as curvas ROC estiverem, melhor o modelo e quanto mais próximo da linha tracejada vermelha, pior o modelo. No nosso caso a área é de 0.86 para `NSP` normal, 0.87 para `NSP` suspeito e 0.9% para `NSP` patológico, indicando que o modelo está bom."
      ],
      "metadata": {
        "id": "5I9wZPlS75v1"
      }
    },
    {
      "cell_type": "markdown",
      "source": [
        "## Atividade 5: Faça a previsão para um paciente que apresenta as seguintes características:\n",
        "\n",
        "* `LB` = 121\n",
        "* `AC` = 0.004176\n",
        "* `FM` = 0.0\n",
        "* `UC` = 0.007541\n",
        "* `DL` = 0.003176\n",
        "* `DS` = 0.0\n",
        "* `DP` = 0.0\n",
        "* `ASTV` = 20\n",
        "* `mSTV` = 2.3\n",
        "* `ALTV` = 0\n",
        "* `mLTV` = 11.5\n",
        "* `Width` = 129\n",
        "* `Min` = 54\n",
        "* `Max` = 171\n",
        "* `Nmax` = 5\n",
        "* `Nzeros` = 0\n",
        "* `Mode` = 140\n",
        "* `Mean` = 136\n",
        "* `Median` = 123\n",
        "* `Variance` = 14\n",
        "* `Tendency` = 1"
      ],
      "metadata": {
        "id": "U2QDyKPU1asW"
      }
    },
    {
      "cell_type": "code",
      "source": [
        "#conferindo as colunas\n",
        "df_select.columns.tolist()"
      ],
      "metadata": {
        "id": "Ir5gqOy72BLQ",
        "colab": {
          "base_uri": "https://localhost:8080/"
        },
        "outputId": "fcbdc164-3602-40a2-858c-2000bfc06fcd"
      },
      "execution_count": null,
      "outputs": [
        {
          "output_type": "execute_result",
          "data": {
            "text/plain": [
              "['Variance', 'MLTV', 'AC', 'FM', 'UC', 'ALTV']"
            ]
          },
          "metadata": {},
          "execution_count": 34
        }
      ]
    },
    {
      "cell_type": "code",
      "source": [
        "# criando DataFrame 'x_prev' com as variáveis do paciente em análise nesta previsão através de dicionário\n",
        "x_prev = pd.DataFrame({'Variance': [14], 'MLTV': [11.5], 'AC': [0.004176], 'FM':[0.0], 'UC':[0.007541], 'ALTV':[0] })\n",
        "\n",
        "# aplicando predito para verificar em qual classe o paciente está mais propenso a pertencer\n",
        "result.predict(x_prev)"
      ],
      "metadata": {
        "colab": {
          "base_uri": "https://localhost:8080/",
          "height": 80
        },
        "id": "_7TUp8beUCaO",
        "outputId": "a607fd5b-ba4f-40e0-c33a-baba72a1125b"
      },
      "execution_count": null,
      "outputs": [
        {
          "output_type": "execute_result",
          "data": {
            "text/plain": [
              "         0         1         2\n",
              "0  0.96856  0.030635  0.000805"
            ],
            "text/html": [
              "\n",
              "  <div id=\"df-59ff7335-a51a-4f1b-8508-65e9e0941cd4\">\n",
              "    <div class=\"colab-df-container\">\n",
              "      <div>\n",
              "<style scoped>\n",
              "    .dataframe tbody tr th:only-of-type {\n",
              "        vertical-align: middle;\n",
              "    }\n",
              "\n",
              "    .dataframe tbody tr th {\n",
              "        vertical-align: top;\n",
              "    }\n",
              "\n",
              "    .dataframe thead th {\n",
              "        text-align: right;\n",
              "    }\n",
              "</style>\n",
              "<table border=\"1\" class=\"dataframe\">\n",
              "  <thead>\n",
              "    <tr style=\"text-align: right;\">\n",
              "      <th></th>\n",
              "      <th>0</th>\n",
              "      <th>1</th>\n",
              "      <th>2</th>\n",
              "    </tr>\n",
              "  </thead>\n",
              "  <tbody>\n",
              "    <tr>\n",
              "      <th>0</th>\n",
              "      <td>0.96856</td>\n",
              "      <td>0.030635</td>\n",
              "      <td>0.000805</td>\n",
              "    </tr>\n",
              "  </tbody>\n",
              "</table>\n",
              "</div>\n",
              "      <button class=\"colab-df-convert\" onclick=\"convertToInteractive('df-59ff7335-a51a-4f1b-8508-65e9e0941cd4')\"\n",
              "              title=\"Convert this dataframe to an interactive table.\"\n",
              "              style=\"display:none;\">\n",
              "        \n",
              "  <svg xmlns=\"http://www.w3.org/2000/svg\" height=\"24px\"viewBox=\"0 0 24 24\"\n",
              "       width=\"24px\">\n",
              "    <path d=\"M0 0h24v24H0V0z\" fill=\"none\"/>\n",
              "    <path d=\"M18.56 5.44l.94 2.06.94-2.06 2.06-.94-2.06-.94-.94-2.06-.94 2.06-2.06.94zm-11 1L8.5 8.5l.94-2.06 2.06-.94-2.06-.94L8.5 2.5l-.94 2.06-2.06.94zm10 10l.94 2.06.94-2.06 2.06-.94-2.06-.94-.94-2.06-.94 2.06-2.06.94z\"/><path d=\"M17.41 7.96l-1.37-1.37c-.4-.4-.92-.59-1.43-.59-.52 0-1.04.2-1.43.59L10.3 9.45l-7.72 7.72c-.78.78-.78 2.05 0 2.83L4 21.41c.39.39.9.59 1.41.59.51 0 1.02-.2 1.41-.59l7.78-7.78 2.81-2.81c.8-.78.8-2.07 0-2.86zM5.41 20L4 18.59l7.72-7.72 1.47 1.35L5.41 20z\"/>\n",
              "  </svg>\n",
              "      </button>\n",
              "      \n",
              "  <style>\n",
              "    .colab-df-container {\n",
              "      display:flex;\n",
              "      flex-wrap:wrap;\n",
              "      gap: 12px;\n",
              "    }\n",
              "\n",
              "    .colab-df-convert {\n",
              "      background-color: #E8F0FE;\n",
              "      border: none;\n",
              "      border-radius: 50%;\n",
              "      cursor: pointer;\n",
              "      display: none;\n",
              "      fill: #1967D2;\n",
              "      height: 32px;\n",
              "      padding: 0 0 0 0;\n",
              "      width: 32px;\n",
              "    }\n",
              "\n",
              "    .colab-df-convert:hover {\n",
              "      background-color: #E2EBFA;\n",
              "      box-shadow: 0px 1px 2px rgba(60, 64, 67, 0.3), 0px 1px 3px 1px rgba(60, 64, 67, 0.15);\n",
              "      fill: #174EA6;\n",
              "    }\n",
              "\n",
              "    [theme=dark] .colab-df-convert {\n",
              "      background-color: #3B4455;\n",
              "      fill: #D2E3FC;\n",
              "    }\n",
              "\n",
              "    [theme=dark] .colab-df-convert:hover {\n",
              "      background-color: #434B5C;\n",
              "      box-shadow: 0px 1px 3px 1px rgba(0, 0, 0, 0.15);\n",
              "      filter: drop-shadow(0px 1px 2px rgba(0, 0, 0, 0.3));\n",
              "      fill: #FFFFFF;\n",
              "    }\n",
              "  </style>\n",
              "\n",
              "      <script>\n",
              "        const buttonEl =\n",
              "          document.querySelector('#df-59ff7335-a51a-4f1b-8508-65e9e0941cd4 button.colab-df-convert');\n",
              "        buttonEl.style.display =\n",
              "          google.colab.kernel.accessAllowed ? 'block' : 'none';\n",
              "\n",
              "        async function convertToInteractive(key) {\n",
              "          const element = document.querySelector('#df-59ff7335-a51a-4f1b-8508-65e9e0941cd4');\n",
              "          const dataTable =\n",
              "            await google.colab.kernel.invokeFunction('convertToInteractive',\n",
              "                                                     [key], {});\n",
              "          if (!dataTable) return;\n",
              "\n",
              "          const docLinkHtml = 'Like what you see? Visit the ' +\n",
              "            '<a target=\"_blank\" href=https://colab.research.google.com/notebooks/data_table.ipynb>data table notebook</a>'\n",
              "            + ' to learn more about interactive tables.';\n",
              "          element.innerHTML = '';\n",
              "          dataTable['output_type'] = 'display_data';\n",
              "          await google.colab.output.renderOutput(dataTable, element);\n",
              "          const docLink = document.createElement('div');\n",
              "          docLink.innerHTML = docLinkHtml;\n",
              "          element.appendChild(docLink);\n",
              "        }\n",
              "      </script>\n",
              "    </div>\n",
              "  </div>\n",
              "  "
            ]
          },
          "metadata": {},
          "execution_count": 37
        }
      ]
    },
    {
      "cell_type": "code",
      "source": [
        "# aplicando y predito para previsão do paciente em análise\n",
        "y_pred2 = result.predict(x_prev).idxmax(axis=1)[0]\n",
        "y_pred2"
      ],
      "metadata": {
        "colab": {
          "base_uri": "https://localhost:8080/"
        },
        "id": "j5WAF64dVO7B",
        "outputId": "02b0609e-25a3-4ec7-d809-931d09c2fc7c"
      },
      "execution_count": null,
      "outputs": [
        {
          "output_type": "execute_result",
          "data": {
            "text/plain": [
              "0"
            ]
          },
          "metadata": {},
          "execution_count": 38
        }
      ]
    },
    {
      "cell_type": "markdown",
      "source": [
        "O paciente em análise nesta previsão, pertence a classe O, ou seja, apresenta `NSP` normal."
      ],
      "metadata": {
        "id": "ChhZGLN0-RGf"
      }
    }
  ]
}