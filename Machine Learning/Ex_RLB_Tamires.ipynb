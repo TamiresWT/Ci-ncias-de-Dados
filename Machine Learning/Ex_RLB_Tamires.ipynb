{
  "nbformat": 4,
  "nbformat_minor": 0,
  "metadata": {
    "colab": {
      "provenance": []
    },
    "kernelspec": {
      "name": "python3",
      "display_name": "Python 3"
    },
    "language_info": {
      "name": "python"
    }
  },
  "cells": [
    {
      "cell_type": "markdown",
      "source": [
        "# Regressão Logística Binária\n",
        "\n",
        "Para está atividade iremos utilizar um dataset sobre fraudes em cartão de crédito obtido do [kaggle](https://www.kaggle.com/datasets/dhanushnarayananr/credit-card-fraud?select=card_transdata.csv).\n",
        "\n",
        "Esse conjunto de dados possui as variáveis:\n",
        "\n",
        "* distance_from_home - distância entre a casa e o local onde a transação foi feita.\n",
        "\n",
        "* distance_from_last_transaction - a distância do local em que a última transação ocorreu.\n",
        "\n",
        "* ratio_to_median_purchase_price - Razão entre preço da transação e o preço médio de transação.\n",
        "\n",
        "* repeat_retailer - Se a transação ocorreu na mesma loja.\n",
        "\n",
        "* used_chip - Se a transação foi feita com cartão de crédito.\n",
        "\n",
        "* used_pin_number - Se a transação ocorreu usando número PIN.\n",
        "\n",
        "* online_order - Se a transação foi online.\n",
        "\n",
        "* fraud - Se a transação é fraudulenta.\n"
      ],
      "metadata": {
        "id": "bPYgc7UHk8Wt"
      }
    },
    {
      "cell_type": "markdown",
      "source": [
        "## Atividade 1: Carregue os dados e verifique se há dados faltantes. Se houver, faça o tratamento que julgar adequado."
      ],
      "metadata": {
        "id": "ynczv8RdtupL"
      }
    },
    {
      "cell_type": "code",
      "source": [
        "# importando biblioteca pandas\n",
        "import pandas as pd"
      ],
      "metadata": {
        "id": "y4uD071Xj9_V"
      },
      "execution_count": null,
      "outputs": []
    },
    {
      "cell_type": "code",
      "source": [
        "# Criando biblioteca no Google Drive\n",
        "from google.colab import drive\n",
        "drive.mount('/content/drive')"
      ],
      "metadata": {
        "id": "OGGvBh-Wj96l",
        "colab": {
          "base_uri": "https://localhost:8080/"
        },
        "outputId": "841a26f0-2742-460a-979d-fbb43f0b5d8d"
      },
      "execution_count": null,
      "outputs": [
        {
          "output_type": "stream",
          "name": "stdout",
          "text": [
            "Mounted at /content/drive\n"
          ]
        }
      ]
    },
    {
      "cell_type": "code",
      "source": [
        "#criando DataFrame df com os dados do dataset do Ifood\n",
        "df = pd.read_csv('/content/drive/MyDrive/arquivos/card_transdata.csv')\n",
        "df.head()"
      ],
      "metadata": {
        "id": "L3Z9Nu68ODjn",
        "colab": {
          "base_uri": "https://localhost:8080/",
          "height": 270
        },
        "outputId": "11973dc8-1c21-4d44-fa5a-e194e8762aca"
      },
      "execution_count": null,
      "outputs": [
        {
          "output_type": "execute_result",
          "data": {
            "text/plain": [
              "   distance_from_home  distance_from_last_transaction  \\\n",
              "0           57.877857                        0.311140   \n",
              "1           10.829943                        0.175592   \n",
              "2            5.091079                        0.805153   \n",
              "3            2.247564                        5.600044   \n",
              "4           44.190936                        0.566486   \n",
              "\n",
              "   ratio_to_median_purchase_price  repeat_retailer  used_chip  \\\n",
              "0                        1.945940              1.0        1.0   \n",
              "1                        1.294219              1.0        0.0   \n",
              "2                        0.427715              1.0        0.0   \n",
              "3                        0.362663              1.0        1.0   \n",
              "4                        2.222767              1.0        1.0   \n",
              "\n",
              "   used_pin_number  online_order  fraud  \n",
              "0              0.0           0.0    0.0  \n",
              "1              0.0           0.0    0.0  \n",
              "2              0.0           1.0    0.0  \n",
              "3              0.0           1.0    0.0  \n",
              "4              0.0           1.0    0.0  "
            ],
            "text/html": [
              "\n",
              "  <div id=\"df-3942aa42-15fe-4209-a70d-ae9a953efee0\">\n",
              "    <div class=\"colab-df-container\">\n",
              "      <div>\n",
              "<style scoped>\n",
              "    .dataframe tbody tr th:only-of-type {\n",
              "        vertical-align: middle;\n",
              "    }\n",
              "\n",
              "    .dataframe tbody tr th {\n",
              "        vertical-align: top;\n",
              "    }\n",
              "\n",
              "    .dataframe thead th {\n",
              "        text-align: right;\n",
              "    }\n",
              "</style>\n",
              "<table border=\"1\" class=\"dataframe\">\n",
              "  <thead>\n",
              "    <tr style=\"text-align: right;\">\n",
              "      <th></th>\n",
              "      <th>distance_from_home</th>\n",
              "      <th>distance_from_last_transaction</th>\n",
              "      <th>ratio_to_median_purchase_price</th>\n",
              "      <th>repeat_retailer</th>\n",
              "      <th>used_chip</th>\n",
              "      <th>used_pin_number</th>\n",
              "      <th>online_order</th>\n",
              "      <th>fraud</th>\n",
              "    </tr>\n",
              "  </thead>\n",
              "  <tbody>\n",
              "    <tr>\n",
              "      <th>0</th>\n",
              "      <td>57.877857</td>\n",
              "      <td>0.311140</td>\n",
              "      <td>1.945940</td>\n",
              "      <td>1.0</td>\n",
              "      <td>1.0</td>\n",
              "      <td>0.0</td>\n",
              "      <td>0.0</td>\n",
              "      <td>0.0</td>\n",
              "    </tr>\n",
              "    <tr>\n",
              "      <th>1</th>\n",
              "      <td>10.829943</td>\n",
              "      <td>0.175592</td>\n",
              "      <td>1.294219</td>\n",
              "      <td>1.0</td>\n",
              "      <td>0.0</td>\n",
              "      <td>0.0</td>\n",
              "      <td>0.0</td>\n",
              "      <td>0.0</td>\n",
              "    </tr>\n",
              "    <tr>\n",
              "      <th>2</th>\n",
              "      <td>5.091079</td>\n",
              "      <td>0.805153</td>\n",
              "      <td>0.427715</td>\n",
              "      <td>1.0</td>\n",
              "      <td>0.0</td>\n",
              "      <td>0.0</td>\n",
              "      <td>1.0</td>\n",
              "      <td>0.0</td>\n",
              "    </tr>\n",
              "    <tr>\n",
              "      <th>3</th>\n",
              "      <td>2.247564</td>\n",
              "      <td>5.600044</td>\n",
              "      <td>0.362663</td>\n",
              "      <td>1.0</td>\n",
              "      <td>1.0</td>\n",
              "      <td>0.0</td>\n",
              "      <td>1.0</td>\n",
              "      <td>0.0</td>\n",
              "    </tr>\n",
              "    <tr>\n",
              "      <th>4</th>\n",
              "      <td>44.190936</td>\n",
              "      <td>0.566486</td>\n",
              "      <td>2.222767</td>\n",
              "      <td>1.0</td>\n",
              "      <td>1.0</td>\n",
              "      <td>0.0</td>\n",
              "      <td>1.0</td>\n",
              "      <td>0.0</td>\n",
              "    </tr>\n",
              "  </tbody>\n",
              "</table>\n",
              "</div>\n",
              "      <button class=\"colab-df-convert\" onclick=\"convertToInteractive('df-3942aa42-15fe-4209-a70d-ae9a953efee0')\"\n",
              "              title=\"Convert this dataframe to an interactive table.\"\n",
              "              style=\"display:none;\">\n",
              "        \n",
              "  <svg xmlns=\"http://www.w3.org/2000/svg\" height=\"24px\"viewBox=\"0 0 24 24\"\n",
              "       width=\"24px\">\n",
              "    <path d=\"M0 0h24v24H0V0z\" fill=\"none\"/>\n",
              "    <path d=\"M18.56 5.44l.94 2.06.94-2.06 2.06-.94-2.06-.94-.94-2.06-.94 2.06-2.06.94zm-11 1L8.5 8.5l.94-2.06 2.06-.94-2.06-.94L8.5 2.5l-.94 2.06-2.06.94zm10 10l.94 2.06.94-2.06 2.06-.94-2.06-.94-.94-2.06-.94 2.06-2.06.94z\"/><path d=\"M17.41 7.96l-1.37-1.37c-.4-.4-.92-.59-1.43-.59-.52 0-1.04.2-1.43.59L10.3 9.45l-7.72 7.72c-.78.78-.78 2.05 0 2.83L4 21.41c.39.39.9.59 1.41.59.51 0 1.02-.2 1.41-.59l7.78-7.78 2.81-2.81c.8-.78.8-2.07 0-2.86zM5.41 20L4 18.59l7.72-7.72 1.47 1.35L5.41 20z\"/>\n",
              "  </svg>\n",
              "      </button>\n",
              "      \n",
              "  <style>\n",
              "    .colab-df-container {\n",
              "      display:flex;\n",
              "      flex-wrap:wrap;\n",
              "      gap: 12px;\n",
              "    }\n",
              "\n",
              "    .colab-df-convert {\n",
              "      background-color: #E8F0FE;\n",
              "      border: none;\n",
              "      border-radius: 50%;\n",
              "      cursor: pointer;\n",
              "      display: none;\n",
              "      fill: #1967D2;\n",
              "      height: 32px;\n",
              "      padding: 0 0 0 0;\n",
              "      width: 32px;\n",
              "    }\n",
              "\n",
              "    .colab-df-convert:hover {\n",
              "      background-color: #E2EBFA;\n",
              "      box-shadow: 0px 1px 2px rgba(60, 64, 67, 0.3), 0px 1px 3px 1px rgba(60, 64, 67, 0.15);\n",
              "      fill: #174EA6;\n",
              "    }\n",
              "\n",
              "    [theme=dark] .colab-df-convert {\n",
              "      background-color: #3B4455;\n",
              "      fill: #D2E3FC;\n",
              "    }\n",
              "\n",
              "    [theme=dark] .colab-df-convert:hover {\n",
              "      background-color: #434B5C;\n",
              "      box-shadow: 0px 1px 3px 1px rgba(0, 0, 0, 0.15);\n",
              "      filter: drop-shadow(0px 1px 2px rgba(0, 0, 0, 0.3));\n",
              "      fill: #FFFFFF;\n",
              "    }\n",
              "  </style>\n",
              "\n",
              "      <script>\n",
              "        const buttonEl =\n",
              "          document.querySelector('#df-3942aa42-15fe-4209-a70d-ae9a953efee0 button.colab-df-convert');\n",
              "        buttonEl.style.display =\n",
              "          google.colab.kernel.accessAllowed ? 'block' : 'none';\n",
              "\n",
              "        async function convertToInteractive(key) {\n",
              "          const element = document.querySelector('#df-3942aa42-15fe-4209-a70d-ae9a953efee0');\n",
              "          const dataTable =\n",
              "            await google.colab.kernel.invokeFunction('convertToInteractive',\n",
              "                                                     [key], {});\n",
              "          if (!dataTable) return;\n",
              "\n",
              "          const docLinkHtml = 'Like what you see? Visit the ' +\n",
              "            '<a target=\"_blank\" href=https://colab.research.google.com/notebooks/data_table.ipynb>data table notebook</a>'\n",
              "            + ' to learn more about interactive tables.';\n",
              "          element.innerHTML = '';\n",
              "          dataTable['output_type'] = 'display_data';\n",
              "          await google.colab.output.renderOutput(dataTable, element);\n",
              "          const docLink = document.createElement('div');\n",
              "          docLink.innerHTML = docLinkHtml;\n",
              "          element.appendChild(docLink);\n",
              "        }\n",
              "      </script>\n",
              "    </div>\n",
              "  </div>\n",
              "  "
            ]
          },
          "metadata": {},
          "execution_count": 45
        }
      ]
    },
    {
      "cell_type": "code",
      "source": [
        "# verificando valores ausentes para cada coluna\n",
        "df.isnull().sum()"
      ],
      "metadata": {
        "id": "omfuhoEoOIgE",
        "colab": {
          "base_uri": "https://localhost:8080/"
        },
        "outputId": "ae06ff4f-5cce-4888-89fc-5d9b59199ce8"
      },
      "execution_count": null,
      "outputs": [
        {
          "output_type": "execute_result",
          "data": {
            "text/plain": [
              "distance_from_home                0\n",
              "distance_from_last_transaction    0\n",
              "ratio_to_median_purchase_price    0\n",
              "repeat_retailer                   0\n",
              "used_chip                         0\n",
              "used_pin_number                   0\n",
              "online_order                      0\n",
              "fraud                             0\n",
              "dtype: int64"
            ]
          },
          "metadata": {},
          "execution_count": 46
        }
      ]
    },
    {
      "cell_type": "markdown",
      "source": [
        "Não há valores ausentes no Dataframe."
      ],
      "metadata": {
        "id": "bSgM_fnywU9c"
      }
    },
    {
      "cell_type": "code",
      "source": [
        "print(f\"O dataframe importado tem {df.shape[0]} registros e {df.shape[1]} colunas\")"
      ],
      "metadata": {
        "colab": {
          "base_uri": "https://localhost:8080/"
        },
        "id": "cpEVLj8mnoWn",
        "outputId": "26a8571f-7628-44e9-83ac-2922b776accf"
      },
      "execution_count": null,
      "outputs": [
        {
          "output_type": "stream",
          "name": "stdout",
          "text": [
            "O dataframe importado tem 1000000 registros e 8 colunas\n"
          ]
        }
      ]
    },
    {
      "cell_type": "markdown",
      "source": [
        "Obs: Na célula abaixo há um código para renomear as colunas."
      ],
      "metadata": {
        "id": "DG6ZjW99gg5E"
      }
    },
    {
      "cell_type": "code",
      "source": [
        "# renomeando as colunas\n",
        "df.columns = ['dist_casa','dist_ultima_transacao','razao_preco_medio',\n",
        "              'loja_repetida','usou_chip','usou_pin','online','fraude']\n",
        "\n",
        "df.head()"
      ],
      "metadata": {
        "id": "lwZcqLAzQrS4",
        "colab": {
          "base_uri": "https://localhost:8080/",
          "height": 206
        },
        "outputId": "c39cc2a2-bb2b-4fc6-c6fc-8f0bfd2f1836"
      },
      "execution_count": null,
      "outputs": [
        {
          "output_type": "execute_result",
          "data": {
            "text/plain": [
              "   dist_casa  dist_ultima_transacao  razao_preco_medio  loja_repetida  \\\n",
              "0  57.877857               0.311140           1.945940            1.0   \n",
              "1  10.829943               0.175592           1.294219            1.0   \n",
              "2   5.091079               0.805153           0.427715            1.0   \n",
              "3   2.247564               5.600044           0.362663            1.0   \n",
              "4  44.190936               0.566486           2.222767            1.0   \n",
              "\n",
              "   usou_chip  usou_pin  online  fraude  \n",
              "0        1.0       0.0     0.0     0.0  \n",
              "1        0.0       0.0     0.0     0.0  \n",
              "2        0.0       0.0     1.0     0.0  \n",
              "3        1.0       0.0     1.0     0.0  \n",
              "4        1.0       0.0     1.0     0.0  "
            ],
            "text/html": [
              "\n",
              "  <div id=\"df-954c3f4e-573a-4cca-9336-29bd513912bd\">\n",
              "    <div class=\"colab-df-container\">\n",
              "      <div>\n",
              "<style scoped>\n",
              "    .dataframe tbody tr th:only-of-type {\n",
              "        vertical-align: middle;\n",
              "    }\n",
              "\n",
              "    .dataframe tbody tr th {\n",
              "        vertical-align: top;\n",
              "    }\n",
              "\n",
              "    .dataframe thead th {\n",
              "        text-align: right;\n",
              "    }\n",
              "</style>\n",
              "<table border=\"1\" class=\"dataframe\">\n",
              "  <thead>\n",
              "    <tr style=\"text-align: right;\">\n",
              "      <th></th>\n",
              "      <th>dist_casa</th>\n",
              "      <th>dist_ultima_transacao</th>\n",
              "      <th>razao_preco_medio</th>\n",
              "      <th>loja_repetida</th>\n",
              "      <th>usou_chip</th>\n",
              "      <th>usou_pin</th>\n",
              "      <th>online</th>\n",
              "      <th>fraude</th>\n",
              "    </tr>\n",
              "  </thead>\n",
              "  <tbody>\n",
              "    <tr>\n",
              "      <th>0</th>\n",
              "      <td>57.877857</td>\n",
              "      <td>0.311140</td>\n",
              "      <td>1.945940</td>\n",
              "      <td>1.0</td>\n",
              "      <td>1.0</td>\n",
              "      <td>0.0</td>\n",
              "      <td>0.0</td>\n",
              "      <td>0.0</td>\n",
              "    </tr>\n",
              "    <tr>\n",
              "      <th>1</th>\n",
              "      <td>10.829943</td>\n",
              "      <td>0.175592</td>\n",
              "      <td>1.294219</td>\n",
              "      <td>1.0</td>\n",
              "      <td>0.0</td>\n",
              "      <td>0.0</td>\n",
              "      <td>0.0</td>\n",
              "      <td>0.0</td>\n",
              "    </tr>\n",
              "    <tr>\n",
              "      <th>2</th>\n",
              "      <td>5.091079</td>\n",
              "      <td>0.805153</td>\n",
              "      <td>0.427715</td>\n",
              "      <td>1.0</td>\n",
              "      <td>0.0</td>\n",
              "      <td>0.0</td>\n",
              "      <td>1.0</td>\n",
              "      <td>0.0</td>\n",
              "    </tr>\n",
              "    <tr>\n",
              "      <th>3</th>\n",
              "      <td>2.247564</td>\n",
              "      <td>5.600044</td>\n",
              "      <td>0.362663</td>\n",
              "      <td>1.0</td>\n",
              "      <td>1.0</td>\n",
              "      <td>0.0</td>\n",
              "      <td>1.0</td>\n",
              "      <td>0.0</td>\n",
              "    </tr>\n",
              "    <tr>\n",
              "      <th>4</th>\n",
              "      <td>44.190936</td>\n",
              "      <td>0.566486</td>\n",
              "      <td>2.222767</td>\n",
              "      <td>1.0</td>\n",
              "      <td>1.0</td>\n",
              "      <td>0.0</td>\n",
              "      <td>1.0</td>\n",
              "      <td>0.0</td>\n",
              "    </tr>\n",
              "  </tbody>\n",
              "</table>\n",
              "</div>\n",
              "      <button class=\"colab-df-convert\" onclick=\"convertToInteractive('df-954c3f4e-573a-4cca-9336-29bd513912bd')\"\n",
              "              title=\"Convert this dataframe to an interactive table.\"\n",
              "              style=\"display:none;\">\n",
              "        \n",
              "  <svg xmlns=\"http://www.w3.org/2000/svg\" height=\"24px\"viewBox=\"0 0 24 24\"\n",
              "       width=\"24px\">\n",
              "    <path d=\"M0 0h24v24H0V0z\" fill=\"none\"/>\n",
              "    <path d=\"M18.56 5.44l.94 2.06.94-2.06 2.06-.94-2.06-.94-.94-2.06-.94 2.06-2.06.94zm-11 1L8.5 8.5l.94-2.06 2.06-.94-2.06-.94L8.5 2.5l-.94 2.06-2.06.94zm10 10l.94 2.06.94-2.06 2.06-.94-2.06-.94-.94-2.06-.94 2.06-2.06.94z\"/><path d=\"M17.41 7.96l-1.37-1.37c-.4-.4-.92-.59-1.43-.59-.52 0-1.04.2-1.43.59L10.3 9.45l-7.72 7.72c-.78.78-.78 2.05 0 2.83L4 21.41c.39.39.9.59 1.41.59.51 0 1.02-.2 1.41-.59l7.78-7.78 2.81-2.81c.8-.78.8-2.07 0-2.86zM5.41 20L4 18.59l7.72-7.72 1.47 1.35L5.41 20z\"/>\n",
              "  </svg>\n",
              "      </button>\n",
              "      \n",
              "  <style>\n",
              "    .colab-df-container {\n",
              "      display:flex;\n",
              "      flex-wrap:wrap;\n",
              "      gap: 12px;\n",
              "    }\n",
              "\n",
              "    .colab-df-convert {\n",
              "      background-color: #E8F0FE;\n",
              "      border: none;\n",
              "      border-radius: 50%;\n",
              "      cursor: pointer;\n",
              "      display: none;\n",
              "      fill: #1967D2;\n",
              "      height: 32px;\n",
              "      padding: 0 0 0 0;\n",
              "      width: 32px;\n",
              "    }\n",
              "\n",
              "    .colab-df-convert:hover {\n",
              "      background-color: #E2EBFA;\n",
              "      box-shadow: 0px 1px 2px rgba(60, 64, 67, 0.3), 0px 1px 3px 1px rgba(60, 64, 67, 0.15);\n",
              "      fill: #174EA6;\n",
              "    }\n",
              "\n",
              "    [theme=dark] .colab-df-convert {\n",
              "      background-color: #3B4455;\n",
              "      fill: #D2E3FC;\n",
              "    }\n",
              "\n",
              "    [theme=dark] .colab-df-convert:hover {\n",
              "      background-color: #434B5C;\n",
              "      box-shadow: 0px 1px 3px 1px rgba(0, 0, 0, 0.15);\n",
              "      filter: drop-shadow(0px 1px 2px rgba(0, 0, 0, 0.3));\n",
              "      fill: #FFFFFF;\n",
              "    }\n",
              "  </style>\n",
              "\n",
              "      <script>\n",
              "        const buttonEl =\n",
              "          document.querySelector('#df-954c3f4e-573a-4cca-9336-29bd513912bd button.colab-df-convert');\n",
              "        buttonEl.style.display =\n",
              "          google.colab.kernel.accessAllowed ? 'block' : 'none';\n",
              "\n",
              "        async function convertToInteractive(key) {\n",
              "          const element = document.querySelector('#df-954c3f4e-573a-4cca-9336-29bd513912bd');\n",
              "          const dataTable =\n",
              "            await google.colab.kernel.invokeFunction('convertToInteractive',\n",
              "                                                     [key], {});\n",
              "          if (!dataTable) return;\n",
              "\n",
              "          const docLinkHtml = 'Like what you see? Visit the ' +\n",
              "            '<a target=\"_blank\" href=https://colab.research.google.com/notebooks/data_table.ipynb>data table notebook</a>'\n",
              "            + ' to learn more about interactive tables.';\n",
              "          element.innerHTML = '';\n",
              "          dataTable['output_type'] = 'display_data';\n",
              "          await google.colab.output.renderOutput(dataTable, element);\n",
              "          const docLink = document.createElement('div');\n",
              "          docLink.innerHTML = docLinkHtml;\n",
              "          element.appendChild(docLink);\n",
              "        }\n",
              "      </script>\n",
              "    </div>\n",
              "  </div>\n",
              "  "
            ]
          },
          "metadata": {},
          "execution_count": 48
        }
      ]
    },
    {
      "cell_type": "code",
      "source": [
        "# verificando estatísticas descritivas das variáveis\n",
        "df.describe().T"
      ],
      "metadata": {
        "colab": {
          "base_uri": "https://localhost:8080/",
          "height": 300
        },
        "id": "wKvRL5zNogKY",
        "outputId": "d6c846d9-12f0-413b-e5cf-930f024e40f8"
      },
      "execution_count": null,
      "outputs": [
        {
          "output_type": "execute_result",
          "data": {
            "text/plain": [
              "                           count       mean        std       min       25%  \\\n",
              "dist_casa              1000000.0  26.628792  65.390784  0.004874  3.878008   \n",
              "dist_ultima_transacao  1000000.0   5.036519  25.843093  0.000118  0.296671   \n",
              "razao_preco_medio      1000000.0   1.824182   2.799589  0.004399  0.475673   \n",
              "loja_repetida          1000000.0   0.881536   0.323157  0.000000  1.000000   \n",
              "usou_chip              1000000.0   0.350399   0.477095  0.000000  0.000000   \n",
              "usou_pin               1000000.0   0.100608   0.300809  0.000000  0.000000   \n",
              "online                 1000000.0   0.650552   0.476796  0.000000  0.000000   \n",
              "fraude                 1000000.0   0.087403   0.282425  0.000000  0.000000   \n",
              "\n",
              "                            50%        75%           max  \n",
              "dist_casa              9.967760  25.743985  10632.723672  \n",
              "dist_ultima_transacao  0.998650   3.355748  11851.104565  \n",
              "razao_preco_medio      0.997717   2.096370    267.802942  \n",
              "loja_repetida          1.000000   1.000000      1.000000  \n",
              "usou_chip              0.000000   1.000000      1.000000  \n",
              "usou_pin               0.000000   0.000000      1.000000  \n",
              "online                 1.000000   1.000000      1.000000  \n",
              "fraude                 0.000000   0.000000      1.000000  "
            ],
            "text/html": [
              "\n",
              "  <div id=\"df-d9909198-dd5e-4ba0-9e00-4b5b95cf0d04\">\n",
              "    <div class=\"colab-df-container\">\n",
              "      <div>\n",
              "<style scoped>\n",
              "    .dataframe tbody tr th:only-of-type {\n",
              "        vertical-align: middle;\n",
              "    }\n",
              "\n",
              "    .dataframe tbody tr th {\n",
              "        vertical-align: top;\n",
              "    }\n",
              "\n",
              "    .dataframe thead th {\n",
              "        text-align: right;\n",
              "    }\n",
              "</style>\n",
              "<table border=\"1\" class=\"dataframe\">\n",
              "  <thead>\n",
              "    <tr style=\"text-align: right;\">\n",
              "      <th></th>\n",
              "      <th>count</th>\n",
              "      <th>mean</th>\n",
              "      <th>std</th>\n",
              "      <th>min</th>\n",
              "      <th>25%</th>\n",
              "      <th>50%</th>\n",
              "      <th>75%</th>\n",
              "      <th>max</th>\n",
              "    </tr>\n",
              "  </thead>\n",
              "  <tbody>\n",
              "    <tr>\n",
              "      <th>dist_casa</th>\n",
              "      <td>1000000.0</td>\n",
              "      <td>26.628792</td>\n",
              "      <td>65.390784</td>\n",
              "      <td>0.004874</td>\n",
              "      <td>3.878008</td>\n",
              "      <td>9.967760</td>\n",
              "      <td>25.743985</td>\n",
              "      <td>10632.723672</td>\n",
              "    </tr>\n",
              "    <tr>\n",
              "      <th>dist_ultima_transacao</th>\n",
              "      <td>1000000.0</td>\n",
              "      <td>5.036519</td>\n",
              "      <td>25.843093</td>\n",
              "      <td>0.000118</td>\n",
              "      <td>0.296671</td>\n",
              "      <td>0.998650</td>\n",
              "      <td>3.355748</td>\n",
              "      <td>11851.104565</td>\n",
              "    </tr>\n",
              "    <tr>\n",
              "      <th>razao_preco_medio</th>\n",
              "      <td>1000000.0</td>\n",
              "      <td>1.824182</td>\n",
              "      <td>2.799589</td>\n",
              "      <td>0.004399</td>\n",
              "      <td>0.475673</td>\n",
              "      <td>0.997717</td>\n",
              "      <td>2.096370</td>\n",
              "      <td>267.802942</td>\n",
              "    </tr>\n",
              "    <tr>\n",
              "      <th>loja_repetida</th>\n",
              "      <td>1000000.0</td>\n",
              "      <td>0.881536</td>\n",
              "      <td>0.323157</td>\n",
              "      <td>0.000000</td>\n",
              "      <td>1.000000</td>\n",
              "      <td>1.000000</td>\n",
              "      <td>1.000000</td>\n",
              "      <td>1.000000</td>\n",
              "    </tr>\n",
              "    <tr>\n",
              "      <th>usou_chip</th>\n",
              "      <td>1000000.0</td>\n",
              "      <td>0.350399</td>\n",
              "      <td>0.477095</td>\n",
              "      <td>0.000000</td>\n",
              "      <td>0.000000</td>\n",
              "      <td>0.000000</td>\n",
              "      <td>1.000000</td>\n",
              "      <td>1.000000</td>\n",
              "    </tr>\n",
              "    <tr>\n",
              "      <th>usou_pin</th>\n",
              "      <td>1000000.0</td>\n",
              "      <td>0.100608</td>\n",
              "      <td>0.300809</td>\n",
              "      <td>0.000000</td>\n",
              "      <td>0.000000</td>\n",
              "      <td>0.000000</td>\n",
              "      <td>0.000000</td>\n",
              "      <td>1.000000</td>\n",
              "    </tr>\n",
              "    <tr>\n",
              "      <th>online</th>\n",
              "      <td>1000000.0</td>\n",
              "      <td>0.650552</td>\n",
              "      <td>0.476796</td>\n",
              "      <td>0.000000</td>\n",
              "      <td>0.000000</td>\n",
              "      <td>1.000000</td>\n",
              "      <td>1.000000</td>\n",
              "      <td>1.000000</td>\n",
              "    </tr>\n",
              "    <tr>\n",
              "      <th>fraude</th>\n",
              "      <td>1000000.0</td>\n",
              "      <td>0.087403</td>\n",
              "      <td>0.282425</td>\n",
              "      <td>0.000000</td>\n",
              "      <td>0.000000</td>\n",
              "      <td>0.000000</td>\n",
              "      <td>0.000000</td>\n",
              "      <td>1.000000</td>\n",
              "    </tr>\n",
              "  </tbody>\n",
              "</table>\n",
              "</div>\n",
              "      <button class=\"colab-df-convert\" onclick=\"convertToInteractive('df-d9909198-dd5e-4ba0-9e00-4b5b95cf0d04')\"\n",
              "              title=\"Convert this dataframe to an interactive table.\"\n",
              "              style=\"display:none;\">\n",
              "        \n",
              "  <svg xmlns=\"http://www.w3.org/2000/svg\" height=\"24px\"viewBox=\"0 0 24 24\"\n",
              "       width=\"24px\">\n",
              "    <path d=\"M0 0h24v24H0V0z\" fill=\"none\"/>\n",
              "    <path d=\"M18.56 5.44l.94 2.06.94-2.06 2.06-.94-2.06-.94-.94-2.06-.94 2.06-2.06.94zm-11 1L8.5 8.5l.94-2.06 2.06-.94-2.06-.94L8.5 2.5l-.94 2.06-2.06.94zm10 10l.94 2.06.94-2.06 2.06-.94-2.06-.94-.94-2.06-.94 2.06-2.06.94z\"/><path d=\"M17.41 7.96l-1.37-1.37c-.4-.4-.92-.59-1.43-.59-.52 0-1.04.2-1.43.59L10.3 9.45l-7.72 7.72c-.78.78-.78 2.05 0 2.83L4 21.41c.39.39.9.59 1.41.59.51 0 1.02-.2 1.41-.59l7.78-7.78 2.81-2.81c.8-.78.8-2.07 0-2.86zM5.41 20L4 18.59l7.72-7.72 1.47 1.35L5.41 20z\"/>\n",
              "  </svg>\n",
              "      </button>\n",
              "      \n",
              "  <style>\n",
              "    .colab-df-container {\n",
              "      display:flex;\n",
              "      flex-wrap:wrap;\n",
              "      gap: 12px;\n",
              "    }\n",
              "\n",
              "    .colab-df-convert {\n",
              "      background-color: #E8F0FE;\n",
              "      border: none;\n",
              "      border-radius: 50%;\n",
              "      cursor: pointer;\n",
              "      display: none;\n",
              "      fill: #1967D2;\n",
              "      height: 32px;\n",
              "      padding: 0 0 0 0;\n",
              "      width: 32px;\n",
              "    }\n",
              "\n",
              "    .colab-df-convert:hover {\n",
              "      background-color: #E2EBFA;\n",
              "      box-shadow: 0px 1px 2px rgba(60, 64, 67, 0.3), 0px 1px 3px 1px rgba(60, 64, 67, 0.15);\n",
              "      fill: #174EA6;\n",
              "    }\n",
              "\n",
              "    [theme=dark] .colab-df-convert {\n",
              "      background-color: #3B4455;\n",
              "      fill: #D2E3FC;\n",
              "    }\n",
              "\n",
              "    [theme=dark] .colab-df-convert:hover {\n",
              "      background-color: #434B5C;\n",
              "      box-shadow: 0px 1px 3px 1px rgba(0, 0, 0, 0.15);\n",
              "      filter: drop-shadow(0px 1px 2px rgba(0, 0, 0, 0.3));\n",
              "      fill: #FFFFFF;\n",
              "    }\n",
              "  </style>\n",
              "\n",
              "      <script>\n",
              "        const buttonEl =\n",
              "          document.querySelector('#df-d9909198-dd5e-4ba0-9e00-4b5b95cf0d04 button.colab-df-convert');\n",
              "        buttonEl.style.display =\n",
              "          google.colab.kernel.accessAllowed ? 'block' : 'none';\n",
              "\n",
              "        async function convertToInteractive(key) {\n",
              "          const element = document.querySelector('#df-d9909198-dd5e-4ba0-9e00-4b5b95cf0d04');\n",
              "          const dataTable =\n",
              "            await google.colab.kernel.invokeFunction('convertToInteractive',\n",
              "                                                     [key], {});\n",
              "          if (!dataTable) return;\n",
              "\n",
              "          const docLinkHtml = 'Like what you see? Visit the ' +\n",
              "            '<a target=\"_blank\" href=https://colab.research.google.com/notebooks/data_table.ipynb>data table notebook</a>'\n",
              "            + ' to learn more about interactive tables.';\n",
              "          element.innerHTML = '';\n",
              "          dataTable['output_type'] = 'display_data';\n",
              "          await google.colab.output.renderOutput(dataTable, element);\n",
              "          const docLink = document.createElement('div');\n",
              "          docLink.innerHTML = docLinkHtml;\n",
              "          element.appendChild(docLink);\n",
              "        }\n",
              "      </script>\n",
              "    </div>\n",
              "  </div>\n",
              "  "
            ]
          },
          "metadata": {},
          "execution_count": 49
        }
      ]
    },
    {
      "cell_type": "markdown",
      "source": [
        "## Atividade 2: Selecione as variáveis que achar interessante para tentar prever se houve ou não fraude."
      ],
      "metadata": {
        "id": "r5ygMFXrDMjB"
      }
    },
    {
      "cell_type": "markdown",
      "source": [
        "Como orientado por Cauê, por se tratar de um Dataset com poucas variáveis, utilizei todas as existentes."
      ],
      "metadata": {
        "id": "_Qj5tnyzxA7p"
      }
    },
    {
      "cell_type": "markdown",
      "source": [
        "## Atividade 3: Verifique se há desbalanceamento da variável `fraude`. Se houver, faça um balanceamento de classes."
      ],
      "metadata": {
        "id": "uLnTDczA2FQH"
      }
    },
    {
      "cell_type": "code",
      "source": [
        "# importando bibliotecas matplotlib e seaborn para gráficos\n",
        "import matplotlib.pyplot as plt\n",
        "import seaborn as sns"
      ],
      "metadata": {
        "id": "1-qG_lecw5WG"
      },
      "execution_count": null,
      "outputs": []
    },
    {
      "cell_type": "code",
      "source": [
        "# Atividade 3: Troque o gráfico de histograma para o countplot.\n",
        "# O gráfico countplot é o adequado para visulizar variáveis com apenas duas classes.\n",
        "# realizando um histograma\n",
        "sns.histplot(df['fraude']);"
      ],
      "metadata": {
        "id": "tQ68HjMuSj7q",
        "colab": {
          "base_uri": "https://localhost:8080/",
          "height": 449
        },
        "outputId": "f186dc91-d3b7-4031-8461-5ee4450eb75c"
      },
      "execution_count": null,
      "outputs": [
        {
          "output_type": "display_data",
          "data": {
            "text/plain": [
              "<Figure size 640x480 with 1 Axes>"
            ],
            "image/png": "[encoded data removed]"
          },
          "metadata": {}
        }
      ]
    },
    {
      "cell_type": "markdown",
      "source": [
        "A partir do histograma, pode-se avaliar que há desbalanceamento nos dados contidos na variável `fraude`."
      ],
      "metadata": {
        "id": "1lWgjMDhxVy5"
      }
    },
    {
      "cell_type": "markdown",
      "source": [
        "Se as classes estiverem desbalanceadas execute o código a seguir.\n",
        "\n",
        "Existem várias técnicas de balanceamento. Como temos muitas observações, vamos usar uma técnica chamada `undersampling`. Esta técnica consiste em descartar observações da classe que possui mais observações até que as duas classes tenham a mesma quantidade.\n",
        "\n",
        "Por exemplo, se temos duas classes, uma com 1000 observações para a classe A e outra com 100 observações para a classe B, então iremos selecionar apenas 100 observações (aleatoriamente) da classe A dentre as 1000. Dessa maneira iremos ter 100 observações de cada classe."
      ],
      "metadata": {
        "id": "gVT355Z1TP0F"
      }
    },
    {
      "cell_type": "code",
      "source": [
        "# separando as variáveis X e y\n",
        "X = df[['dist_casa','dist_ultima_transacao','razao_preco_medio',\n",
        "              'loja_repetida','usou_chip','usou_pin','online']]\n",
        "y = df['fraude']\n",
        "\n",
        "# balanceando as classes com undersampling\n",
        "from imblearn.under_sampling import RandomUnderSampler\n",
        "undersample = RandomUnderSampler(sampling_strategy='majority')\n",
        "X, y = undersample.fit_resample(X, y)"
      ],
      "metadata": {
        "id": "dbGROGkUXAsi"
      },
      "execution_count": null,
      "outputs": []
    },
    {
      "cell_type": "code",
      "source": [
        "# verificando se a variável categórica está balanciada (método de visuliazação 1)\n",
        "y.value_counts()"
      ],
      "metadata": {
        "id": "RvJuQmBmX6lJ",
        "colab": {
          "base_uri": "https://localhost:8080/"
        },
        "outputId": "864905c6-ecb9-4554-a399-5eec5f09500b"
      },
      "execution_count": null,
      "outputs": [
        {
          "output_type": "execute_result",
          "data": {
            "text/plain": [
              "0.0    87403\n",
              "1.0    87403\n",
              "Name: fraude, dtype: int64"
            ]
          },
          "metadata": {},
          "execution_count": 53
        }
      ]
    },
    {
      "cell_type": "code",
      "source": [
        "# verificando se a variável categórica está balanciada (método de visuliazação 2 - gosto mais)\n",
        "#melhor forma\n",
        "sns.countplot(x=y);"
      ],
      "metadata": {
        "colab": {
          "base_uri": "https://localhost:8080/",
          "height": 449
        },
        "id": "R5J7Pm3fz2QZ",
        "outputId": "00c6e2fb-7a27-4faf-91fd-f3dd5c71b3dd"
      },
      "execution_count": null,
      "outputs": [
        {
          "output_type": "display_data",
          "data": {
            "text/plain": [
              "<Figure size 640x480 with 1 Axes>"
            ],
            "image/png": "[encoded data removed]"
          },
          "metadata": {}
        }
      ]
    },
    {
      "cell_type": "markdown",
      "source": [
        "A variável `fraude` está balanciada."
      ],
      "metadata": {
        "id": "B1X1NgIXyWO2"
      }
    },
    {
      "cell_type": "markdown",
      "source": [
        "## Atividade 4: Crie um modelo de regressão logística."
      ],
      "metadata": {
        "id": "LyNahV2VRYqH"
      }
    },
    {
      "cell_type": "code",
      "source": [
        "# importando a biblioteca statsmodels para criar o modelo de regressão logística\n",
        "# nessa biblioteca precisa incluir o termo contante para o modelo do statsmodels\n",
        "import statsmodels.api as sm"
      ],
      "metadata": {
        "id": "dZhHXu3lBhEO"
      },
      "execution_count": null,
      "outputs": []
    },
    {
      "cell_type": "code",
      "source": [
        "# adicionando a constante na variável x\n",
        "X = sm.add_constant(X)"
      ],
      "metadata": {
        "id": "TPcFRKq85ORF"
      },
      "execution_count": null,
      "outputs": []
    },
    {
      "cell_type": "code",
      "source": [
        "# criando modelo de regressão logística\n",
        "#Logit cria a regressão logística\n",
        "modelo = sm.Logit(y, X).fit(method='newton')"
      ],
      "metadata": {
        "colab": {
          "base_uri": "https://localhost:8080/"
        },
        "id": "HamP0U7m5Sy-",
        "outputId": "ea3eacbd-2692-4f46-ad1b-165013ba3fc6"
      },
      "execution_count": null,
      "outputs": [
        {
          "output_type": "stream",
          "name": "stdout",
          "text": [
            "Optimization terminated successfully.\n",
            "         Current function value: 0.206590\n",
            "         Iterations 10\n"
          ]
        }
      ]
    },
    {
      "cell_type": "markdown",
      "source": [
        "Modelo de regressão logística criado."
      ],
      "metadata": {
        "id": "f_WWAMJEzArb"
      }
    },
    {
      "cell_type": "markdown",
      "source": [
        "## Atividade 5: Verifique os parâmetros do modelo e se eles são relevantes."
      ],
      "metadata": {
        "id": "A75pvaMA4WEM"
      }
    },
    {
      "cell_type": "code",
      "source": [
        "#parâmetros do modelo criado\n",
        "modelo.params"
      ],
      "metadata": {
        "id": "hv7AEF01Pt0y",
        "colab": {
          "base_uri": "https://localhost:8080/"
        },
        "outputId": "f36faefb-d763-4c9d-fd3e-55897278f4ee"
      },
      "execution_count": null,
      "outputs": [
        {
          "output_type": "execute_result",
          "data": {
            "text/plain": [
              "const                    -7.825617\n",
              "dist_casa                 0.029944\n",
              "dist_ultima_transacao     0.050708\n",
              "razao_preco_medio         1.239149\n",
              "loja_repetida            -1.493660\n",
              "usou_chip                -1.228818\n",
              "usou_pin                -10.185854\n",
              "online                    5.151034\n",
              "dtype: float64"
            ]
          },
          "metadata": {},
          "execution_count": 58
        }
      ]
    },
    {
      "cell_type": "markdown",
      "source": [
        "Todos os parâmetros são relevantes."
      ],
      "metadata": {
        "id": "T43eBgwn1hL0"
      }
    },
    {
      "cell_type": "markdown",
      "source": [
        "## Atividade 6: Crie a matriz de confusão e o mapa de calor correspondente.\n"
      ],
      "metadata": {
        "id": "KzB5asn6RN8p"
      }
    },
    {
      "cell_type": "code",
      "source": [
        "# utilização do modelo para fazer previsão no conjunto x e comprarar com o valor verdadeiro para testar o modelo\n",
        "# retorna a probabilidade da observação pertencer a classe 1\n",
        "# valores > 0,5 são jogados para 1; <0,5 jogados para 0\n",
        "modelo.predict(X)"
      ],
      "metadata": {
        "id": "n8QwhzkTPiDs",
        "colab": {
          "base_uri": "https://localhost:8080/"
        },
        "outputId": "ab9543bf-56b5-49bb-a5cf-2557c059190b"
      },
      "execution_count": null,
      "outputs": [
        {
          "output_type": "execute_result",
          "data": {
            "text/plain": [
              "0         0.012601\n",
              "1         0.000096\n",
              "2         0.000016\n",
              "3         0.005581\n",
              "4         0.011652\n",
              "            ...   \n",
              "174801    0.999728\n",
              "174802    0.774368\n",
              "174803    0.525751\n",
              "174804    1.000000\n",
              "174805    0.999851\n",
              "Length: 174806, dtype: float64"
            ]
          },
          "metadata": {},
          "execution_count": 59
        }
      ]
    },
    {
      "cell_type": "code",
      "source": [
        "# criando y predito\n",
        "# True fica = 1 e False fica = 0 (compreensão do Python)\n",
        "y_pred = (modelo.predict(X) >= 0.5).astype(int)"
      ],
      "metadata": {
        "id": "UpCr12avAR5f"
      },
      "execution_count": null,
      "outputs": []
    },
    {
      "cell_type": "code",
      "source": [
        "# exibindo o resultado de significância para o modelo de regressão logística criado\n",
        "print(modelo.summary())"
      ],
      "metadata": {
        "id": "9uen0B9OQr6H",
        "colab": {
          "base_uri": "https://localhost:8080/"
        },
        "outputId": "d5d2bfb6-064e-427a-cadf-e33f9300970b"
      },
      "execution_count": null,
      "outputs": [
        {
          "output_type": "stream",
          "name": "stdout",
          "text": [
            "                           Logit Regression Results                           \n",
            "==============================================================================\n",
            "Dep. Variable:                 fraude   No. Observations:               174806\n",
            "Model:                          Logit   Df Residuals:                   174798\n",
            "Method:                           MLE   Df Model:                            7\n",
            "Date:                Sun, 23 Apr 2023   Pseudo R-squ.:                  0.7020\n",
            "Time:                        21:31:59   Log-Likelihood:                -36113.\n",
            "converged:                       True   LL-Null:                   -1.2117e+05\n",
            "Covariance Type:            nonrobust   LLR p-value:                     0.000\n",
            "=========================================================================================\n",
            "                            coef    std err          z      P>|z|      [0.025      0.975]\n",
            "-----------------------------------------------------------------------------------------\n",
            "const                    -7.8256      0.055   -143.020      0.000      -7.933      -7.718\n",
            "dist_casa                 0.0299      0.000    131.015      0.000       0.029       0.030\n",
            "dist_ultima_transacao     0.0507      0.001     88.481      0.000       0.050       0.052\n",
            "razao_preco_medio         1.2391      0.007    180.378      0.000       1.226       1.253\n",
            "loja_repetida            -1.4937      0.032    -46.909      0.000      -1.556      -1.431\n",
            "usou_chip                -1.2288      0.023    -53.563      0.000      -1.274      -1.184\n",
            "usou_pin                -10.1859      0.157    -64.875      0.000     -10.494      -9.878\n",
            "online                    5.1510      0.044    117.781      0.000       5.065       5.237\n",
            "=========================================================================================\n",
            "\n",
            "Possibly complete quasi-separation: A fraction 0.14 of observations can be\n",
            "perfectly predicted. This might indicate that there is complete\n",
            "quasi-separation. In this case some parameters will not be identified.\n"
          ]
        }
      ]
    },
    {
      "cell_type": "markdown",
      "source": [
        "*   O valor de `Pseudo R-squ`traz a porcentagem de acertos do modelo criado, nesse caso, o modelo acerta para ~70% das compras.\n",
        "*   Todas as variáveis apresentam P>|z| < 0.5, dessa forma, todas são relevantes para o modelo.\n",
        "*   Os valores de `coef`são os parâmetros do modelo criado. Valores negativos estão relacionados negativamente a chance de ocorrer fraudes. Valores positivos estão relacionados positivamente a chance de ocorrer fraudes.\n",
        "\n"
      ],
      "metadata": {
        "id": "6IapTg96MguU"
      }
    },
    {
      "cell_type": "code",
      "source": [
        "#montando a matriz de confusão da biblioteca sklearn\n",
        "from sklearn.metrics import confusion_matrix\n",
        "\n",
        "matriz_confusao = confusion_matrix(y, y_pred)\n",
        "matriz_confusao"
      ],
      "metadata": {
        "id": "iEk4M4vLBhqU",
        "colab": {
          "base_uri": "https://localhost:8080/"
        },
        "outputId": "d5ca73c8-3429-4b50-e9d0-b060e13cad8f"
      },
      "execution_count": null,
      "outputs": [
        {
          "output_type": "execute_result",
          "data": {
            "text/plain": [
              "array([[81439,  5964],\n",
              "       [ 4436, 82967]])"
            ]
          },
          "metadata": {},
          "execution_count": 62
        }
      ]
    },
    {
      "cell_type": "code",
      "source": [
        "# criando mapa de calor da matriz de confusão\n",
        "# fmt = format; d = visualizar digitos inteiros\n",
        "sns.heatmap(matriz_confusao, annot=True, fmt='d', cmap='Blues')\n",
        "plt.title('Matriz de Confusão', y=1.1)\n",
        "plt.ylabel('Valores Observados')\n",
        "plt.xlabel('Valores Preditos');"
      ],
      "metadata": {
        "colab": {
          "base_uri": "https://localhost:8080/",
          "height": 509
        },
        "id": "yC_Vpjxy99HR",
        "outputId": "62f8c479-2a1b-4a41-9b7a-fae89f005414"
      },
      "execution_count": null,
      "outputs": [
        {
          "output_type": "display_data",
          "data": {
            "text/plain": [
              "<Figure size 640x480 with 2 Axes>"
            ],
            "image/png": "[encoded data removed]"
          },
          "metadata": {}
        }
      ]
    },
    {
      "cell_type": "markdown",
      "source": [
        "* Verdadeiro positivo (VP): prever casos positivos corretamente - 81472\n",
        "\n",
        "* Verdadeiro negativo (VN): prever casos negativos corretamente - 82969\n",
        "\n",
        "* Falso positivo (FP): perver casos positivos incorretamente - 4434\n",
        "\n",
        "* Falso negativo (FN): prever casos negativos incorretamente - 5931\n",
        "\n"
      ],
      "metadata": {
        "id": "6i4vPJ2k4hUx"
      }
    },
    {
      "cell_type": "markdown",
      "source": [
        "## Atividade 7: Verifique as outras métricas (sensibilidade, especificidade, f1-score)."
      ],
      "metadata": {
        "id": "3Wk5rVVF9qLq"
      }
    },
    {
      "cell_type": "code",
      "source": [
        "# calculando Acurácia, Valores Positivos Preditos, Valores Negativos Preditos, Recall, Especificidade, f1-score através da biblioteca sklearn\n",
        "# support retorna a quantidade de observações de uma métrica\n",
        "from sklearn.metrics import classification_report\n",
        "\n",
        "print(classification_report(y, y_pred))"
      ],
      "metadata": {
        "colab": {
          "base_uri": "https://localhost:8080/"
        },
        "id": "pUXLu0iE-LQ4",
        "outputId": "b09ef115-f7cc-46c0-9987-0ed5adb03d01"
      },
      "execution_count": null,
      "outputs": [
        {
          "output_type": "stream",
          "name": "stdout",
          "text": [
            "              precision    recall  f1-score   support\n",
            "\n",
            "         0.0       0.95      0.93      0.94     87403\n",
            "         1.0       0.93      0.95      0.94     87403\n",
            "\n",
            "    accuracy                           0.94    174806\n",
            "   macro avg       0.94      0.94      0.94    174806\n",
            "weighted avg       0.94      0.94      0.94    174806\n",
            "\n"
          ]
        }
      ]
    },
    {
      "cell_type": "markdown",
      "source": [
        "*   Podemos ver que a `acurácia` é de 94%, indicando que o modelo acerta 94% das previsões. Note também que ele se sai razoavelmente bem nas duas categorias, indicando que o modelo está bom.\n",
        "*   A `precisão`, que analisa dentre todas as instância classificadas como positivas, qual é o percentual de acerto, é de 95% para transações verdadeiras e de 93% para fraudes.\n",
        "*   O `recall`, que analisa dentre todas as instâncias que são de fato positivas, qual é o percentual de acerto, é de 93% para transações verdadeiras e de 95% para fraudes.\n",
        "*  O `f1-score` conjuga as duas métricas anteriores como uma média harmônica entre ambas. Ela deve sempre ser priorizada para comparar modelos de classificação em relação à acurácia. No nosso modelo, a métrica F1 é de 94%, tanto para transações verdadeiras como para fraudes.\n"
      ],
      "metadata": {
        "id": "B7hL68iP6GGI"
      }
    },
    {
      "cell_type": "markdown",
      "source": [
        "## Atividade 8: Crie a curva ROC para este modelo."
      ],
      "metadata": {
        "id": "UqZB8GFPShyT"
      }
    },
    {
      "cell_type": "code",
      "source": [
        "# criando curva ROC através da biblioteca sklearn\n",
        "from sklearn.metrics import roc_curve, roc_auc_score\n",
        "\n",
        "logit_roc_auc = roc_auc_score(y, modelo.predict(X))\n",
        "fpr, tpr, thresholds = roc_curve(y, modelo.predict(X))\n",
        "plt.plot(fpr, tpr, label=f'Regressão Logística (área = {round(logit_roc_auc, 2)})')\n",
        "plt.plot([0, 1], [0, 1],'r--')\n",
        "plt.xlabel('Taxa de Falso Positivo')\n",
        "plt.ylabel('Taxa de Verdadeiro Positivo')\n",
        "plt.title('Curva ROC')\n",
        "plt.legend(loc=\"lower right\");"
      ],
      "metadata": {
        "id": "uQNbLEfPBho8",
        "colab": {
          "base_uri": "https://localhost:8080/",
          "height": 472
        },
        "outputId": "e9eaed80-ef43-4bde-9b4b-5ec32c78f53c"
      },
      "execution_count": null,
      "outputs": [
        {
          "output_type": "display_data",
          "data": {
            "text/plain": [
              "<Figure size 640x480 with 1 Axes>"
            ],
            "image/png": "[encoded data removed]"
          },
          "metadata": {}
        }
      ]
    },
    {
      "cell_type": "markdown",
      "source": [
        "Quanto mais próximo de 1 a área sob a curva ROC estiver, melhor o modelo. No nosso caso a área é de 0.98, indicando que o modelo está bom. Quanto mais próximo da linha tracejada vermelha, pior o modelo."
      ],
      "metadata": {
        "id": "Ocyjwl-S-X0n"
      }
    },
    {
      "cell_type": "markdown",
      "source": [
        "## Atividade 9: Preveja se uma transação com as características abaixo é ou não fraude.\n",
        "\n",
        "* `dist_casa = 82`\n",
        "* `dist_ultima_transacao = 13`\n",
        "* `razao_preco_medio = 14`\n",
        "* `loja_repetida = 1`\n",
        "* `usou_chip = 0`\n",
        "* `usou_pin = 0`\n",
        "* `online = 1`"
      ],
      "metadata": {
        "id": "PbFaRUFXnSyG"
      }
    },
    {
      "cell_type": "code",
      "source": [
        "#conferindo as colunas\n",
        "df.columns.tolist()"
      ],
      "metadata": {
        "id": "e5RifD17nU3K",
        "colab": {
          "base_uri": "https://localhost:8080/"
        },
        "outputId": "f1c02f7c-5a62-435f-c0aa-d8aef2438748"
      },
      "execution_count": null,
      "outputs": [
        {
          "output_type": "execute_result",
          "data": {
            "text/plain": [
              "['dist_casa',\n",
              " 'dist_ultima_transacao',\n",
              " 'razao_preco_medio',\n",
              " 'loja_repetida',\n",
              " 'usou_chip',\n",
              " 'usou_pin',\n",
              " 'online',\n",
              " 'fraude']"
            ]
          },
          "metadata": {},
          "execution_count": 66
        }
      ]
    },
    {
      "cell_type": "code",
      "source": [
        "# criando uma lista com os dados da transação para análise do modelo\n",
        "lista = 1, 82, 13, 14, 1, 0, 0, 1\n"
      ],
      "metadata": {
        "id": "jrtZuSdcnXtG"
      },
      "execution_count": null,
      "outputs": []
    },
    {
      "cell_type": "code",
      "source": [
        "# executando o modelo para a transação analisada\n",
        "modelo.predict(lista)"
      ],
      "metadata": {
        "colab": {
          "base_uri": "https://localhost:8080/"
        },
        "id": "VzGoPYObBpL4",
        "outputId": "c13dcb08-7bd7-4ca5-c94b-30eb7691845b"
      },
      "execution_count": null,
      "outputs": [
        {
          "output_type": "execute_result",
          "data": {
            "text/plain": [
              "array([0.99999992])"
            ]
          },
          "metadata": {},
          "execution_count": 68
        }
      ]
    },
    {
      "cell_type": "markdown",
      "source": [
        "Quanto mais próximo de 1, sinal que é uma fraude. Neste caso, com 0.99, podemos considerar que é uma transação de fraude."
      ],
      "metadata": {
        "id": "eg9bTGKgLUVF"
      }
    },
    {
      "cell_type": "markdown",
      "source": [
        "## Atividade 10: Refaça os exercícios sem realizar o balanceamento de classe e verifique se ocorre algum problema."
      ],
      "metadata": {
        "id": "Qkd31k1Fa5SQ"
      }
    },
    {
      "cell_type": "code",
      "source": [
        "# separando as variáveis X1 e y1\n",
        "X1 = df[['dist_casa','dist_ultima_transacao','razao_preco_medio',\n",
        "              'loja_repetida','usou_chip','usou_pin','online']]\n",
        "y1 = df['fraude']"
      ],
      "metadata": {
        "id": "CfuUtU1NaURF"
      },
      "execution_count": null,
      "outputs": []
    },
    {
      "cell_type": "code",
      "source": [
        "# verificando se a variável categórica está balanciada (mediada divide os dados meio a meio)\n",
        "y1.value_counts()"
      ],
      "metadata": {
        "id": "kAeupQi5crqv",
        "colab": {
          "base_uri": "https://localhost:8080/"
        },
        "outputId": "56750078-4d20-4bc0-90d8-e1c8cb5a3214"
      },
      "execution_count": null,
      "outputs": [
        {
          "output_type": "execute_result",
          "data": {
            "text/plain": [
              "0.0    912597\n",
              "1.0     87403\n",
              "Name: fraude, dtype: int64"
            ]
          },
          "metadata": {},
          "execution_count": 70
        }
      ]
    },
    {
      "cell_type": "code",
      "source": [
        "# adicionando a constante na variável x\n",
        "X1 = sm.add_constant(X1)"
      ],
      "metadata": {
        "id": "h1estIACctnS"
      },
      "execution_count": null,
      "outputs": []
    },
    {
      "cell_type": "code",
      "source": [
        "# criando modelo de regressão logística\n",
        "#Logit cria a regressão logística\n",
        "modelo1 = sm.Logit(y1, X1).fit(method='newton')"
      ],
      "metadata": {
        "id": "bbltvkaTcvpo",
        "colab": {
          "base_uri": "https://localhost:8080/"
        },
        "outputId": "ec5a9c21-23a6-4c96-9f27-ea711d018d49"
      },
      "execution_count": null,
      "outputs": [
        {
          "output_type": "stream",
          "name": "stdout",
          "text": [
            "Optimization terminated successfully.\n",
            "         Current function value: 0.135695\n",
            "         Iterations 12\n"
          ]
        }
      ]
    },
    {
      "cell_type": "code",
      "source": [
        "#parâmetros do modelo criado\n",
        "modelo1.params"
      ],
      "metadata": {
        "id": "qyD4qm43cxsu",
        "colab": {
          "base_uri": "https://localhost:8080/"
        },
        "outputId": "54d18e38-801b-479a-8573-826f8b705223"
      },
      "execution_count": null,
      "outputs": [
        {
          "output_type": "execute_result",
          "data": {
            "text/plain": [
              "const                   -10.361061\n",
              "dist_casa                 0.015217\n",
              "dist_ultima_transacao     0.025258\n",
              "razao_preco_medio         0.862251\n",
              "loja_repetida            -0.621471\n",
              "usou_chip                -1.049060\n",
              "usou_pin                -13.740402\n",
              "online                    6.651379\n",
              "dtype: float64"
            ]
          },
          "metadata": {},
          "execution_count": 73
        }
      ]
    },
    {
      "cell_type": "code",
      "source": [
        "# utilização do modelo para fazer previsão no conjunto x e comprarar com o valor verdadeiro para testar o modelo\n",
        "# retorna a probabilidade da observação pertencer a classe 1\n",
        "# valores > 0,5 são jogados para 1; <0,5 jogados para 0\n",
        "modelo1.predict(X1)"
      ],
      "metadata": {
        "id": "6EiiNwKdhKUc",
        "colab": {
          "base_uri": "https://localhost:8080/"
        },
        "outputId": "69d3d284-8e67-4ab6-9932-73d4ce998153"
      },
      "execution_count": null,
      "outputs": [
        {
          "output_type": "execute_result",
          "data": {
            "text/plain": [
              "0         0.000078\n",
              "1         0.000061\n",
              "2         0.020542\n",
              "3         0.007451\n",
              "4         0.058587\n",
              "            ...   \n",
              "999995    0.000025\n",
              "999996    0.000095\n",
              "999997    0.005996\n",
              "999998    0.020837\n",
              "999999    0.015454\n",
              "Length: 1000000, dtype: float64"
            ]
          },
          "metadata": {},
          "execution_count": 74
        }
      ]
    },
    {
      "cell_type": "code",
      "source": [
        "# criando y1 predito\n",
        "# True fica = 1 e False fica = 0 (compreensão do Python)\n",
        "y1_pred = (modelo1.predict(X1) >= 0.5).astype(int)"
      ],
      "metadata": {
        "id": "d8AssAN7FMzM"
      },
      "execution_count": null,
      "outputs": []
    },
    {
      "cell_type": "code",
      "source": [
        "# exibindo o resultado de significância para o modelo de regressão logística criado\n",
        "print(modelo1.summary())"
      ],
      "metadata": {
        "colab": {
          "base_uri": "https://localhost:8080/"
        },
        "id": "aZNnnG70FWaI",
        "outputId": "2f919c18-1207-460c-f9c2-ed046fdcdf01"
      },
      "execution_count": null,
      "outputs": [
        {
          "output_type": "stream",
          "name": "stdout",
          "text": [
            "                           Logit Regression Results                           \n",
            "==============================================================================\n",
            "Dep. Variable:                 fraude   No. Observations:              1000000\n",
            "Model:                          Logit   Df Residuals:                   999992\n",
            "Method:                           MLE   Df Model:                            7\n",
            "Date:                Sun, 23 Apr 2023   Pseudo R-squ.:                  0.5423\n",
            "Time:                        21:32:07   Log-Likelihood:            -1.3570e+05\n",
            "converged:                       True   LL-Null:                   -2.9649e+05\n",
            "Covariance Type:            nonrobust   LLR p-value:                     0.000\n",
            "=========================================================================================\n",
            "                            coef    std err          z      P>|z|      [0.025      0.975]\n",
            "-----------------------------------------------------------------------------------------\n",
            "const                   -10.3611      0.044   -237.200      0.000     -10.447     -10.275\n",
            "dist_casa                 0.0152   8.32e-05    182.831      0.000       0.015       0.015\n",
            "dist_ultima_transacao     0.0253      0.000    105.614      0.000       0.025       0.026\n",
            "razao_preco_medio         0.8623      0.003    303.723      0.000       0.857       0.868\n",
            "loja_repetida            -0.6215      0.016    -39.456      0.000      -0.652      -0.591\n",
            "usou_chip                -1.0491      0.012    -85.804      0.000      -1.073      -1.025\n",
            "usou_pin                -13.7404      0.159    -86.663      0.000     -14.051     -13.430\n",
            "online                    6.6514      0.037    178.712      0.000       6.578       6.724\n",
            "=========================================================================================\n",
            "\n",
            "Possibly complete quasi-separation: A fraction 0.31 of observations can be\n",
            "perfectly predicted. This might indicate that there is complete\n",
            "quasi-separation. In this case some parameters will not be identified.\n"
          ]
        }
      ]
    },
    {
      "cell_type": "markdown",
      "source": [
        "*   O valor de Pseudo R-squtraz a porcentagem de acertos do modelo criado, nesse caso, o modelo acerta para ~54% das compras.\n",
        "*   Todas as variáveis apresentam P>|z| < 0.5, dessa forma, todas são relevantes para o modelo.\n",
        "*   Os valores de coefsão os parâmetros do modelo criado. Valores negativos estão relacionados negativamente a chance de ocorrer fraudes. Valores positivos estão relacionados positivamente a chance de ocorrer fraudes.\n",
        "\n",
        "\n",
        "\n",
        "\n",
        "\n"
      ],
      "metadata": {
        "id": "kNWqhzXv--Iv"
      }
    },
    {
      "cell_type": "code",
      "source": [
        "#montando a matriz de confusão da biblioteca sklearn\n",
        "matriz_confusao = confusion_matrix(y1, y1_pred)\n",
        "matriz_confusao"
      ],
      "metadata": {
        "colab": {
          "base_uri": "https://localhost:8080/"
        },
        "id": "GcyDzHrTFe8h",
        "outputId": "30749aac-deac-4117-933d-ee665910b02f"
      },
      "execution_count": null,
      "outputs": [
        {
          "output_type": "execute_result",
          "data": {
            "text/plain": [
              "array([[906272,   6325],\n",
              "       [ 34837,  52566]])"
            ]
          },
          "metadata": {},
          "execution_count": 77
        }
      ]
    },
    {
      "cell_type": "code",
      "source": [
        "# criando mapa de calor da matriz de confusão\n",
        "# fmt = format; d = visualizar digitos inteiros\n",
        "sns.heatmap(matriz_confusao, annot=True, fmt='d', cmap='Blues')\n",
        "plt.title('Matriz de Confusão', y=1.1)\n",
        "plt.ylabel('Valores Observados')\n",
        "plt.xlabel('Valores Preditos');"
      ],
      "metadata": {
        "colab": {
          "base_uri": "https://localhost:8080/",
          "height": 509
        },
        "id": "c1MOATwuFotg",
        "outputId": "a103f361-7ab6-459b-c8ae-ca456dc54458"
      },
      "execution_count": null,
      "outputs": [
        {
          "output_type": "display_data",
          "data": {
            "text/plain": [
              "<Figure size 640x480 with 2 Axes>"
            ],
            "image/png": "[encoded data removed]"
          },
          "metadata": {}
        }
      ]
    },
    {
      "cell_type": "markdown",
      "source": [
        "\n",
        "* Verdadeiro positivo (VP): prever casos positivos corretamente - 906272\n",
        "\n",
        "* Verdadeiro negativo (VN): prever casos negativos corretamente - 52566\n",
        "\n",
        "* Falso positivo (FP): perver casos positivos incorretamente - 34837\n",
        "\n",
        "* Falso negativo (FN): prever casos negativos incorretamente - 6325"
      ],
      "metadata": {
        "id": "hi4D4f5J_cfC"
      }
    },
    {
      "cell_type": "code",
      "source": [
        "# calculando Acurácia, Valores Positivos Preditos, Valores Negativos Preditos, Recall, Especificidade, f1-score através da biblioteca sklearn\n",
        "# support retorna a quantidade de observações de uma métrica\n",
        "\n",
        "print(classification_report(y1, y1_pred))"
      ],
      "metadata": {
        "colab": {
          "base_uri": "https://localhost:8080/"
        },
        "id": "XeLAtmeZFwtP",
        "outputId": "2914870a-6de4-4801-9cb5-c7b94ec41a05"
      },
      "execution_count": null,
      "outputs": [
        {
          "output_type": "stream",
          "name": "stdout",
          "text": [
            "              precision    recall  f1-score   support\n",
            "\n",
            "         0.0       0.96      0.99      0.98    912597\n",
            "         1.0       0.89      0.60      0.72     87403\n",
            "\n",
            "    accuracy                           0.96   1000000\n",
            "   macro avg       0.93      0.80      0.85   1000000\n",
            "weighted avg       0.96      0.96      0.96   1000000\n",
            "\n"
          ]
        }
      ]
    },
    {
      "cell_type": "markdown",
      "source": [
        "*   Podemos ver que a `acurácia` é de 96%, indicando que o modelo acerta 96% das previsões.\n",
        "*   A `precisão`, que analisa dentre todas as instância classificadas como positivas, qual é o percentual de acerto, é de 96% para transações verdadeiras e de 89% para fraudes.\n",
        "*   O `recall`, que analisa dentre todas as instâncias que são de fato positivas, qual é o percentual de acerto, é de 99% para transações verdadeiras e de 60% para fraudes.\n",
        "*   O `f1-score` conjuga as duas métricas anteriores como uma média harmônica entre ambas. Ela deve sempre ser priorizada para comparar modelos de classificação em relação à acurácia. No nosso modelo, a métrica F1 é de 98% para transações verdadeiras e de 72% para fraudes."
      ],
      "metadata": {
        "id": "kF7p2ohy-NAo"
      }
    },
    {
      "cell_type": "code",
      "source": [
        "# criando curva ROC através da biblioteca sklearn\n",
        "logit_roc_auc = roc_auc_score(y1, modelo1.predict(X1))\n",
        "fpr, tpr, thresholds = roc_curve(y1, modelo1.predict(X1))\n",
        "plt.plot(fpr, tpr, label=f'Regressão Logística (área = {round(logit_roc_auc, 2)})')\n",
        "plt.plot([0, 1], [0, 1],'r--')\n",
        "plt.xlabel('Taxa de Falso Positivo')\n",
        "plt.ylabel('Taxa de Verdadeiro Positivo')\n",
        "plt.title('Curva ROC')\n",
        "plt.legend(loc=\"lower right\");"
      ],
      "metadata": {
        "colab": {
          "base_uri": "https://localhost:8080/",
          "height": 472
        },
        "id": "aMMq1aFmGIUR",
        "outputId": "d53b66c7-baa1-415c-d7ca-ca0ab0da1564"
      },
      "execution_count": null,
      "outputs": [
        {
          "output_type": "display_data",
          "data": {
            "text/plain": [
              "<Figure size 640x480 with 1 Axes>"
            ],
            "image/png": "[encoded data removed]"
          },
          "metadata": {}
        }
      ]
    },
    {
      "cell_type": "markdown",
      "source": [
        "Quanto mais próximo de 1 a área sob a curva ROC estiver, melhor o modelo. No nosso caso a área é de 0.97, indicando que o modelo está bom. Quanto mais próximo da linha tracejada vermelha, pior o modelo."
      ],
      "metadata": {
        "id": "QBtyJRqT_6v0"
      }
    },
    {
      "cell_type": "markdown",
      "source": [
        "**Há graves problemas no modelo sem balanceamento:**\n",
        "*   O `Pseudo R-squtraz` do `summary` é de apenas 54%\n",
        "*   Como verificado na matriz de confusão, o modelo acerta um valor baixo para o Verdadeiro negativo (VN), que preve casos negativos corretamente, sendo apenas 52566.\n",
        "*   Apesar da alta `acurácia`, o `recall` para fraudes é de apenas 60%, indicando que 40% das fraudes passariam pelo modelo criado. O `f1-score` é de 72% para fraudes.\n",
        "*   Com base no descritivo acima, esse modelo não é indicado para uso.\n",
        "\n"
      ],
      "metadata": {
        "id": "Rea9BYQ-ACfV"
      }
    }
  ]
}