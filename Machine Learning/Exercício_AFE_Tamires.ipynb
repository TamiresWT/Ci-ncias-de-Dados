{
  "cells": [
    {
      "cell_type": "markdown",
      "metadata": {
        "id": "XLXxmGAJtwG-"
      },
      "source": [
        "# Análise Fatorial Exploratória\n",
        "\n",
        "Nesta atividade iremos trabalho com um conjunto de dados od [ifood](https://www.kaggle.com/datasets/jackdaoud/marketing-data). Este conjunto sofreu um pre tratamento para podermos focar mais na análise fatorial."
      ]
    },
    {
      "cell_type": "markdown",
      "metadata": {
        "id": "lxXNM5NtbIYd"
      },
      "source": [
        "## Atividade 1: Importe os dados e verifique se há dados faltantes. Se houver dados faltantes, faça os tratamentos adequados."
      ]
    },
    {
      "cell_type": "code",
      "execution_count": null,
      "metadata": {
        "id": "FHa_xgoY6COS"
      },
      "outputs": [],
      "source": [
        "# importando biblioteca pandas\n",
        "import pandas as pd"
      ]
    },
    {
      "cell_type": "code",
      "execution_count": null,
      "metadata": {
        "colab": {
          "base_uri": "https://localhost:8080/"
        },
        "id": "09tSrs3J6CKN",
        "outputId": "7984a6ec-9410-44d7-af1d-3f7f9717f5ee"
      },
      "outputs": [
        {
          "name": "stdout",
          "output_type": "stream",
          "text": [
            "Drive already mounted at /content/drive; to attempt to forcibly remount, call drive.mount(\"/content/drive\", force_remount=True).\n"
          ]
        }
      ],
      "source": [
        "# Criando biblioteca no Google Drive\n",
        "from google.colab import drive\n",
        "drive.mount('/content/drive')\n"
      ]
    },
    {
      "cell_type": "code",
      "execution_count": null,
      "metadata": {
        "colab": {
          "base_uri": "https://localhost:8080/",
          "height": 299
        },
        "id": "YVqILx7Dp2NN",
        "outputId": "b7cc4ea6-2a90-481e-dcdb-9130466e1e9f"
      },
      "outputs": [
        {
          "data": {
            "text/html": [
              "\n",
              "  <div id=\"df-85e0001c-c1f2-482e-9ce6-dbe989f56671\">\n",
              "    <div class=\"colab-df-container\">\n",
              "      <div>\n",
              "<style scoped>\n",
              "    .dataframe tbody tr th:only-of-type {\n",
              "        vertical-align: middle;\n",
              "    }\n",
              "\n",
              "    .dataframe tbody tr th {\n",
              "        vertical-align: top;\n",
              "    }\n",
              "\n",
              "    .dataframe thead th {\n",
              "        text-align: right;\n",
              "    }\n",
              "</style>\n",
              "<table border=\"1\" class=\"dataframe\">\n",
              "  <thead>\n",
              "    <tr style=\"text-align: right;\">\n",
              "      <th></th>\n",
              "      <th>ID</th>\n",
              "      <th>ano_nascimento</th>\n",
              "      <th>nivel_educacao</th>\n",
              "      <th>estado_civil</th>\n",
              "      <th>renda_mensal</th>\n",
              "      <th>num_filhos_pequenos</th>\n",
              "      <th>num_filhos_adolescentes</th>\n",
              "      <th>num_dias_primeira_compra</th>\n",
              "      <th>num_dias_ultima_compra</th>\n",
              "      <th>gasto_vinho_ult_2anos</th>\n",
              "      <th>...</th>\n",
              "      <th>gasto_prod_carne_ult_2anos</th>\n",
              "      <th>gasto_prod_peixe_ult_2anos</th>\n",
              "      <th>gasto_prod_doces_ulti_2anos</th>\n",
              "      <th>qtde_compras_desconto</th>\n",
              "      <th>qtde_compras_web_restaurante</th>\n",
              "      <th>qtde_compras_catalogo</th>\n",
              "      <th>qtde_compras_loja</th>\n",
              "      <th>qtde_vistas_web_ult_mes</th>\n",
              "      <th>aceitou_qtde_oferta</th>\n",
              "      <th>reclamou_ult_2anos</th>\n",
              "    </tr>\n",
              "  </thead>\n",
              "  <tbody>\n",
              "    <tr>\n",
              "      <th>0</th>\n",
              "      <td>6862</td>\n",
              "      <td>1971</td>\n",
              "      <td>graduado</td>\n",
              "      <td>divorciado</td>\n",
              "      <td>650.38</td>\n",
              "      <td>0</td>\n",
              "      <td>0</td>\n",
              "      <td>42</td>\n",
              "      <td>65</td>\n",
              "      <td>1</td>\n",
              "      <td>...</td>\n",
              "      <td>3</td>\n",
              "      <td>1</td>\n",
              "      <td>1</td>\n",
              "      <td>15</td>\n",
              "      <td>0</td>\n",
              "      <td>0</td>\n",
              "      <td>0</td>\n",
              "      <td>20</td>\n",
              "      <td>0</td>\n",
              "      <td>0</td>\n",
              "    </tr>\n",
              "    <tr>\n",
              "      <th>1</th>\n",
              "      <td>5376</td>\n",
              "      <td>1979</td>\n",
              "      <td>graduado</td>\n",
              "      <td>casado</td>\n",
              "      <td>919.92</td>\n",
              "      <td>1</td>\n",
              "      <td>0</td>\n",
              "      <td>539</td>\n",
              "      <td>42</td>\n",
              "      <td>1</td>\n",
              "      <td>...</td>\n",
              "      <td>1725</td>\n",
              "      <td>1</td>\n",
              "      <td>1</td>\n",
              "      <td>15</td>\n",
              "      <td>0</td>\n",
              "      <td>28</td>\n",
              "      <td>0</td>\n",
              "      <td>1</td>\n",
              "      <td>0</td>\n",
              "      <td>0</td>\n",
              "    </tr>\n",
              "    <tr>\n",
              "      <th>2</th>\n",
              "      <td>11110</td>\n",
              "      <td>1973</td>\n",
              "      <td>graduado</td>\n",
              "      <td>solteiro</td>\n",
              "      <td>1316.54</td>\n",
              "      <td>1</td>\n",
              "      <td>0</td>\n",
              "      <td>442</td>\n",
              "      <td>56</td>\n",
              "      <td>2</td>\n",
              "      <td>...</td>\n",
              "      <td>1</td>\n",
              "      <td>0</td>\n",
              "      <td>0</td>\n",
              "      <td>0</td>\n",
              "      <td>0</td>\n",
              "      <td>0</td>\n",
              "      <td>0</td>\n",
              "      <td>14</td>\n",
              "      <td>0</td>\n",
              "      <td>0</td>\n",
              "    </tr>\n",
              "    <tr>\n",
              "      <th>3</th>\n",
              "      <td>9931</td>\n",
              "      <td>1963</td>\n",
              "      <td>doutorado</td>\n",
              "      <td>casado</td>\n",
              "      <td>1512.41</td>\n",
              "      <td>1</td>\n",
              "      <td>1</td>\n",
              "      <td>6</td>\n",
              "      <td>29</td>\n",
              "      <td>5</td>\n",
              "      <td>...</td>\n",
              "      <td>1</td>\n",
              "      <td>1</td>\n",
              "      <td>1</td>\n",
              "      <td>15</td>\n",
              "      <td>0</td>\n",
              "      <td>0</td>\n",
              "      <td>0</td>\n",
              "      <td>19</td>\n",
              "      <td>0</td>\n",
              "      <td>0</td>\n",
              "    </tr>\n",
              "    <tr>\n",
              "      <th>4</th>\n",
              "      <td>10311</td>\n",
              "      <td>1969</td>\n",
              "      <td>graduado</td>\n",
              "      <td>casado</td>\n",
              "      <td>1664.66</td>\n",
              "      <td>0</td>\n",
              "      <td>1</td>\n",
              "      <td>267</td>\n",
              "      <td>0</td>\n",
              "      <td>16</td>\n",
              "      <td>...</td>\n",
              "      <td>12</td>\n",
              "      <td>2</td>\n",
              "      <td>4</td>\n",
              "      <td>0</td>\n",
              "      <td>25</td>\n",
              "      <td>0</td>\n",
              "      <td>0</td>\n",
              "      <td>1</td>\n",
              "      <td>0</td>\n",
              "      <td>0</td>\n",
              "    </tr>\n",
              "  </tbody>\n",
              "</table>\n",
              "<p>5 rows × 21 columns</p>\n",
              "</div>\n",
              "      <button class=\"colab-df-convert\" onclick=\"convertToInteractive('df-85e0001c-c1f2-482e-9ce6-dbe989f56671')\"\n",
              "              title=\"Convert this dataframe to an interactive table.\"\n",
              "              style=\"display:none;\">\n",
              "        \n",
              "  <svg xmlns=\"http://www.w3.org/2000/svg\" height=\"24px\"viewBox=\"0 0 24 24\"\n",
              "       width=\"24px\">\n",
              "    <path d=\"M0 0h24v24H0V0z\" fill=\"none\"/>\n",
              "    <path d=\"M18.56 5.44l.94 2.06.94-2.06 2.06-.94-2.06-.94-.94-2.06-.94 2.06-2.06.94zm-11 1L8.5 8.5l.94-2.06 2.06-.94-2.06-.94L8.5 2.5l-.94 2.06-2.06.94zm10 10l.94 2.06.94-2.06 2.06-.94-2.06-.94-.94-2.06-.94 2.06-2.06.94z\"/><path d=\"M17.41 7.96l-1.37-1.37c-.4-.4-.92-.59-1.43-.59-.52 0-1.04.2-1.43.59L10.3 9.45l-7.72 7.72c-.78.78-.78 2.05 0 2.83L4 21.41c.39.39.9.59 1.41.59.51 0 1.02-.2 1.41-.59l7.78-7.78 2.81-2.81c.8-.78.8-2.07 0-2.86zM5.41 20L4 18.59l7.72-7.72 1.47 1.35L5.41 20z\"/>\n",
              "  </svg>\n",
              "      </button>\n",
              "      \n",
              "  <style>\n",
              "    .colab-df-container {\n",
              "      display:flex;\n",
              "      flex-wrap:wrap;\n",
              "      gap: 12px;\n",
              "    }\n",
              "\n",
              "    .colab-df-convert {\n",
              "      background-color: #E8F0FE;\n",
              "      border: none;\n",
              "      border-radius: 50%;\n",
              "      cursor: pointer;\n",
              "      display: none;\n",
              "      fill: #1967D2;\n",
              "      height: 32px;\n",
              "      padding: 0 0 0 0;\n",
              "      width: 32px;\n",
              "    }\n",
              "\n",
              "    .colab-df-convert:hover {\n",
              "      background-color: #E2EBFA;\n",
              "      box-shadow: 0px 1px 2px rgba(60, 64, 67, 0.3), 0px 1px 3px 1px rgba(60, 64, 67, 0.15);\n",
              "      fill: #174EA6;\n",
              "    }\n",
              "\n",
              "    [theme=dark] .colab-df-convert {\n",
              "      background-color: #3B4455;\n",
              "      fill: #D2E3FC;\n",
              "    }\n",
              "\n",
              "    [theme=dark] .colab-df-convert:hover {\n",
              "      background-color: #434B5C;\n",
              "      box-shadow: 0px 1px 3px 1px rgba(0, 0, 0, 0.15);\n",
              "      filter: drop-shadow(0px 1px 2px rgba(0, 0, 0, 0.3));\n",
              "      fill: #FFFFFF;\n",
              "    }\n",
              "  </style>\n",
              "\n",
              "      <script>\n",
              "        const buttonEl =\n",
              "          document.querySelector('#df-85e0001c-c1f2-482e-9ce6-dbe989f56671 button.colab-df-convert');\n",
              "        buttonEl.style.display =\n",
              "          google.colab.kernel.accessAllowed ? 'block' : 'none';\n",
              "\n",
              "        async function convertToInteractive(key) {\n",
              "          const element = document.querySelector('#df-85e0001c-c1f2-482e-9ce6-dbe989f56671');\n",
              "          const dataTable =\n",
              "            await google.colab.kernel.invokeFunction('convertToInteractive',\n",
              "                                                     [key], {});\n",
              "          if (!dataTable) return;\n",
              "\n",
              "          const docLinkHtml = 'Like what you see? Visit the ' +\n",
              "            '<a target=\"_blank\" href=https://colab.research.google.com/notebooks/data_table.ipynb>data table notebook</a>'\n",
              "            + ' to learn more about interactive tables.';\n",
              "          element.innerHTML = '';\n",
              "          dataTable['output_type'] = 'display_data';\n",
              "          await google.colab.output.renderOutput(dataTable, element);\n",
              "          const docLink = document.createElement('div');\n",
              "          docLink.innerHTML = docLinkHtml;\n",
              "          element.appendChild(docLink);\n",
              "        }\n",
              "      </script>\n",
              "    </div>\n",
              "  </div>\n",
              "  "
            ],
            "text/plain": [
              "      ID  ano_nascimento nivel_educacao estado_civil  renda_mensal  \\\n",
              "0   6862            1971       graduado   divorciado        650.38   \n",
              "1   5376            1979       graduado       casado        919.92   \n",
              "2  11110            1973       graduado     solteiro       1316.54   \n",
              "3   9931            1963      doutorado       casado       1512.41   \n",
              "4  10311            1969       graduado       casado       1664.66   \n",
              "\n",
              "   num_filhos_pequenos  num_filhos_adolescentes  num_dias_primeira_compra  \\\n",
              "0                    0                        0                        42   \n",
              "1                    1                        0                       539   \n",
              "2                    1                        0                       442   \n",
              "3                    1                        1                         6   \n",
              "4                    0                        1                       267   \n",
              "\n",
              "   num_dias_ultima_compra  gasto_vinho_ult_2anos  ...  \\\n",
              "0                      65                      1  ...   \n",
              "1                      42                      1  ...   \n",
              "2                      56                      2  ...   \n",
              "3                      29                      5  ...   \n",
              "4                       0                     16  ...   \n",
              "\n",
              "   gasto_prod_carne_ult_2anos  gasto_prod_peixe_ult_2anos  \\\n",
              "0                           3                           1   \n",
              "1                        1725                           1   \n",
              "2                           1                           0   \n",
              "3                           1                           1   \n",
              "4                          12                           2   \n",
              "\n",
              "   gasto_prod_doces_ulti_2anos  qtde_compras_desconto  \\\n",
              "0                            1                     15   \n",
              "1                            1                     15   \n",
              "2                            0                      0   \n",
              "3                            1                     15   \n",
              "4                            4                      0   \n",
              "\n",
              "   qtde_compras_web_restaurante  qtde_compras_catalogo  qtde_compras_loja  \\\n",
              "0                             0                      0                  0   \n",
              "1                             0                     28                  0   \n",
              "2                             0                      0                  0   \n",
              "3                             0                      0                  0   \n",
              "4                            25                      0                  0   \n",
              "\n",
              "   qtde_vistas_web_ult_mes  aceitou_qtde_oferta  reclamou_ult_2anos  \n",
              "0                       20                    0                   0  \n",
              "1                        1                    0                   0  \n",
              "2                       14                    0                   0  \n",
              "3                       19                    0                   0  \n",
              "4                        1                    0                   0  \n",
              "\n",
              "[5 rows x 21 columns]"
            ]
          },
          "execution_count": 30,
          "metadata": {},
          "output_type": "execute_result"
        }
      ],
      "source": [
        "#criando DataFrame df com os dados do dataset do Ifood\n",
        "df = pd.read_excel('/content/drive/MyDrive/arquivos/ifood2.xlsx')\n",
        "df.head()"
      ]
    },
    {
      "cell_type": "code",
      "execution_count": null,
      "metadata": {
        "colab": {
          "base_uri": "https://localhost:8080/"
        },
        "id": "4LDIdhWgsTtQ",
        "outputId": "c24470e8-fa21-4511-af95-ceea8ae29691"
      },
      "outputs": [
        {
          "name": "stdout",
          "output_type": "stream",
          "text": [
            "<class 'pandas.core.frame.DataFrame'>\n",
            "RangeIndex: 2236 entries, 0 to 2235\n",
            "Data columns (total 21 columns):\n",
            " #   Column                        Non-Null Count  Dtype  \n",
            "---  ------                        --------------  -----  \n",
            " 0   ID                            2236 non-null   int64  \n",
            " 1   ano_nascimento                2236 non-null   int64  \n",
            " 2   nivel_educacao                2236 non-null   object \n",
            " 3   estado_civil                  2236 non-null   object \n",
            " 4   renda_mensal                  2236 non-null   float64\n",
            " 5   num_filhos_pequenos           2236 non-null   int64  \n",
            " 6   num_filhos_adolescentes       2236 non-null   int64  \n",
            " 7   num_dias_primeira_compra      2236 non-null   int64  \n",
            " 8   num_dias_ultima_compra        2236 non-null   int64  \n",
            " 9   gasto_vinho_ult_2anos         2236 non-null   int64  \n",
            " 10  gasto_prod_frutas_ult_2anos   2236 non-null   int64  \n",
            " 11  gasto_prod_carne_ult_2anos    2236 non-null   int64  \n",
            " 12  gasto_prod_peixe_ult_2anos    2236 non-null   int64  \n",
            " 13  gasto_prod_doces_ulti_2anos   2236 non-null   int64  \n",
            " 14  qtde_compras_desconto         2236 non-null   int64  \n",
            " 15  qtde_compras_web_restaurante  2236 non-null   int64  \n",
            " 16  qtde_compras_catalogo         2236 non-null   int64  \n",
            " 17  qtde_compras_loja             2236 non-null   int64  \n",
            " 18  qtde_vistas_web_ult_mes       2236 non-null   int64  \n",
            " 19  aceitou_qtde_oferta           2236 non-null   int64  \n",
            " 20  reclamou_ult_2anos            2236 non-null   int64  \n",
            "dtypes: float64(1), int64(18), object(2)\n",
            "memory usage: 367.0+ KB\n"
          ]
        }
      ],
      "source": [
        "#verificando se há dados faltantes no dataset\n",
        "df.info()"
      ]
    },
    {
      "cell_type": "markdown",
      "metadata": {
        "id": "2lixVD-qsf2r"
      },
      "source": [
        "Não há dados faltantes."
      ]
    },
    {
      "cell_type": "code",
      "execution_count": null,
      "metadata": {
        "colab": {
          "base_uri": "https://localhost:8080/"
        },
        "id": "rChraq7CbUvH",
        "outputId": "b3d8c09b-95d4-4036-9044-b2fa29e65731"
      },
      "outputs": [
        {
          "data": {
            "text/plain": [
              "ID                              0\n",
              "ano_nascimento                  0\n",
              "nivel_educacao                  0\n",
              "estado_civil                    0\n",
              "renda_mensal                    0\n",
              "num_filhos_pequenos             0\n",
              "num_filhos_adolescentes         0\n",
              "num_dias_primeira_compra        0\n",
              "num_dias_ultima_compra          0\n",
              "gasto_vinho_ult_2anos           0\n",
              "gasto_prod_frutas_ult_2anos     0\n",
              "gasto_prod_carne_ult_2anos      0\n",
              "gasto_prod_peixe_ult_2anos      0\n",
              "gasto_prod_doces_ulti_2anos     0\n",
              "qtde_compras_desconto           0\n",
              "qtde_compras_web_restaurante    0\n",
              "qtde_compras_catalogo           0\n",
              "qtde_compras_loja               0\n",
              "qtde_vistas_web_ult_mes         0\n",
              "aceitou_qtde_oferta             0\n",
              "reclamou_ult_2anos              0\n",
              "dtype: int64"
            ]
          },
          "execution_count": 32,
          "metadata": {},
          "output_type": "execute_result"
        }
      ],
      "source": [
        "# verificando valores ausentes para cada coluna\n",
        "df.isnull().sum()"
      ]
    },
    {
      "cell_type": "markdown",
      "metadata": {
        "id": "BRZ7nFGnbppW"
      },
      "source": [
        "Não há valores faltantes."
      ]
    },
    {
      "cell_type": "markdown",
      "metadata": {
        "id": "1NmIHVyTbZM1"
      },
      "source": [
        "## Atividade 2: Faça uma preparação dos dados, isto é, elimine colunas irrelevantes e transforme colunas categóricas usando One Hot Encoding."
      ]
    },
    {
      "cell_type": "code",
      "execution_count": null,
      "metadata": {
        "colab": {
          "base_uri": "https://localhost:8080/"
        },
        "id": "3tuvTqsadO6s",
        "outputId": "bfd86e36-30d3-443a-8b79-fdee24369116"
      },
      "outputs": [
        {
          "data": {
            "text/plain": [
              "graduado        1126\n",
              "doutorado        484\n",
              "mestrado         369\n",
              "pos              203\n",
              "ensino_medio      54\n",
              "Name: nivel_educacao, dtype: int64"
            ]
          },
          "execution_count": 33,
          "metadata": {},
          "output_type": "execute_result"
        }
      ],
      "source": [
        "df['nivel_educacao'].value_counts()"
      ]
    },
    {
      "cell_type": "code",
      "execution_count": null,
      "metadata": {
        "colab": {
          "base_uri": "https://localhost:8080/"
        },
        "id": "hMcS6ikrdYaW",
        "outputId": "b5813c7a-62c9-43a5-8bf0-186a4ac01d88"
      },
      "outputs": [
        {
          "data": {
            "text/plain": [
              "casado        864\n",
              "vive_junto    580\n",
              "solteiro      480\n",
              "divorciado    232\n",
              "viuvo          77\n",
              "sozinho         3\n",
              "Name: estado_civil, dtype: int64"
            ]
          },
          "execution_count": 34,
          "metadata": {},
          "output_type": "execute_result"
        }
      ],
      "source": [
        "df['estado_civil'].value_counts()"
      ]
    },
    {
      "cell_type": "markdown",
      "metadata": {
        "id": "3O4E7wqPdp9o"
      },
      "source": [
        "Achados no dataset:\n",
        "\n",
        "*   A coluna ID é um identificador único de cliente\n",
        "*   Há 3 colunas categóricas e estas não interessam à análise fatorial: nivel_educacao, estado_civil, reclamou_ult_2anos (tratando-se de 1 = sim e 0 = não)."
      ]
    },
    {
      "cell_type": "code",
      "execution_count": null,
      "metadata": {
        "colab": {
          "base_uri": "https://localhost:8080/",
          "height": 270
        },
        "id": "eAjI8tliddH7",
        "outputId": "640cf0a5-0317-4d54-f745-6ce2985b6ffd"
      },
      "outputs": [
        {
          "data": {
            "text/html": [
              "\n",
              "  <div id=\"df-9e56cdd9-5631-4410-a1fe-399705c6cf7b\">\n",
              "    <div class=\"colab-df-container\">\n",
              "      <div>\n",
              "<style scoped>\n",
              "    .dataframe tbody tr th:only-of-type {\n",
              "        vertical-align: middle;\n",
              "    }\n",
              "\n",
              "    .dataframe tbody tr th {\n",
              "        vertical-align: top;\n",
              "    }\n",
              "\n",
              "    .dataframe thead th {\n",
              "        text-align: right;\n",
              "    }\n",
              "</style>\n",
              "<table border=\"1\" class=\"dataframe\">\n",
              "  <thead>\n",
              "    <tr style=\"text-align: right;\">\n",
              "      <th></th>\n",
              "      <th>ano_nascimento</th>\n",
              "      <th>renda_mensal</th>\n",
              "      <th>num_filhos_pequenos</th>\n",
              "      <th>num_filhos_adolescentes</th>\n",
              "      <th>num_dias_primeira_compra</th>\n",
              "      <th>num_dias_ultima_compra</th>\n",
              "      <th>gasto_vinho_ult_2anos</th>\n",
              "      <th>gasto_prod_frutas_ult_2anos</th>\n",
              "      <th>gasto_prod_carne_ult_2anos</th>\n",
              "      <th>gasto_prod_peixe_ult_2anos</th>\n",
              "      <th>gasto_prod_doces_ulti_2anos</th>\n",
              "      <th>qtde_compras_desconto</th>\n",
              "      <th>qtde_compras_web_restaurante</th>\n",
              "      <th>qtde_compras_catalogo</th>\n",
              "      <th>qtde_compras_loja</th>\n",
              "      <th>qtde_vistas_web_ult_mes</th>\n",
              "      <th>aceitou_qtde_oferta</th>\n",
              "    </tr>\n",
              "  </thead>\n",
              "  <tbody>\n",
              "    <tr>\n",
              "      <th>0</th>\n",
              "      <td>1971</td>\n",
              "      <td>650.38</td>\n",
              "      <td>0</td>\n",
              "      <td>0</td>\n",
              "      <td>42</td>\n",
              "      <td>65</td>\n",
              "      <td>1</td>\n",
              "      <td>1</td>\n",
              "      <td>3</td>\n",
              "      <td>1</td>\n",
              "      <td>1</td>\n",
              "      <td>15</td>\n",
              "      <td>0</td>\n",
              "      <td>0</td>\n",
              "      <td>0</td>\n",
              "      <td>20</td>\n",
              "      <td>0</td>\n",
              "    </tr>\n",
              "    <tr>\n",
              "      <th>1</th>\n",
              "      <td>1979</td>\n",
              "      <td>919.92</td>\n",
              "      <td>1</td>\n",
              "      <td>0</td>\n",
              "      <td>539</td>\n",
              "      <td>42</td>\n",
              "      <td>1</td>\n",
              "      <td>1</td>\n",
              "      <td>1725</td>\n",
              "      <td>1</td>\n",
              "      <td>1</td>\n",
              "      <td>15</td>\n",
              "      <td>0</td>\n",
              "      <td>28</td>\n",
              "      <td>0</td>\n",
              "      <td>1</td>\n",
              "      <td>0</td>\n",
              "    </tr>\n",
              "    <tr>\n",
              "      <th>2</th>\n",
              "      <td>1973</td>\n",
              "      <td>1316.54</td>\n",
              "      <td>1</td>\n",
              "      <td>0</td>\n",
              "      <td>442</td>\n",
              "      <td>56</td>\n",
              "      <td>2</td>\n",
              "      <td>1</td>\n",
              "      <td>1</td>\n",
              "      <td>0</td>\n",
              "      <td>0</td>\n",
              "      <td>0</td>\n",
              "      <td>0</td>\n",
              "      <td>0</td>\n",
              "      <td>0</td>\n",
              "      <td>14</td>\n",
              "      <td>0</td>\n",
              "    </tr>\n",
              "    <tr>\n",
              "      <th>3</th>\n",
              "      <td>1963</td>\n",
              "      <td>1512.41</td>\n",
              "      <td>1</td>\n",
              "      <td>1</td>\n",
              "      <td>6</td>\n",
              "      <td>29</td>\n",
              "      <td>5</td>\n",
              "      <td>0</td>\n",
              "      <td>1</td>\n",
              "      <td>1</td>\n",
              "      <td>1</td>\n",
              "      <td>15</td>\n",
              "      <td>0</td>\n",
              "      <td>0</td>\n",
              "      <td>0</td>\n",
              "      <td>19</td>\n",
              "      <td>0</td>\n",
              "    </tr>\n",
              "    <tr>\n",
              "      <th>4</th>\n",
              "      <td>1969</td>\n",
              "      <td>1664.66</td>\n",
              "      <td>0</td>\n",
              "      <td>1</td>\n",
              "      <td>267</td>\n",
              "      <td>0</td>\n",
              "      <td>16</td>\n",
              "      <td>4</td>\n",
              "      <td>12</td>\n",
              "      <td>2</td>\n",
              "      <td>4</td>\n",
              "      <td>0</td>\n",
              "      <td>25</td>\n",
              "      <td>0</td>\n",
              "      <td>0</td>\n",
              "      <td>1</td>\n",
              "      <td>0</td>\n",
              "    </tr>\n",
              "  </tbody>\n",
              "</table>\n",
              "</div>\n",
              "      <button class=\"colab-df-convert\" onclick=\"convertToInteractive('df-9e56cdd9-5631-4410-a1fe-399705c6cf7b')\"\n",
              "              title=\"Convert this dataframe to an interactive table.\"\n",
              "              style=\"display:none;\">\n",
              "        \n",
              "  <svg xmlns=\"http://www.w3.org/2000/svg\" height=\"24px\"viewBox=\"0 0 24 24\"\n",
              "       width=\"24px\">\n",
              "    <path d=\"M0 0h24v24H0V0z\" fill=\"none\"/>\n",
              "    <path d=\"M18.56 5.44l.94 2.06.94-2.06 2.06-.94-2.06-.94-.94-2.06-.94 2.06-2.06.94zm-11 1L8.5 8.5l.94-2.06 2.06-.94-2.06-.94L8.5 2.5l-.94 2.06-2.06.94zm10 10l.94 2.06.94-2.06 2.06-.94-2.06-.94-.94-2.06-.94 2.06-2.06.94z\"/><path d=\"M17.41 7.96l-1.37-1.37c-.4-.4-.92-.59-1.43-.59-.52 0-1.04.2-1.43.59L10.3 9.45l-7.72 7.72c-.78.78-.78 2.05 0 2.83L4 21.41c.39.39.9.59 1.41.59.51 0 1.02-.2 1.41-.59l7.78-7.78 2.81-2.81c.8-.78.8-2.07 0-2.86zM5.41 20L4 18.59l7.72-7.72 1.47 1.35L5.41 20z\"/>\n",
              "  </svg>\n",
              "      </button>\n",
              "      \n",
              "  <style>\n",
              "    .colab-df-container {\n",
              "      display:flex;\n",
              "      flex-wrap:wrap;\n",
              "      gap: 12px;\n",
              "    }\n",
              "\n",
              "    .colab-df-convert {\n",
              "      background-color: #E8F0FE;\n",
              "      border: none;\n",
              "      border-radius: 50%;\n",
              "      cursor: pointer;\n",
              "      display: none;\n",
              "      fill: #1967D2;\n",
              "      height: 32px;\n",
              "      padding: 0 0 0 0;\n",
              "      width: 32px;\n",
              "    }\n",
              "\n",
              "    .colab-df-convert:hover {\n",
              "      background-color: #E2EBFA;\n",
              "      box-shadow: 0px 1px 2px rgba(60, 64, 67, 0.3), 0px 1px 3px 1px rgba(60, 64, 67, 0.15);\n",
              "      fill: #174EA6;\n",
              "    }\n",
              "\n",
              "    [theme=dark] .colab-df-convert {\n",
              "      background-color: #3B4455;\n",
              "      fill: #D2E3FC;\n",
              "    }\n",
              "\n",
              "    [theme=dark] .colab-df-convert:hover {\n",
              "      background-color: #434B5C;\n",
              "      box-shadow: 0px 1px 3px 1px rgba(0, 0, 0, 0.15);\n",
              "      filter: drop-shadow(0px 1px 2px rgba(0, 0, 0, 0.3));\n",
              "      fill: #FFFFFF;\n",
              "    }\n",
              "  </style>\n",
              "\n",
              "      <script>\n",
              "        const buttonEl =\n",
              "          document.querySelector('#df-9e56cdd9-5631-4410-a1fe-399705c6cf7b button.colab-df-convert');\n",
              "        buttonEl.style.display =\n",
              "          google.colab.kernel.accessAllowed ? 'block' : 'none';\n",
              "\n",
              "        async function convertToInteractive(key) {\n",
              "          const element = document.querySelector('#df-9e56cdd9-5631-4410-a1fe-399705c6cf7b');\n",
              "          const dataTable =\n",
              "            await google.colab.kernel.invokeFunction('convertToInteractive',\n",
              "                                                     [key], {});\n",
              "          if (!dataTable) return;\n",
              "\n",
              "          const docLinkHtml = 'Like what you see? Visit the ' +\n",
              "            '<a target=\"_blank\" href=https://colab.research.google.com/notebooks/data_table.ipynb>data table notebook</a>'\n",
              "            + ' to learn more about interactive tables.';\n",
              "          element.innerHTML = '';\n",
              "          dataTable['output_type'] = 'display_data';\n",
              "          await google.colab.output.renderOutput(dataTable, element);\n",
              "          const docLink = document.createElement('div');\n",
              "          docLink.innerHTML = docLinkHtml;\n",
              "          element.appendChild(docLink);\n",
              "        }\n",
              "      </script>\n",
              "    </div>\n",
              "  </div>\n",
              "  "
            ],
            "text/plain": [
              "   ano_nascimento  renda_mensal  num_filhos_pequenos  num_filhos_adolescentes  \\\n",
              "0            1971        650.38                    0                        0   \n",
              "1            1979        919.92                    1                        0   \n",
              "2            1973       1316.54                    1                        0   \n",
              "3            1963       1512.41                    1                        1   \n",
              "4            1969       1664.66                    0                        1   \n",
              "\n",
              "   num_dias_primeira_compra  num_dias_ultima_compra  gasto_vinho_ult_2anos  \\\n",
              "0                        42                      65                      1   \n",
              "1                       539                      42                      1   \n",
              "2                       442                      56                      2   \n",
              "3                         6                      29                      5   \n",
              "4                       267                       0                     16   \n",
              "\n",
              "   gasto_prod_frutas_ult_2anos  gasto_prod_carne_ult_2anos  \\\n",
              "0                            1                           3   \n",
              "1                            1                        1725   \n",
              "2                            1                           1   \n",
              "3                            0                           1   \n",
              "4                            4                          12   \n",
              "\n",
              "   gasto_prod_peixe_ult_2anos  gasto_prod_doces_ulti_2anos  \\\n",
              "0                           1                            1   \n",
              "1                           1                            1   \n",
              "2                           0                            0   \n",
              "3                           1                            1   \n",
              "4                           2                            4   \n",
              "\n",
              "   qtde_compras_desconto  qtde_compras_web_restaurante  qtde_compras_catalogo  \\\n",
              "0                     15                             0                      0   \n",
              "1                     15                             0                     28   \n",
              "2                      0                             0                      0   \n",
              "3                     15                             0                      0   \n",
              "4                      0                            25                      0   \n",
              "\n",
              "   qtde_compras_loja  qtde_vistas_web_ult_mes  aceitou_qtde_oferta  \n",
              "0                  0                       20                    0  \n",
              "1                  0                        1                    0  \n",
              "2                  0                       14                    0  \n",
              "3                  0                       19                    0  \n",
              "4                  0                        1                    0  "
            ]
          },
          "execution_count": 35,
          "metadata": {},
          "output_type": "execute_result"
        }
      ],
      "source": [
        "# Dercartando as colunas ID, nivel_educacao, estado_civil, reclamou_ult_2anos\n",
        "df = df.drop(['ID',\n",
        "              'nivel_educacao',\n",
        "              'estado_civil',\n",
        "              'reclamou_ult_2anos'\n",
        "              ],\n",
        "             axis=1)\n",
        "\n",
        "df.head()"
      ]
    },
    {
      "cell_type": "code",
      "execution_count": null,
      "metadata": {
        "id": "uJiI-m0AdnCU"
      },
      "outputs": [],
      "source": [
        "#alterando coluna ano_nascimento para idade\n",
        "df['ano_nascimento'] = 2023 - df['ano_nascimento']"
      ]
    },
    {
      "cell_type": "code",
      "execution_count": null,
      "metadata": {
        "colab": {
          "base_uri": "https://localhost:8080/",
          "height": 270
        },
        "id": "Jv6OZSVMeIaI",
        "outputId": "86597f87-a2ef-4219-abed-7d95d2811f8a"
      },
      "outputs": [
        {
          "data": {
            "text/html": [
              "\n",
              "  <div id=\"df-476ccc40-2fda-4043-b6d8-b89eb8a06895\">\n",
              "    <div class=\"colab-df-container\">\n",
              "      <div>\n",
              "<style scoped>\n",
              "    .dataframe tbody tr th:only-of-type {\n",
              "        vertical-align: middle;\n",
              "    }\n",
              "\n",
              "    .dataframe tbody tr th {\n",
              "        vertical-align: top;\n",
              "    }\n",
              "\n",
              "    .dataframe thead th {\n",
              "        text-align: right;\n",
              "    }\n",
              "</style>\n",
              "<table border=\"1\" class=\"dataframe\">\n",
              "  <thead>\n",
              "    <tr style=\"text-align: right;\">\n",
              "      <th></th>\n",
              "      <th>idade</th>\n",
              "      <th>renda_mensal</th>\n",
              "      <th>num_filhos_pequenos</th>\n",
              "      <th>num_filhos_adolescentes</th>\n",
              "      <th>num_dias_primeira_compra</th>\n",
              "      <th>num_dias_ultima_compra</th>\n",
              "      <th>gasto_vinho_ult_2anos</th>\n",
              "      <th>gasto_prod_frutas_ult_2anos</th>\n",
              "      <th>gasto_prod_carne_ult_2anos</th>\n",
              "      <th>gasto_prod_peixe_ult_2anos</th>\n",
              "      <th>gasto_prod_doces_ulti_2anos</th>\n",
              "      <th>qtde_compras_desconto</th>\n",
              "      <th>qtde_compras_web_restaurante</th>\n",
              "      <th>qtde_compras_catalogo</th>\n",
              "      <th>qtde_compras_loja</th>\n",
              "      <th>qtde_vistas_web_ult_mes</th>\n",
              "      <th>aceitou_qtde_oferta</th>\n",
              "    </tr>\n",
              "  </thead>\n",
              "  <tbody>\n",
              "    <tr>\n",
              "      <th>0</th>\n",
              "      <td>52</td>\n",
              "      <td>650.38</td>\n",
              "      <td>0</td>\n",
              "      <td>0</td>\n",
              "      <td>42</td>\n",
              "      <td>65</td>\n",
              "      <td>1</td>\n",
              "      <td>1</td>\n",
              "      <td>3</td>\n",
              "      <td>1</td>\n",
              "      <td>1</td>\n",
              "      <td>15</td>\n",
              "      <td>0</td>\n",
              "      <td>0</td>\n",
              "      <td>0</td>\n",
              "      <td>20</td>\n",
              "      <td>0</td>\n",
              "    </tr>\n",
              "    <tr>\n",
              "      <th>1</th>\n",
              "      <td>44</td>\n",
              "      <td>919.92</td>\n",
              "      <td>1</td>\n",
              "      <td>0</td>\n",
              "      <td>539</td>\n",
              "      <td>42</td>\n",
              "      <td>1</td>\n",
              "      <td>1</td>\n",
              "      <td>1725</td>\n",
              "      <td>1</td>\n",
              "      <td>1</td>\n",
              "      <td>15</td>\n",
              "      <td>0</td>\n",
              "      <td>28</td>\n",
              "      <td>0</td>\n",
              "      <td>1</td>\n",
              "      <td>0</td>\n",
              "    </tr>\n",
              "    <tr>\n",
              "      <th>2</th>\n",
              "      <td>50</td>\n",
              "      <td>1316.54</td>\n",
              "      <td>1</td>\n",
              "      <td>0</td>\n",
              "      <td>442</td>\n",
              "      <td>56</td>\n",
              "      <td>2</td>\n",
              "      <td>1</td>\n",
              "      <td>1</td>\n",
              "      <td>0</td>\n",
              "      <td>0</td>\n",
              "      <td>0</td>\n",
              "      <td>0</td>\n",
              "      <td>0</td>\n",
              "      <td>0</td>\n",
              "      <td>14</td>\n",
              "      <td>0</td>\n",
              "    </tr>\n",
              "    <tr>\n",
              "      <th>3</th>\n",
              "      <td>60</td>\n",
              "      <td>1512.41</td>\n",
              "      <td>1</td>\n",
              "      <td>1</td>\n",
              "      <td>6</td>\n",
              "      <td>29</td>\n",
              "      <td>5</td>\n",
              "      <td>0</td>\n",
              "      <td>1</td>\n",
              "      <td>1</td>\n",
              "      <td>1</td>\n",
              "      <td>15</td>\n",
              "      <td>0</td>\n",
              "      <td>0</td>\n",
              "      <td>0</td>\n",
              "      <td>19</td>\n",
              "      <td>0</td>\n",
              "    </tr>\n",
              "    <tr>\n",
              "      <th>4</th>\n",
              "      <td>54</td>\n",
              "      <td>1664.66</td>\n",
              "      <td>0</td>\n",
              "      <td>1</td>\n",
              "      <td>267</td>\n",
              "      <td>0</td>\n",
              "      <td>16</td>\n",
              "      <td>4</td>\n",
              "      <td>12</td>\n",
              "      <td>2</td>\n",
              "      <td>4</td>\n",
              "      <td>0</td>\n",
              "      <td>25</td>\n",
              "      <td>0</td>\n",
              "      <td>0</td>\n",
              "      <td>1</td>\n",
              "      <td>0</td>\n",
              "    </tr>\n",
              "  </tbody>\n",
              "</table>\n",
              "</div>\n",
              "      <button class=\"colab-df-convert\" onclick=\"convertToInteractive('df-476ccc40-2fda-4043-b6d8-b89eb8a06895')\"\n",
              "              title=\"Convert this dataframe to an interactive table.\"\n",
              "              style=\"display:none;\">\n",
              "        \n",
              "  <svg xmlns=\"http://www.w3.org/2000/svg\" height=\"24px\"viewBox=\"0 0 24 24\"\n",
              "       width=\"24px\">\n",
              "    <path d=\"M0 0h24v24H0V0z\" fill=\"none\"/>\n",
              "    <path d=\"M18.56 5.44l.94 2.06.94-2.06 2.06-.94-2.06-.94-.94-2.06-.94 2.06-2.06.94zm-11 1L8.5 8.5l.94-2.06 2.06-.94-2.06-.94L8.5 2.5l-.94 2.06-2.06.94zm10 10l.94 2.06.94-2.06 2.06-.94-2.06-.94-.94-2.06-.94 2.06-2.06.94z\"/><path d=\"M17.41 7.96l-1.37-1.37c-.4-.4-.92-.59-1.43-.59-.52 0-1.04.2-1.43.59L10.3 9.45l-7.72 7.72c-.78.78-.78 2.05 0 2.83L4 21.41c.39.39.9.59 1.41.59.51 0 1.02-.2 1.41-.59l7.78-7.78 2.81-2.81c.8-.78.8-2.07 0-2.86zM5.41 20L4 18.59l7.72-7.72 1.47 1.35L5.41 20z\"/>\n",
              "  </svg>\n",
              "      </button>\n",
              "      \n",
              "  <style>\n",
              "    .colab-df-container {\n",
              "      display:flex;\n",
              "      flex-wrap:wrap;\n",
              "      gap: 12px;\n",
              "    }\n",
              "\n",
              "    .colab-df-convert {\n",
              "      background-color: #E8F0FE;\n",
              "      border: none;\n",
              "      border-radius: 50%;\n",
              "      cursor: pointer;\n",
              "      display: none;\n",
              "      fill: #1967D2;\n",
              "      height: 32px;\n",
              "      padding: 0 0 0 0;\n",
              "      width: 32px;\n",
              "    }\n",
              "\n",
              "    .colab-df-convert:hover {\n",
              "      background-color: #E2EBFA;\n",
              "      box-shadow: 0px 1px 2px rgba(60, 64, 67, 0.3), 0px 1px 3px 1px rgba(60, 64, 67, 0.15);\n",
              "      fill: #174EA6;\n",
              "    }\n",
              "\n",
              "    [theme=dark] .colab-df-convert {\n",
              "      background-color: #3B4455;\n",
              "      fill: #D2E3FC;\n",
              "    }\n",
              "\n",
              "    [theme=dark] .colab-df-convert:hover {\n",
              "      background-color: #434B5C;\n",
              "      box-shadow: 0px 1px 3px 1px rgba(0, 0, 0, 0.15);\n",
              "      filter: drop-shadow(0px 1px 2px rgba(0, 0, 0, 0.3));\n",
              "      fill: #FFFFFF;\n",
              "    }\n",
              "  </style>\n",
              "\n",
              "      <script>\n",
              "        const buttonEl =\n",
              "          document.querySelector('#df-476ccc40-2fda-4043-b6d8-b89eb8a06895 button.colab-df-convert');\n",
              "        buttonEl.style.display =\n",
              "          google.colab.kernel.accessAllowed ? 'block' : 'none';\n",
              "\n",
              "        async function convertToInteractive(key) {\n",
              "          const element = document.querySelector('#df-476ccc40-2fda-4043-b6d8-b89eb8a06895');\n",
              "          const dataTable =\n",
              "            await google.colab.kernel.invokeFunction('convertToInteractive',\n",
              "                                                     [key], {});\n",
              "          if (!dataTable) return;\n",
              "\n",
              "          const docLinkHtml = 'Like what you see? Visit the ' +\n",
              "            '<a target=\"_blank\" href=https://colab.research.google.com/notebooks/data_table.ipynb>data table notebook</a>'\n",
              "            + ' to learn more about interactive tables.';\n",
              "          element.innerHTML = '';\n",
              "          dataTable['output_type'] = 'display_data';\n",
              "          await google.colab.output.renderOutput(dataTable, element);\n",
              "          const docLink = document.createElement('div');\n",
              "          docLink.innerHTML = docLinkHtml;\n",
              "          element.appendChild(docLink);\n",
              "        }\n",
              "      </script>\n",
              "    </div>\n",
              "  </div>\n",
              "  "
            ],
            "text/plain": [
              "   idade  renda_mensal  num_filhos_pequenos  num_filhos_adolescentes  \\\n",
              "0     52        650.38                    0                        0   \n",
              "1     44        919.92                    1                        0   \n",
              "2     50       1316.54                    1                        0   \n",
              "3     60       1512.41                    1                        1   \n",
              "4     54       1664.66                    0                        1   \n",
              "\n",
              "   num_dias_primeira_compra  num_dias_ultima_compra  gasto_vinho_ult_2anos  \\\n",
              "0                        42                      65                      1   \n",
              "1                       539                      42                      1   \n",
              "2                       442                      56                      2   \n",
              "3                         6                      29                      5   \n",
              "4                       267                       0                     16   \n",
              "\n",
              "   gasto_prod_frutas_ult_2anos  gasto_prod_carne_ult_2anos  \\\n",
              "0                            1                           3   \n",
              "1                            1                        1725   \n",
              "2                            1                           1   \n",
              "3                            0                           1   \n",
              "4                            4                          12   \n",
              "\n",
              "   gasto_prod_peixe_ult_2anos  gasto_prod_doces_ulti_2anos  \\\n",
              "0                           1                            1   \n",
              "1                           1                            1   \n",
              "2                           0                            0   \n",
              "3                           1                            1   \n",
              "4                           2                            4   \n",
              "\n",
              "   qtde_compras_desconto  qtde_compras_web_restaurante  qtde_compras_catalogo  \\\n",
              "0                     15                             0                      0   \n",
              "1                     15                             0                     28   \n",
              "2                      0                             0                      0   \n",
              "3                     15                             0                      0   \n",
              "4                      0                            25                      0   \n",
              "\n",
              "   qtde_compras_loja  qtde_vistas_web_ult_mes  aceitou_qtde_oferta  \n",
              "0                  0                       20                    0  \n",
              "1                  0                        1                    0  \n",
              "2                  0                       14                    0  \n",
              "3                  0                       19                    0  \n",
              "4                  0                        1                    0  "
            ]
          },
          "execution_count": 37,
          "metadata": {},
          "output_type": "execute_result"
        }
      ],
      "source": [
        "#alterando o nome da coluna ano_nascimento para idade\n",
        "df.rename(columns={'ano_nascimento' : 'idade'},\n",
        "               inplace=True)\n",
        "\n",
        "df.head()"
      ]
    },
    {
      "cell_type": "markdown",
      "metadata": {
        "id": "Fo-XWjo6gbDH"
      },
      "source": [
        "Não foi utilizado o One Hot Encoding, pois as variáveis categóricas foram descartadas para a análise fatorial."
      ]
    },
    {
      "cell_type": "code",
      "execution_count": null,
      "metadata": {
        "id": "m8hCLXlmlmUG"
      },
      "outputs": [],
      "source": [
        "#importanto biblioteca seaborn\n",
        "import seaborn as sns"
      ]
    },
    {
      "cell_type": "code",
      "execution_count": null,
      "metadata": {
        "id": "KjJzyt3FnNVx"
      },
      "outputs": [],
      "source": [
        "# importando a biblioteca matplotlib\n",
        "import matplotlib.pyplot as plt"
      ]
    },
    {
      "cell_type": "code",
      "execution_count": null,
      "metadata": {
        "colab": {
          "base_uri": "https://localhost:8080/",
          "height": 619
        },
        "id": "C5ztiE0og9Ku",
        "outputId": "5b6deaed-01cc-4e29-da80-21050ddf285e"
      },
      "outputs": [
        {
          "data": {
            "image/png": "[encoded data removed]",
            "text/plain": [
              "<Figure size 1000x700 with 1 Axes>"
            ]
          },
          "metadata": {},
          "output_type": "display_data"
        }
      ],
      "source": [
        "#Plotando histograma da variável idade\n",
        "fig, ax = plt.subplots(figsize=(10,7))\n",
        "sns.histplot(data=df, x=\"idade\");"
      ]
    },
    {
      "cell_type": "code",
      "execution_count": null,
      "metadata": {
        "id": "bU8wHBUKhSrP"
      },
      "outputs": [],
      "source": [
        "# assumindo a premissa que os clientes tem menos de 100 anos\n",
        "df = df[(df['idade']  < 100)]"
      ]
    },
    {
      "cell_type": "code",
      "execution_count": null,
      "metadata": {
        "colab": {
          "base_uri": "https://localhost:8080/",
          "height": 619
        },
        "id": "BCF3z9ODhXV3",
        "outputId": "c39478a0-0908-419a-a734-b968cf48ccef"
      },
      "outputs": [
        {
          "data": {
            "image/png": "[encoded data removed]",
            "text/plain": [
              "<Figure size 1000x700 with 1 Axes>"
            ]
          },
          "metadata": {},
          "output_type": "display_data"
        }
      ],
      "source": [
        "#Plotando histograma da variável idade com a premissa assumida acima\n",
        "fig, ax = plt.subplots(figsize=(10,7))\n",
        "sns.histplot(data=df, x=\"idade\");"
      ]
    },
    {
      "cell_type": "markdown",
      "metadata": {
        "id": "CnxYNh0Qqvj6"
      },
      "source": [
        "## Atividade 3: Coloque os dados numa mesma escala e faça um heatmap para observar a correlação."
      ]
    },
    {
      "cell_type": "code",
      "execution_count": null,
      "metadata": {
        "id": "NcmirpZfm6Dw"
      },
      "outputs": [],
      "source": [
        "# importando StandardScaler\n",
        "from sklearn.preprocessing import StandardScaler\n",
        "\n",
        "# instanciando a função\n",
        "scaler = StandardScaler()\n",
        "\n",
        "# criando uma cópia dos valores\n",
        "df_scaled = df.copy()\n",
        "\n",
        "# aplicando a padronização\n",
        "df_scaled[df_scaled.columns] = scaler.fit_transform(df_scaled)\n",
        "\n",
        "df_scaled.head()"
      ]
    },
    {
      "cell_type": "code",
      "execution_count": null,
      "metadata": {
        "id": "zqFWiqWmfdkB"
      },
      "outputs": [],
      "source": [
        "# plotando heatmap\n",
        "# Mapa de Calor para verificar a correlação entre as variáveis, pois na análise fatorial, pressupões que todas as variáveis estão correlacionadas\n",
        "sns.heatmap(df_scaled.corr(), vmin=-1, vmax=1, annot=False);"
      ]
    },
    {
      "cell_type": "markdown",
      "metadata": {
        "id": "iG--m-GHsN9s"
      },
      "source": [
        "## Atividade 4: Há um grupo de variáveis que trazem informações muito parecidas e possuem correlação entre si. Transforme todas essas variáveis em uma única."
      ]
    },
    {
      "cell_type": "markdown",
      "metadata": {
        "id": "7k7YeIap1T6u"
      },
      "source": [
        "Essa tarefa será delegada ao processo de análise fatorial."
      ]
    },
    {
      "cell_type": "markdown",
      "metadata": {
        "id": "qmGBXYvRsbQt"
      },
      "source": [
        "## Atividade 5: Faça e teste de esfericidade de Bartlett e conclua se as variáveis estão correlacionadas.\n",
        "\n",
        "Para realizar esse teste em `Python` usaremos a função `calculate_bartlett_sphericity` do pacote `factor_analyzer`.\n",
        "\n",
        "**Atenção!** Este pacote não vem instalado por padrão! Para instalá-lo use o comando `!pip install factor_analyzer`.\n",
        "\n",
        "A função que desejamos está no pacote `factor_analyzer` dentro do módulo `factor_analyzer`.\n",
        "\n",
        "Para mais detalhes consulte a documentação do pacote [aqui](https://factor-analyzer.readthedocs.io/en/latest/index.html).\n",
        "\n",
        "Está função retornará para nós dois valores: a estatística qui quadrado do teste e o p-valor. Consideraremos um nível de significância de 5%."
      ]
    },
    {
      "cell_type": "code",
      "execution_count": null,
      "metadata": {
        "colab": {
          "background_save": true
        },
        "id": "hSZQqz1fgN3F",
        "outputId": "7e730b8c-dfaf-4d0c-a45a-30346d70af65"
      },
      "outputs": [
        {
          "name": "stdout",
          "output_type": "stream",
          "text": [
            "Looking in indexes: https://pypi.org/simple, https://us-python.pkg.dev/colab-wheels/public/simple/\n",
            "Collecting factor_analyzer\n",
            "  Downloading factor_analyzer-0.4.1.tar.gz (41 kB)\n",
            "\u001b[2K     \u001b[90m━━━━━━━━━━━━━━━━━━━━━━━━━━━━━━━━━━━━━━━━\u001b[0m \u001b[32m41.8/41.8 kB\u001b[0m \u001b[31m2.1 MB/s\u001b[0m eta \u001b[36m0:00:00\u001b[0m\n",
            "\u001b[?25h  Installing build dependencies ... \u001b[?25l\u001b[?25hdone\n",
            "  Getting requirements to build wheel ... \u001b[?25l\u001b[?25hdone\n",
            "  Preparing metadata (pyproject.toml) ... \u001b[?25l\u001b[?25hdone\n",
            "Collecting pre-commit\n",
            "  Downloading pre_commit-3.2.2-py2.py3-none-any.whl (202 kB)\n",
            "\u001b[2K     \u001b[90m━━━━━━━━━━━━━━━━━━━━━━━━━━━━━━━━━━━━━━━\u001b[0m \u001b[32m202.7/202.7 kB\u001b[0m \u001b[31m7.6 MB/s\u001b[0m eta \u001b[36m0:00:00\u001b[0m\n",
            "\u001b[?25hRequirement already satisfied: scipy in /usr/local/lib/python3.9/dist-packages (from factor_analyzer) (1.10.1)\n",
            "Requirement already satisfied: numpy in /usr/local/lib/python3.9/dist-packages (from factor_analyzer) (1.22.4)\n",
            "Requirement already satisfied: scikit-learn in /usr/local/lib/python3.9/dist-packages (from factor_analyzer) (1.2.2)\n",
            "Requirement already satisfied: pandas in /usr/local/lib/python3.9/dist-packages (from factor_analyzer) (1.5.3)\n",
            "Requirement already satisfied: python-dateutil>=2.8.1 in /usr/local/lib/python3.9/dist-packages (from pandas->factor_analyzer) (2.8.2)\n",
            "Requirement already satisfied: pytz>=2020.1 in /usr/local/lib/python3.9/dist-packages (from pandas->factor_analyzer) (2022.7.1)\n",
            "Requirement already satisfied: pyyaml>=5.1 in /usr/local/lib/python3.9/dist-packages (from pre-commit->factor_analyzer) (6.0)\n",
            "Collecting virtualenv>=20.10.0\n",
            "  Downloading virtualenv-20.22.0-py3-none-any.whl (3.2 MB)\n",
            "\u001b[2K     \u001b[90m━━━━━━━━━━━━━━━━━━━━━━━━━━━━━━━━━━━━━━━━\u001b[0m \u001b[32m3.2/3.2 MB\u001b[0m \u001b[31m47.8 MB/s\u001b[0m eta \u001b[36m0:00:00\u001b[0m\n",
            "\u001b[?25hCollecting nodeenv>=0.11.1\n",
            "  Downloading nodeenv-1.7.0-py2.py3-none-any.whl (21 kB)\n",
            "Collecting identify>=1.0.0\n",
            "  Downloading identify-2.5.22-py2.py3-none-any.whl (98 kB)\n",
            "\u001b[2K     \u001b[90m━━━━━━━━━━━━━━━━━━━━━━━━━━━━━━━━━━━━━━━━\u001b[0m \u001b[32m98.8/98.8 kB\u001b[0m \u001b[31m10.6 MB/s\u001b[0m eta \u001b[36m0:00:00\u001b[0m\n",
            "\u001b[?25hCollecting cfgv>=2.0.0\n",
            "  Downloading cfgv-3.3.1-py2.py3-none-any.whl (7.3 kB)\n",
            "Requirement already satisfied: joblib>=1.1.1 in /usr/local/lib/python3.9/dist-packages (from scikit-learn->factor_analyzer) (1.2.0)\n",
            "Requirement already satisfied: threadpoolctl>=2.0.0 in /usr/local/lib/python3.9/dist-packages (from scikit-learn->factor_analyzer) (3.1.0)\n",
            "Requirement already satisfied: setuptools in /usr/local/lib/python3.9/dist-packages (from nodeenv>=0.11.1->pre-commit->factor_analyzer) (67.6.1)\n",
            "Requirement already satisfied: six>=1.5 in /usr/local/lib/python3.9/dist-packages (from python-dateutil>=2.8.1->pandas->factor_analyzer) (1.16.0)\n",
            "Requirement already satisfied: filelock<4,>=3.11 in /usr/local/lib/python3.9/dist-packages (from virtualenv>=20.10.0->pre-commit->factor_analyzer) (3.11.0)\n",
            "Requirement already satisfied: platformdirs<4,>=3.2 in /usr/local/lib/python3.9/dist-packages (from virtualenv>=20.10.0->pre-commit->factor_analyzer) (3.2.0)\n",
            "Collecting distlib<1,>=0.3.6\n",
            "  Downloading distlib-0.3.6-py2.py3-none-any.whl (468 kB)\n",
            "\u001b[2K     \u001b[90m━━━━━━━━━━━━━━━━━━━━━━━━━━━━━━━━━━━━━━\u001b[0m \u001b[32m468.5/468.5 kB\u001b[0m \u001b[31m35.2 MB/s\u001b[0m eta \u001b[36m0:00:00\u001b[0m\n",
            "\u001b[?25hBuilding wheels for collected packages: factor_analyzer\n",
            "  Building wheel for factor_analyzer (pyproject.toml) ... \u001b[?25l\u001b[?25hdone\n",
            "  Created wheel for factor_analyzer: filename=factor_analyzer-0.4.1-py2.py3-none-any.whl size=42034 sha256=674d8a91f323b8a6c8a0a9189b2eb5b316e4e3325e2d9bb1f041101fdd07313b\n",
            "  Stored in directory: /root/.cache/pip/wheels/6d/32/bd/460a71becd83f7d77152f437c2fd451f5c87bc19cfcdbfcd24\n",
            "Successfully built factor_analyzer\n",
            "Installing collected packages: distlib, virtualenv, nodeenv, identify, cfgv, pre-commit, factor_analyzer\n",
            "Successfully installed cfgv-3.3.1 distlib-0.3.6 factor_analyzer-0.4.1 identify-2.5.22 nodeenv-1.7.0 pre-commit-3.2.2 virtualenv-20.22.0\n"
          ]
        }
      ],
      "source": [
        "# Necessário instalar o pacote cada vez que for rodar o colab\n",
        "!pip install factor_analyzer"
      ]
    },
    {
      "cell_type": "code",
      "execution_count": null,
      "metadata": {
        "colab": {
          "background_save": true
        },
        "id": "t_10ny5MfE5z",
        "outputId": "cec60c41-7425-46ab-fff9-48d55023012f"
      },
      "outputs": [
        {
          "name": "stdout",
          "output_type": "stream",
          "text": [
            "A estatística do teste é 16350.98670112681 e seu respectivo p-valor é 0.0\n"
          ]
        }
      ],
      "source": [
        "# importando a funcao e realizando o teste\n",
        "from factor_analyzer.factor_analyzer import calculate_bartlett_sphericity\n",
        "#a função acima retorna 2 valores: estatística do teste (quiquadrado) e p-valor\n",
        "#chi_square, p_valor será o retorno da função\n",
        "chi_square, p_valor = calculate_bartlett_sphericity(df_scaled)\n",
        "#interesse em retornar o p-valor\n",
        "print(f\"A estatística do teste é {chi_square} e seu respectivo p-valor é {p_valor}\")"
      ]
    },
    {
      "cell_type": "markdown",
      "metadata": {
        "id": "q4ofc35z2p1Z"
      },
      "source": [
        "Como o p valor é menor que 0.05 podemos rejeitar a hipótese nula, isto é, podemos considerar que há correlação entre todas as variáveis.\n",
        "\n",
        "Portanto, podemos proceder com a análise fatorial."
      ]
    },
    {
      "cell_type": "markdown",
      "metadata": {
        "id": "MNaCChTSt5-m"
      },
      "source": [
        "## Atividade 6: Obtenha a medida de Kaiser-Meyer-Olkin e conclua se a análise fatorial é indicada.\n",
        "\n",
        "Pequenos valores de KMO indicam que as correlações entre os pares de variáveis não podem ser explicadas por outras variáveis, indicando que a análise fatorial não é adequada.\n",
        "KMO sempre varia entre 0 e 1, quanto maior melhor. Resultados abaixo de 0.5 indicam que análise fatorial não é adequada."
      ]
    },
    {
      "cell_type": "code",
      "execution_count": null,
      "metadata": {
        "colab": {
          "background_save": true
        },
        "id": "Wk7hvKSDfEzy",
        "outputId": "d24eefea-c0ff-4dcd-db93-c9b6ae932168"
      },
      "outputs": [
        {
          "data": {
            "text/plain": [
              "0.8722961734896166"
            ]
          },
          "execution_count": 47,
          "metadata": {},
          "output_type": "execute_result"
        }
      ],
      "source": [
        "from factor_analyzer.factor_analyzer import calculate_kmo\n",
        "#a função acima retorna o valor kmo de todas as variáveis e do modelo\n",
        "kmo_all, kmo_model = calculate_kmo(df_scaled)\n",
        "#interesse em retornar o valor kmo_model\n",
        "kmo_model"
      ]
    },
    {
      "cell_type": "markdown",
      "metadata": {
        "id": "kkuzmfei3F6T"
      },
      "source": [
        "Como o valor é alto, classificação ótima, podemos proceder com a análise fatorial."
      ]
    },
    {
      "cell_type": "markdown",
      "metadata": {
        "id": "qlNuMWw-uTK7"
      },
      "source": [
        "## Atividade 7: Encontre o número adequado de fatores para este problema.\n",
        "\n",
        "Para isso vamos usar a função `FactorAnalyzer` e o método `get_eigenvalues()` aplicado ao um objeto da classe `FactorAnalyzer`, após este calcular valores dos dados.\n",
        "\n",
        "O método `get_eigenvalues()` retorna dois objetos, sendo que o primeiro são os autovalores."
      ]
    },
    {
      "cell_type": "code",
      "execution_count": null,
      "metadata": {
        "colab": {
          "background_save": true
        },
        "id": "KarDiMc06CDd",
        "outputId": "205eccc9-319c-49a8-9607-2927a6eb19e2"
      },
      "outputs": [
        {
          "data": {
            "text/plain": [
              "array([5.92151727, 2.00891254, 1.42677516, 1.12303733, 0.97712618,\n",
              "       0.845517  , 0.71883385, 0.65518797, 0.52067003, 0.47727322,\n",
              "       0.45545863, 0.41706583, 0.39298698, 0.31397269, 0.28879626,\n",
              "       0.25133715, 0.20553193])"
            ]
          },
          "execution_count": 48,
          "metadata": {},
          "output_type": "execute_result"
        }
      ],
      "source": [
        "# importando a função FactorAnalyzer\n",
        "from factor_analyzer import FactorAnalyzer\n",
        "\n",
        "# criando um objeto para fazer análise fatorial (não há rotação no momento)\n",
        "fa = FactorAnalyzer(rotation=None)\n",
        "\n",
        "# aplicando a análise fatorial aos dados [apresentando os dados para o objeto fa; .fit para fazer o ajuste]\n",
        "fa.fit(df_scaled)\n",
        "\n",
        "# obtendo os autovalores (autovalores = eigenvalue = ev) (v = vetores)\n",
        "ev, v = fa.get_eigenvalues()\n",
        "#interesse em retornar o valor ev\n",
        "ev"
      ]
    },
    {
      "cell_type": "markdown",
      "metadata": {
        "id": "VgICIL2H36ew"
      },
      "source": [
        "Note que temos apenas 4 autovalores maiores que 1, portanto temos 4 fatores para os nosso dados. Um dos valores é bem próximo de 1, então poderíamos também considerar 3 fatores."
      ]
    },
    {
      "cell_type": "code",
      "execution_count": null,
      "metadata": {
        "colab": {
          "background_save": true
        },
        "id": "dcmJrIun7mKa",
        "outputId": "6130da04-0089-4a6c-c199-9b23107ea3f3"
      },
      "outputs": [
        {
          "data": {
            "image/png": "[encoded data removed]",
            "text/plain": [
              "<Figure size 640x480 with 1 Axes>"
            ]
          },
          "metadata": {},
          "output_type": "display_data"
        }
      ],
      "source": [
        "# Uma quantidade muito grande de valores pode tornar difícil essa leitura, portanto vamos usar um gráfico para facilitar.\n",
        "\n",
        "# importando matplotlib para fazer algumas customizações no gráfico\n",
        "import matplotlib.pyplot as plt\n",
        "\n",
        "# Criando um scree plot\n",
        "#range cria uma sequência que começa em 1 e vai até a quantidade máxima de colunas do df_scaled (qde máxima de fatores)\n",
        "#.shape retorna a quantidade de linhas e colunas; indice 1 para quantidade de colunas; +1 para incluir o número máximo de colunas com o superior\n",
        "#incluído do phyton\n",
        "sns.lineplot(x=range(1, df_scaled.shape[1]+1), y=ev)\n",
        "\n",
        "#inclindo título\n",
        "plt.title('Scree Plot')\n",
        "#nome eixo x = quantidade de fatores\n",
        "plt.xlabel('Fatores')\n",
        "#nome eixo y = autovalores\n",
        "plt.ylabel('Autovalores')\n",
        "#grid para facilitar olhar o gráfico\n",
        "plt.grid();"
      ]
    },
    {
      "cell_type": "markdown",
      "metadata": {
        "id": "cR4eV7Q28yPN"
      },
      "source": [
        "Podemos ver que há apenas 4 fatores que possuem autovalor maior que 1."
      ]
    },
    {
      "cell_type": "markdown",
      "metadata": {
        "id": "70CMpQs1v2tV"
      },
      "source": [
        "## Atividade 8: Calcule a variância explicada acumulada.\n",
        "\n",
        "Para isso vamos usar o método `get_factor_variance()` aplicado ao nosso objetivo usado na realizaação da análise fatorial."
      ]
    },
    {
      "cell_type": "code",
      "source": [
        "#Sugestão DANi: Você pode tentar uma resposta dessa forma:\n",
        "\n",
        "fa = FactorAnalyzer(rotation=None)\n",
        "\n",
        "fa.fit(df_scaled)\n",
        "\n",
        "variancia_fator = pd.DataFrame(fa.get_factor_variance(),\n",
        "index=['Variância','Variância Proporcional','Variância Acumulada'])\n",
        "\n",
        "variancia_fator"
      ],
      "metadata": {
        "id": "jt9Jc8m3R_C5"
      },
      "execution_count": null,
      "outputs": []
    },
    {
      "cell_type": "code",
      "execution_count": null,
      "metadata": {
        "colab": {
          "background_save": true
        },
        "id": "a2LIggxIDlh0",
        "outputId": "eb83fd01-3523-4484-8ccc-00abf1f32217"
      },
      "outputs": [
        {
          "data": {
            "text/html": [
              "\n",
              "  <div id=\"df-b5e2c65b-642b-4599-a897-45aabcbb3517\">\n",
              "    <div class=\"colab-df-container\">\n",
              "      <div>\n",
              "<style scoped>\n",
              "    .dataframe tbody tr th:only-of-type {\n",
              "        vertical-align: middle;\n",
              "    }\n",
              "\n",
              "    .dataframe tbody tr th {\n",
              "        vertical-align: top;\n",
              "    }\n",
              "\n",
              "    .dataframe thead th {\n",
              "        text-align: right;\n",
              "    }\n",
              "</style>\n",
              "<table border=\"1\" class=\"dataframe\">\n",
              "  <thead>\n",
              "    <tr style=\"text-align: right;\">\n",
              "      <th></th>\n",
              "      <th>Fator 0</th>\n",
              "      <th>Fator 1</th>\n",
              "      <th>Fator 2</th>\n",
              "      <th>Fator 3</th>\n",
              "    </tr>\n",
              "  </thead>\n",
              "  <tbody>\n",
              "    <tr>\n",
              "      <th>Variância</th>\n",
              "      <td>5.535126</td>\n",
              "      <td>1.545979</td>\n",
              "      <td>0.918842</td>\n",
              "      <td>0.609220</td>\n",
              "    </tr>\n",
              "    <tr>\n",
              "      <th>Variância Proporcional</th>\n",
              "      <td>0.325596</td>\n",
              "      <td>0.090940</td>\n",
              "      <td>0.054050</td>\n",
              "      <td>0.035836</td>\n",
              "    </tr>\n",
              "    <tr>\n",
              "      <th>Variância Acumulada</th>\n",
              "      <td>0.325596</td>\n",
              "      <td>0.416536</td>\n",
              "      <td>0.470585</td>\n",
              "      <td>0.506422</td>\n",
              "    </tr>\n",
              "  </tbody>\n",
              "</table>\n",
              "</div>\n",
              "      <button class=\"colab-df-convert\" onclick=\"convertToInteractive('df-b5e2c65b-642b-4599-a897-45aabcbb3517')\"\n",
              "              title=\"Convert this dataframe to an interactive table.\"\n",
              "              style=\"display:none;\">\n",
              "        \n",
              "  <svg xmlns=\"http://www.w3.org/2000/svg\" height=\"24px\"viewBox=\"0 0 24 24\"\n",
              "       width=\"24px\">\n",
              "    <path d=\"M0 0h24v24H0V0z\" fill=\"none\"/>\n",
              "    <path d=\"M18.56 5.44l.94 2.06.94-2.06 2.06-.94-2.06-.94-.94-2.06-.94 2.06-2.06.94zm-11 1L8.5 8.5l.94-2.06 2.06-.94-2.06-.94L8.5 2.5l-.94 2.06-2.06.94zm10 10l.94 2.06.94-2.06 2.06-.94-2.06-.94-.94-2.06-.94 2.06-2.06.94z\"/><path d=\"M17.41 7.96l-1.37-1.37c-.4-.4-.92-.59-1.43-.59-.52 0-1.04.2-1.43.59L10.3 9.45l-7.72 7.72c-.78.78-.78 2.05 0 2.83L4 21.41c.39.39.9.59 1.41.59.51 0 1.02-.2 1.41-.59l7.78-7.78 2.81-2.81c.8-.78.8-2.07 0-2.86zM5.41 20L4 18.59l7.72-7.72 1.47 1.35L5.41 20z\"/>\n",
              "  </svg>\n",
              "      </button>\n",
              "      \n",
              "  <style>\n",
              "    .colab-df-container {\n",
              "      display:flex;\n",
              "      flex-wrap:wrap;\n",
              "      gap: 12px;\n",
              "    }\n",
              "\n",
              "    .colab-df-convert {\n",
              "      background-color: #E8F0FE;\n",
              "      border: none;\n",
              "      border-radius: 50%;\n",
              "      cursor: pointer;\n",
              "      display: none;\n",
              "      fill: #1967D2;\n",
              "      height: 32px;\n",
              "      padding: 0 0 0 0;\n",
              "      width: 32px;\n",
              "    }\n",
              "\n",
              "    .colab-df-convert:hover {\n",
              "      background-color: #E2EBFA;\n",
              "      box-shadow: 0px 1px 2px rgba(60, 64, 67, 0.3), 0px 1px 3px 1px rgba(60, 64, 67, 0.15);\n",
              "      fill: #174EA6;\n",
              "    }\n",
              "\n",
              "    [theme=dark] .colab-df-convert {\n",
              "      background-color: #3B4455;\n",
              "      fill: #D2E3FC;\n",
              "    }\n",
              "\n",
              "    [theme=dark] .colab-df-convert:hover {\n",
              "      background-color: #434B5C;\n",
              "      box-shadow: 0px 1px 3px 1px rgba(0, 0, 0, 0.15);\n",
              "      filter: drop-shadow(0px 1px 2px rgba(0, 0, 0, 0.3));\n",
              "      fill: #FFFFFF;\n",
              "    }\n",
              "  </style>\n",
              "\n",
              "      <script>\n",
              "        const buttonEl =\n",
              "          document.querySelector('#df-b5e2c65b-642b-4599-a897-45aabcbb3517 button.colab-df-convert');\n",
              "        buttonEl.style.display =\n",
              "          google.colab.kernel.accessAllowed ? 'block' : 'none';\n",
              "\n",
              "        async function convertToInteractive(key) {\n",
              "          const element = document.querySelector('#df-b5e2c65b-642b-4599-a897-45aabcbb3517');\n",
              "          const dataTable =\n",
              "            await google.colab.kernel.invokeFunction('convertToInteractive',\n",
              "                                                     [key], {});\n",
              "          if (!dataTable) return;\n",
              "\n",
              "          const docLinkHtml = 'Like what you see? Visit the ' +\n",
              "            '<a target=\"_blank\" href=https://colab.research.google.com/notebooks/data_table.ipynb>data table notebook</a>'\n",
              "            + ' to learn more about interactive tables.';\n",
              "          element.innerHTML = '';\n",
              "          dataTable['output_type'] = 'display_data';\n",
              "          await google.colab.output.renderOutput(dataTable, element);\n",
              "          const docLink = document.createElement('div');\n",
              "          docLink.innerHTML = docLinkHtml;\n",
              "          element.appendChild(docLink);\n",
              "        }\n",
              "      </script>\n",
              "    </div>\n",
              "  </div>\n",
              "  "
            ],
            "text/plain": [
              "                         Fator 0   Fator 1   Fator 2   Fator 3\n",
              "Variância               5.535126  1.545979  0.918842  0.609220\n",
              "Variância Proporcional  0.325596  0.090940  0.054050  0.035836\n",
              "Variância Acumulada     0.325596  0.416536  0.470585  0.506422"
            ]
          },
          "execution_count": 50,
          "metadata": {},
          "output_type": "execute_result"
        }
      ],
      "source": [
        "# Atividade 8: Não é necessário executar o método FactorAnalyzer() novamente e nem definir a quantidade de fatores.\n",
        "# Verificar com base no resultado da Atividade 7, a porcentagem de variabilidade dos dados\n",
        "# criando um objeto para fazer análise fatorial com 4 fatores [recriando objeto fa com 4 valores]\n",
        "fa = FactorAnalyzer(n_factors=4, rotation=None)\n",
        "\n",
        "# aplicando a análise fatorial aos dados\n",
        "fa.fit(df_scaled)\n",
        "\n",
        "# criando nome para as colunas do DataFrame de cargas fatoriais\n",
        "colunas = []\n",
        "for i in range(4):\n",
        "  #append para add um elemento na coluna, no caso um str\n",
        "  colunas.append('Fator ' + str(i))\n",
        "\n",
        "# criando DataFrame para auxiliar a visualização do resultado [usa pd para criar df]\n",
        "variancia_fator = pd.DataFrame(fa.get_factor_variance(),\n",
        "                   index=['Variância','Variância Proporcional','Variância Acumulada'],\n",
        "                   columns=colunas)\n",
        "\n",
        "variancia_fator"
      ]
    },
    {
      "cell_type": "code",
      "execution_count": null,
      "metadata": {
        "colab": {
          "background_save": true
        },
        "id": "qGW1j3J2i88D",
        "outputId": "fe59f5da-1bcd-4d7c-8a13-ffcfec6f8ce4"
      },
      "outputs": [
        {
          "data": {
            "text/html": [
              "\n",
              "  <div id=\"df-68c5de09-ec9f-4be2-be91-91427604b2dc\">\n",
              "    <div class=\"colab-df-container\">\n",
              "      <div>\n",
              "<style scoped>\n",
              "    .dataframe tbody tr th:only-of-type {\n",
              "        vertical-align: middle;\n",
              "    }\n",
              "\n",
              "    .dataframe tbody tr th {\n",
              "        vertical-align: top;\n",
              "    }\n",
              "\n",
              "    .dataframe thead th {\n",
              "        text-align: right;\n",
              "    }\n",
              "</style>\n",
              "<table border=\"1\" class=\"dataframe\">\n",
              "  <thead>\n",
              "    <tr style=\"text-align: right;\">\n",
              "      <th></th>\n",
              "      <th>Comunalidades</th>\n",
              "    </tr>\n",
              "  </thead>\n",
              "  <tbody>\n",
              "    <tr>\n",
              "      <th>idade</th>\n",
              "      <td>0.230381</td>\n",
              "    </tr>\n",
              "    <tr>\n",
              "      <th>renda_mensal</th>\n",
              "      <td>0.561457</td>\n",
              "    </tr>\n",
              "    <tr>\n",
              "      <th>num_filhos_pequenos</th>\n",
              "      <td>0.425359</td>\n",
              "    </tr>\n",
              "    <tr>\n",
              "      <th>num_filhos_adolescentes</th>\n",
              "      <td>0.679658</td>\n",
              "    </tr>\n",
              "    <tr>\n",
              "      <th>num_dias_primeira_compra</th>\n",
              "      <td>0.225845</td>\n",
              "    </tr>\n",
              "    <tr>\n",
              "      <th>num_dias_ultima_compra</th>\n",
              "      <td>0.004418</td>\n",
              "    </tr>\n",
              "    <tr>\n",
              "      <th>gasto_vinho_ult_2anos</th>\n",
              "      <td>0.853652</td>\n",
              "    </tr>\n",
              "    <tr>\n",
              "      <th>gasto_prod_frutas_ult_2anos</th>\n",
              "      <td>0.556649</td>\n",
              "    </tr>\n",
              "    <tr>\n",
              "      <th>gasto_prod_carne_ult_2anos</th>\n",
              "      <td>0.657489</td>\n",
              "    </tr>\n",
              "    <tr>\n",
              "      <th>gasto_prod_peixe_ult_2anos</th>\n",
              "      <td>0.596786</td>\n",
              "    </tr>\n",
              "    <tr>\n",
              "      <th>gasto_prod_doces_ulti_2anos</th>\n",
              "      <td>0.541702</td>\n",
              "    </tr>\n",
              "    <tr>\n",
              "      <th>qtde_compras_desconto</th>\n",
              "      <td>0.378827</td>\n",
              "    </tr>\n",
              "    <tr>\n",
              "      <th>qtde_compras_web_restaurante</th>\n",
              "      <td>0.491412</td>\n",
              "    </tr>\n",
              "    <tr>\n",
              "      <th>qtde_compras_catalogo</th>\n",
              "      <td>0.642775</td>\n",
              "    </tr>\n",
              "    <tr>\n",
              "      <th>qtde_compras_loja</th>\n",
              "      <td>0.566576</td>\n",
              "    </tr>\n",
              "    <tr>\n",
              "      <th>qtde_vistas_web_ult_mes</th>\n",
              "      <td>0.845035</td>\n",
              "    </tr>\n",
              "    <tr>\n",
              "      <th>aceitou_qtde_oferta</th>\n",
              "      <td>0.351148</td>\n",
              "    </tr>\n",
              "  </tbody>\n",
              "</table>\n",
              "</div>\n",
              "      <button class=\"colab-df-convert\" onclick=\"convertToInteractive('df-68c5de09-ec9f-4be2-be91-91427604b2dc')\"\n",
              "              title=\"Convert this dataframe to an interactive table.\"\n",
              "              style=\"display:none;\">\n",
              "        \n",
              "  <svg xmlns=\"http://www.w3.org/2000/svg\" height=\"24px\"viewBox=\"0 0 24 24\"\n",
              "       width=\"24px\">\n",
              "    <path d=\"M0 0h24v24H0V0z\" fill=\"none\"/>\n",
              "    <path d=\"M18.56 5.44l.94 2.06.94-2.06 2.06-.94-2.06-.94-.94-2.06-.94 2.06-2.06.94zm-11 1L8.5 8.5l.94-2.06 2.06-.94-2.06-.94L8.5 2.5l-.94 2.06-2.06.94zm10 10l.94 2.06.94-2.06 2.06-.94-2.06-.94-.94-2.06-.94 2.06-2.06.94z\"/><path d=\"M17.41 7.96l-1.37-1.37c-.4-.4-.92-.59-1.43-.59-.52 0-1.04.2-1.43.59L10.3 9.45l-7.72 7.72c-.78.78-.78 2.05 0 2.83L4 21.41c.39.39.9.59 1.41.59.51 0 1.02-.2 1.41-.59l7.78-7.78 2.81-2.81c.8-.78.8-2.07 0-2.86zM5.41 20L4 18.59l7.72-7.72 1.47 1.35L5.41 20z\"/>\n",
              "  </svg>\n",
              "      </button>\n",
              "      \n",
              "  <style>\n",
              "    .colab-df-container {\n",
              "      display:flex;\n",
              "      flex-wrap:wrap;\n",
              "      gap: 12px;\n",
              "    }\n",
              "\n",
              "    .colab-df-convert {\n",
              "      background-color: #E8F0FE;\n",
              "      border: none;\n",
              "      border-radius: 50%;\n",
              "      cursor: pointer;\n",
              "      display: none;\n",
              "      fill: #1967D2;\n",
              "      height: 32px;\n",
              "      padding: 0 0 0 0;\n",
              "      width: 32px;\n",
              "    }\n",
              "\n",
              "    .colab-df-convert:hover {\n",
              "      background-color: #E2EBFA;\n",
              "      box-shadow: 0px 1px 2px rgba(60, 64, 67, 0.3), 0px 1px 3px 1px rgba(60, 64, 67, 0.15);\n",
              "      fill: #174EA6;\n",
              "    }\n",
              "\n",
              "    [theme=dark] .colab-df-convert {\n",
              "      background-color: #3B4455;\n",
              "      fill: #D2E3FC;\n",
              "    }\n",
              "\n",
              "    [theme=dark] .colab-df-convert:hover {\n",
              "      background-color: #434B5C;\n",
              "      box-shadow: 0px 1px 3px 1px rgba(0, 0, 0, 0.15);\n",
              "      filter: drop-shadow(0px 1px 2px rgba(0, 0, 0, 0.3));\n",
              "      fill: #FFFFFF;\n",
              "    }\n",
              "  </style>\n",
              "\n",
              "      <script>\n",
              "        const buttonEl =\n",
              "          document.querySelector('#df-68c5de09-ec9f-4be2-be91-91427604b2dc button.colab-df-convert');\n",
              "        buttonEl.style.display =\n",
              "          google.colab.kernel.accessAllowed ? 'block' : 'none';\n",
              "\n",
              "        async function convertToInteractive(key) {\n",
              "          const element = document.querySelector('#df-68c5de09-ec9f-4be2-be91-91427604b2dc');\n",
              "          const dataTable =\n",
              "            await google.colab.kernel.invokeFunction('convertToInteractive',\n",
              "                                                     [key], {});\n",
              "          if (!dataTable) return;\n",
              "\n",
              "          const docLinkHtml = 'Like what you see? Visit the ' +\n",
              "            '<a target=\"_blank\" href=https://colab.research.google.com/notebooks/data_table.ipynb>data table notebook</a>'\n",
              "            + ' to learn more about interactive tables.';\n",
              "          element.innerHTML = '';\n",
              "          dataTable['output_type'] = 'display_data';\n",
              "          await google.colab.output.renderOutput(dataTable, element);\n",
              "          const docLink = document.createElement('div');\n",
              "          docLink.innerHTML = docLinkHtml;\n",
              "          element.appendChild(docLink);\n",
              "        }\n",
              "      </script>\n",
              "    </div>\n",
              "  </div>\n",
              "  "
            ],
            "text/plain": [
              "                              Comunalidades\n",
              "idade                              0.230381\n",
              "renda_mensal                       0.561457\n",
              "num_filhos_pequenos                0.425359\n",
              "num_filhos_adolescentes            0.679658\n",
              "num_dias_primeira_compra           0.225845\n",
              "num_dias_ultima_compra             0.004418\n",
              "gasto_vinho_ult_2anos              0.853652\n",
              "gasto_prod_frutas_ult_2anos        0.556649\n",
              "gasto_prod_carne_ult_2anos         0.657489\n",
              "gasto_prod_peixe_ult_2anos         0.596786\n",
              "gasto_prod_doces_ulti_2anos        0.541702\n",
              "qtde_compras_desconto              0.378827\n",
              "qtde_compras_web_restaurante       0.491412\n",
              "qtde_compras_catalogo              0.642775\n",
              "qtde_compras_loja                  0.566576\n",
              "qtde_vistas_web_ult_mes            0.845035\n",
              "aceitou_qtde_oferta                0.351148"
            ]
          },
          "execution_count": 51,
          "metadata": {},
          "output_type": "execute_result"
        }
      ],
      "source": [
        "Comunalidades = pd.DataFrame(fa.get_communalities(),\n",
        "                             index=df_scaled.columns,\n",
        "                             columns=['Comunalidades'])\n",
        "\n",
        "Comunalidades"
      ]
    },
    {
      "cell_type": "code",
      "execution_count": null,
      "metadata": {
        "colab": {
          "background_save": true
        },
        "id": "5rMNdMsXiuon",
        "outputId": "8566fef2-63bf-4631-f9b4-85adac4a8a26"
      },
      "outputs": [
        {
          "data": {
            "text/html": [
              "\n",
              "  <div id=\"df-cae49445-e880-4ce6-85cc-1036bca7e2d2\">\n",
              "    <div class=\"colab-df-container\">\n",
              "      <div>\n",
              "<style scoped>\n",
              "    .dataframe tbody tr th:only-of-type {\n",
              "        vertical-align: middle;\n",
              "    }\n",
              "\n",
              "    .dataframe tbody tr th {\n",
              "        vertical-align: top;\n",
              "    }\n",
              "\n",
              "    .dataframe thead th {\n",
              "        text-align: right;\n",
              "    }\n",
              "</style>\n",
              "<table border=\"1\" class=\"dataframe\">\n",
              "  <thead>\n",
              "    <tr style=\"text-align: right;\">\n",
              "      <th></th>\n",
              "      <th>Comunalidades</th>\n",
              "    </tr>\n",
              "  </thead>\n",
              "  <tbody>\n",
              "    <tr>\n",
              "      <th>renda_mensal</th>\n",
              "      <td>0.561457</td>\n",
              "    </tr>\n",
              "    <tr>\n",
              "      <th>num_filhos_adolescentes</th>\n",
              "      <td>0.679658</td>\n",
              "    </tr>\n",
              "    <tr>\n",
              "      <th>gasto_vinho_ult_2anos</th>\n",
              "      <td>0.853652</td>\n",
              "    </tr>\n",
              "    <tr>\n",
              "      <th>gasto_prod_frutas_ult_2anos</th>\n",
              "      <td>0.556649</td>\n",
              "    </tr>\n",
              "    <tr>\n",
              "      <th>gasto_prod_carne_ult_2anos</th>\n",
              "      <td>0.657489</td>\n",
              "    </tr>\n",
              "    <tr>\n",
              "      <th>gasto_prod_peixe_ult_2anos</th>\n",
              "      <td>0.596786</td>\n",
              "    </tr>\n",
              "    <tr>\n",
              "      <th>gasto_prod_doces_ulti_2anos</th>\n",
              "      <td>0.541702</td>\n",
              "    </tr>\n",
              "    <tr>\n",
              "      <th>qtde_compras_catalogo</th>\n",
              "      <td>0.642775</td>\n",
              "    </tr>\n",
              "    <tr>\n",
              "      <th>qtde_compras_loja</th>\n",
              "      <td>0.566576</td>\n",
              "    </tr>\n",
              "    <tr>\n",
              "      <th>qtde_vistas_web_ult_mes</th>\n",
              "      <td>0.845035</td>\n",
              "    </tr>\n",
              "  </tbody>\n",
              "</table>\n",
              "</div>\n",
              "      <button class=\"colab-df-convert\" onclick=\"convertToInteractive('df-cae49445-e880-4ce6-85cc-1036bca7e2d2')\"\n",
              "              title=\"Convert this dataframe to an interactive table.\"\n",
              "              style=\"display:none;\">\n",
              "        \n",
              "  <svg xmlns=\"http://www.w3.org/2000/svg\" height=\"24px\"viewBox=\"0 0 24 24\"\n",
              "       width=\"24px\">\n",
              "    <path d=\"M0 0h24v24H0V0z\" fill=\"none\"/>\n",
              "    <path d=\"M18.56 5.44l.94 2.06.94-2.06 2.06-.94-2.06-.94-.94-2.06-.94 2.06-2.06.94zm-11 1L8.5 8.5l.94-2.06 2.06-.94-2.06-.94L8.5 2.5l-.94 2.06-2.06.94zm10 10l.94 2.06.94-2.06 2.06-.94-2.06-.94-.94-2.06-.94 2.06-2.06.94z\"/><path d=\"M17.41 7.96l-1.37-1.37c-.4-.4-.92-.59-1.43-.59-.52 0-1.04.2-1.43.59L10.3 9.45l-7.72 7.72c-.78.78-.78 2.05 0 2.83L4 21.41c.39.39.9.59 1.41.59.51 0 1.02-.2 1.41-.59l7.78-7.78 2.81-2.81c.8-.78.8-2.07 0-2.86zM5.41 20L4 18.59l7.72-7.72 1.47 1.35L5.41 20z\"/>\n",
              "  </svg>\n",
              "      </button>\n",
              "      \n",
              "  <style>\n",
              "    .colab-df-container {\n",
              "      display:flex;\n",
              "      flex-wrap:wrap;\n",
              "      gap: 12px;\n",
              "    }\n",
              "\n",
              "    .colab-df-convert {\n",
              "      background-color: #E8F0FE;\n",
              "      border: none;\n",
              "      border-radius: 50%;\n",
              "      cursor: pointer;\n",
              "      display: none;\n",
              "      fill: #1967D2;\n",
              "      height: 32px;\n",
              "      padding: 0 0 0 0;\n",
              "      width: 32px;\n",
              "    }\n",
              "\n",
              "    .colab-df-convert:hover {\n",
              "      background-color: #E2EBFA;\n",
              "      box-shadow: 0px 1px 2px rgba(60, 64, 67, 0.3), 0px 1px 3px 1px rgba(60, 64, 67, 0.15);\n",
              "      fill: #174EA6;\n",
              "    }\n",
              "\n",
              "    [theme=dark] .colab-df-convert {\n",
              "      background-color: #3B4455;\n",
              "      fill: #D2E3FC;\n",
              "    }\n",
              "\n",
              "    [theme=dark] .colab-df-convert:hover {\n",
              "      background-color: #434B5C;\n",
              "      box-shadow: 0px 1px 3px 1px rgba(0, 0, 0, 0.15);\n",
              "      filter: drop-shadow(0px 1px 2px rgba(0, 0, 0, 0.3));\n",
              "      fill: #FFFFFF;\n",
              "    }\n",
              "  </style>\n",
              "\n",
              "      <script>\n",
              "        const buttonEl =\n",
              "          document.querySelector('#df-cae49445-e880-4ce6-85cc-1036bca7e2d2 button.colab-df-convert');\n",
              "        buttonEl.style.display =\n",
              "          google.colab.kernel.accessAllowed ? 'block' : 'none';\n",
              "\n",
              "        async function convertToInteractive(key) {\n",
              "          const element = document.querySelector('#df-cae49445-e880-4ce6-85cc-1036bca7e2d2');\n",
              "          const dataTable =\n",
              "            await google.colab.kernel.invokeFunction('convertToInteractive',\n",
              "                                                     [key], {});\n",
              "          if (!dataTable) return;\n",
              "\n",
              "          const docLinkHtml = 'Like what you see? Visit the ' +\n",
              "            '<a target=\"_blank\" href=https://colab.research.google.com/notebooks/data_table.ipynb>data table notebook</a>'\n",
              "            + ' to learn more about interactive tables.';\n",
              "          element.innerHTML = '';\n",
              "          dataTable['output_type'] = 'display_data';\n",
              "          await google.colab.output.renderOutput(dataTable, element);\n",
              "          const docLink = document.createElement('div');\n",
              "          docLink.innerHTML = docLinkHtml;\n",
              "          element.appendChild(docLink);\n",
              "        }\n",
              "      </script>\n",
              "    </div>\n",
              "  </div>\n",
              "  "
            ],
            "text/plain": [
              "                             Comunalidades\n",
              "renda_mensal                      0.561457\n",
              "num_filhos_adolescentes           0.679658\n",
              "gasto_vinho_ult_2anos             0.853652\n",
              "gasto_prod_frutas_ult_2anos       0.556649\n",
              "gasto_prod_carne_ult_2anos        0.657489\n",
              "gasto_prod_peixe_ult_2anos        0.596786\n",
              "gasto_prod_doces_ulti_2anos       0.541702\n",
              "qtde_compras_catalogo             0.642775\n",
              "qtde_compras_loja                 0.566576\n",
              "qtde_vistas_web_ult_mes           0.845035"
            ]
          },
          "execution_count": 52,
          "metadata": {},
          "output_type": "execute_result"
        }
      ],
      "source": [
        "# variáveis com maior poder de explicação no fator\n",
        "Comunalidades[Comunalidades['Comunalidades'] > 0.5]"
      ]
    },
    {
      "cell_type": "markdown",
      "metadata": {
        "id": "ggEHwDueuym9"
      },
      "source": [
        "## Atividade 9: Rotacione os fatores.\n",
        "\n",
        "Como estamos trabalhando com fatores que influenciam cliente, é interessante não ter um número muito grande, por isso vamos usar 4 fatores na análise a seguir.\n",
        "\n",
        "Esse processo pode ser feito de forma simples ao passar para a função `FactorAnalyzer()` os parâmetros de interesse, que no nosso caso são `n_factors` e `rotation='varimax`.\n",
        "\n",
        "Após expor nosso objeto aos dados, vamos acessar o atributo `loadinds_` que possui as cargas fatoriais."
      ]
    },
    {
      "cell_type": "code",
      "execution_count": null,
      "metadata": {
        "colab": {
          "background_save": true
        },
        "id": "xcNoi7wjUsq4",
        "outputId": "cceda6b7-3b1b-4bfa-8efa-4e130f6fda6e"
      },
      "outputs": [
        {
          "ename": "NameError",
          "evalue": "ignored",
          "output_type": "error",
          "traceback": [
            "\u001b[0;31m---------------------------------------------------------------------------\u001b[0m",
            "\u001b[0;31mNameError\u001b[0m                                 Traceback (most recent call last)",
            "\u001b[0;32m<ipython-input-53-9989f50f067c>\u001b[0m in \u001b[0;36m<cell line: 3>\u001b[0;34m()\u001b[0m\n\u001b[1;32m      1\u001b[0m \u001b[0;31m# realizando a análise fatorial com rotação\u001b[0m\u001b[0;34m\u001b[0m\u001b[0;34m\u001b[0m\u001b[0m\n\u001b[1;32m      2\u001b[0m \u001b[0mfa2\u001b[0m \u001b[0;34m=\u001b[0m \u001b[0mFactorAnalyzer\u001b[0m\u001b[0;34m(\u001b[0m\u001b[0mn_factors\u001b[0m\u001b[0;34m=\u001b[0m\u001b[0;36m4\u001b[0m\u001b[0;34m,\u001b[0m \u001b[0mrotation\u001b[0m\u001b[0;34m=\u001b[0m\u001b[0;34m'varimax'\u001b[0m\u001b[0;34m)\u001b[0m\u001b[0;34m\u001b[0m\u001b[0;34m\u001b[0m\u001b[0m\n\u001b[0;32m----> 3\u001b[0;31m \u001b[0mfa2\u001b[0m\u001b[0;34m.\u001b[0m\u001b[0mfit\u001b[0m\u001b[0;34m(\u001b[0m\u001b[0mdf2\u001b[0m\u001b[0;34m)\u001b[0m\u001b[0;34m\u001b[0m\u001b[0;34m\u001b[0m\u001b[0m\n\u001b[0m\u001b[1;32m      4\u001b[0m \u001b[0;34m\u001b[0m\u001b[0m\n\u001b[1;32m      5\u001b[0m \u001b[0;31m# criando DataFrame de cargas fatoriais\u001b[0m\u001b[0;34m\u001b[0m\u001b[0;34m\u001b[0m\u001b[0m\n",
            "\u001b[0;31mNameError\u001b[0m: name 'df2' is not defined"
          ]
        }
      ],
      "source": [
        "# realizando a análise fatorial com rotação\n",
        "fa2 = FactorAnalyzer(n_factors=4, rotation='varimax')\n",
        "fa2.fit(df2)\n",
        "\n",
        "# criando DataFrame de cargas fatoriais\n",
        "cargas_fat = pd.DataFrame(fa2.loadings_,\n",
        "                          index=df2.columns,\n",
        "                          columns=colunas)\n",
        "cargas_fat"
      ]
    },
    {
      "cell_type": "code",
      "execution_count": null,
      "metadata": {
        "colab": {
          "background_save": true
        },
        "id": "7FPSqc52IrLq"
      },
      "outputs": [],
      "source": [
        "# observando o valor das cargas fatoriais com heatmap\n",
        "sns.heatmap(cargas_fat, vmin=-1, vmax=1, annot=True);"
      ]
    },
    {
      "cell_type": "markdown",
      "metadata": {
        "id": "QSD8M4JZvSDs"
      },
      "source": [
        "## Atividade 10: Obtenha a relação de cada fator com as variáveis que ele está influenciando.\n",
        "\n",
        "Cargas fatoriais indicam quanto um fator explica uma variável. Esses valores variam de -1 a 1. Quanto mais próximo de -1 ou de 1, mais o fator explica a variável.\n",
        "\n",
        "Vamos estabelecer um valor de corte para poder entender quais fatores explicam quais variáveis. Vamos considerar que esse valor de corte será 0.5."
      ]
    },
    {
      "cell_type": "code",
      "execution_count": null,
      "metadata": {
        "colab": {
          "background_save": true
        },
        "id": "xqx6dUATvPqi"
      },
      "outputs": [],
      "source": [
        "# criando o dicionário\n",
        "fatores_variaveis = {}\n",
        "\n",
        "# preenchendo o dicionário\n",
        "for i in range(4):\n",
        "  fatores_variaveis['Fator ' + str(i)] = cargas_fat[abs(cargas_fat.iloc[:,i]) > 0.5].iloc[:,i].index.tolist()\n",
        "\n",
        "fatores_variaveis"
      ]
    },
    {
      "cell_type": "code",
      "execution_count": null,
      "metadata": {
        "colab": {
          "background_save": true
        },
        "id": "IidfqhM6k2Sd"
      },
      "outputs": [],
      "source": []
    },
    {
      "cell_type": "markdown",
      "metadata": {
        "id": "oH3WsMP7veQA"
      },
      "source": [
        "## Atividade 11: Encontre um nome que represente cada fator."
      ]
    },
    {
      "cell_type": "markdown",
      "metadata": {
        "id": "TQ4l_f61JUjl"
      },
      "source": [
        "\n",
        "*   Fator 0: Poder de compra (no qual a renda mensal define a quantidade de gastos variado)\n",
        "*   Fator 1: Filhos adolescentes\n",
        "*   Fator 2: Monitoramento de descontos\n",
        "*   Fator 3: Consumo de vinho"
      ]
    }
  ],
  "metadata": {
    "colab": {
      "provenance": []
    },
    "kernelspec": {
      "display_name": "Python 3",
      "name": "python3"
    },
    "language_info": {
      "name": "python"
    }
  },
  "nbformat": 4,
  "nbformat_minor": 0
}